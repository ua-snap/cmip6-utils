{
 "cells": [
  {
   "cell_type": "markdown",
   "id": "81fca71a-9989-449d-bef8-67bd6c807be5",
   "metadata": {},
   "source": [
    "# Explore grids of CMIP6\n",
    "\n",
    "This notebook is for exploring the grids used by CMIP6 models. We are mainly interested in the variation in resolution, as we assume all grids will be rectilinear WGS84 grids and will vary mostly in resolution, but are unsure about how much they will vary."
   ]
  },
  {
   "cell_type": "code",
   "execution_count": 1,
   "id": "11fac024-9a4d-4038-b5cf-2290b6f52a36",
   "metadata": {},
   "outputs": [],
   "source": [
    "from pathlib import Path\n",
    "import numpy as np\n",
    "import pandas as pd\n",
    "import xarray as xr\n",
    "from math import radians"
   ]
  },
  {
   "cell_type": "code",
   "execution_count": 2,
   "id": "73ca8d71-c536-48be-81d8-98b84cd388fa",
   "metadata": {},
   "outputs": [],
   "source": [
    "cmip6_dir = Path(\"/beegfs/CMIP6/arctic-cmip6/CMIP6\")"
   ]
  },
  {
   "cell_type": "markdown",
   "id": "9b3a4be8-c7e4-4dd2-a966-fd526167c5c8",
   "metadata": {},
   "source": [
    "Get a list of one file for each model. Each one should have monthly temperature, with a file starting in 2015-01:"
   ]
  },
  {
   "cell_type": "code",
   "execution_count": 3,
   "id": "4cd0bb31-eddf-4866-9a46-61cf2c720a27",
   "metadata": {},
   "outputs": [
    {
     "name": "stdout",
     "output_type": "stream",
     "text": [
      "Unique models (files): 12\n"
     ]
    },
    {
     "data": {
      "text/plain": [
       "[PosixPath('/beegfs/CMIP6/arctic-cmip6/CMIP6/ScenarioMIP/NOAA-GFDL/GFDL-ESM4/ssp585/r1i1p1f1/Amon/tas/gr1/v20180701/tas_Amon_GFDL-ESM4_ssp585_r1i1p1f1_gr1_201501-210012.nc'),\n",
       " PosixPath('/beegfs/CMIP6/arctic-cmip6/CMIP6/ScenarioMIP/NIMS-KMA/KACE-1-0-G/ssp585/r1i1p1f1/Amon/tas/gr/v20190920/tas_Amon_KACE-1-0-G_ssp585_r1i1p1f1_gr_201501-210012.nc'),\n",
       " PosixPath('/beegfs/CMIP6/arctic-cmip6/CMIP6/ScenarioMIP/CNRM-CERFACS/CNRM-CM6-1-HR/ssp585/r1i1p1f2/Amon/tas/gr/v20191202/tas_Amon_CNRM-CM6-1-HR_ssp585_r1i1p1f2_gr_201501-210012.nc'),\n",
       " PosixPath('/beegfs/CMIP6/arctic-cmip6/CMIP6/ScenarioMIP/NCC/NorESM2-MM/ssp585/r1i1p1f1/Amon/tas/gn/v20191108/tas_Amon_NorESM2-MM_ssp585_r1i1p1f1_gn_201501-202012.nc'),\n",
       " PosixPath('/beegfs/CMIP6/arctic-cmip6/CMIP6/ScenarioMIP/AS-RCEC/TaiESM1/ssp585/r1i1p1f1/Amon/tas/gn/v20200901/tas_Amon_TaiESM1_ssp585_r1i1p1f1_gn_201501-210012.nc'),\n",
       " PosixPath('/beegfs/CMIP6/arctic-cmip6/CMIP6/ScenarioMIP/MOHC/HadGEM3-GC31-MM/ssp585/r1i1p1f3/Amon/tas/gn/v20200515/tas_Amon_HadGEM3-GC31-MM_ssp585_r1i1p1f3_gn_201501-202912.nc'),\n",
       " PosixPath('/beegfs/CMIP6/arctic-cmip6/CMIP6/ScenarioMIP/MOHC/HadGEM3-GC31-LL/ssp585/r1i1p1f3/Amon/tas/gn/v20200114/tas_Amon_HadGEM3-GC31-LL_ssp585_r1i1p1f3_gn_201501-204912.nc'),\n",
       " PosixPath('/beegfs/CMIP6/arctic-cmip6/CMIP6/ScenarioMIP/MIROC/MIROC6/ssp585/r1i1p1f1/Amon/tas/gn/v20190627/tas_Amon_MIROC6_ssp585_r1i1p1f1_gn_201501-210012.nc'),\n",
       " PosixPath('/beegfs/CMIP6/arctic-cmip6/CMIP6/ScenarioMIP/EC-Earth-Consortium/EC-Earth3-Veg/ssp585/r1i1p1f1/Amon/tas/gr/v20200225/tas_Amon_EC-Earth3-Veg_ssp585_r1i1p1f1_gr_201501-201512.nc'),\n",
       " PosixPath('/beegfs/CMIP6/arctic-cmip6/CMIP6/ScenarioMIP/NCAR/CESM2/ssp585/r11i1p1f1/Amon/tas/gn/v20200528/tas_Amon_CESM2_ssp585_r11i1p1f1_gn_201501-206412.nc'),\n",
       " PosixPath('/beegfs/CMIP6/arctic-cmip6/CMIP6/ScenarioMIP/NCAR/CESM2-WACCM/ssp585/r1i1p1f1/Amon/tas/gn/v20200702/tas_Amon_CESM2-WACCM_ssp585_r1i1p1f1_gn_201501-210012.nc'),\n",
       " PosixPath('/beegfs/CMIP6/arctic-cmip6/CMIP6/ScenarioMIP/MPI-M/MPI-ESM1-2-LR/ssp585/r1i1p1f1/Amon/tas/gn/v20190710/tas_Amon_MPI-ESM1-2-LR_ssp585_r1i1p1f1_gn_201501-203412.nc')]"
      ]
     },
     "execution_count": 3,
     "metadata": {},
     "output_type": "execute_result"
    }
   ],
   "source": [
    "fps = list(cmip6_dir.joinpath(\"ScenarioMIP\").glob(\"*/*/ssp585/*/Amon/tas/*/*/*201501*.nc\"))\n",
    "print(\"Unique models (files):\", len(fps))\n",
    "fps"
   ]
  },
  {
   "cell_type": "code",
   "execution_count": 4,
   "id": "61de43bb-d0e4-4c66-a569-3b9207e2b228",
   "metadata": {},
   "outputs": [],
   "source": [
    "def get_res(fp):\n",
    "    with xr.open_dataset(fp) as ds:\n",
    "        lat_res, lon_res = np.diff(ds.lat)[0].round(2), np.diff(ds.lon)[0].round(2)\n",
    "        \n",
    "    return lat_res, lon_res"
   ]
  },
  {
   "cell_type": "code",
   "execution_count": 5,
   "id": "1a529eb9-3183-4b91-b7a9-31600319ef47",
   "metadata": {},
   "outputs": [
    {
     "name": "stderr",
     "output_type": "stream",
     "text": [
      "/home/kmredilla/miniconda3/envs/cmip6-utils/lib/python3.9/site-packages/xarray/conventions.py:521: SerializationWarning: variable 'tas' has multiple fill values {1e+20, 1e+20}, decoding all values to NaN.\n",
      "  new_vars[k] = decode_cf_variable(\n"
     ]
    }
   ],
   "source": [
    "rows = []\n",
    "for fp in fps:\n",
    "    model = fp.parent.parent.parent.parent.parent.parent.parent.name\n",
    "    inst = fp.parent.parent.parent.parent.parent.parent.parent.parent.name\n",
    "    lat_res, lon_res = get_res(fp)\n",
    "    ysize_km = np.round(lat_res * 110)\n",
    "    xsize_km = np.abs(np.round(lon_res * (111.320 * np.cos(radians(65)))))\n",
    "    rows.append({\n",
    "        \"inst_model\": f\"{inst}_{model}\",\n",
    "        \"lat_res\": lat_res,\n",
    "        \"lon_res\": lon_res,\n",
    "        \"ysize_km\": ysize_km,\n",
    "        \"xsize_km\": xsize_km\n",
    "    })\n",
    "\n",
    "df = pd.DataFrame(rows)"
   ]
  },
  {
   "cell_type": "code",
   "execution_count": 6,
   "id": "273fe24f-e433-402c-b7fc-b18e1ed91b24",
   "metadata": {},
   "outputs": [
    {
     "data": {
      "text/html": [
       "<div>\n",
       "<style scoped>\n",
       "    .dataframe tbody tr th:only-of-type {\n",
       "        vertical-align: middle;\n",
       "    }\n",
       "\n",
       "    .dataframe tbody tr th {\n",
       "        vertical-align: top;\n",
       "    }\n",
       "\n",
       "    .dataframe thead th {\n",
       "        text-align: right;\n",
       "    }\n",
       "</style>\n",
       "<table border=\"1\" class=\"dataframe\">\n",
       "  <thead>\n",
       "    <tr style=\"text-align: right;\">\n",
       "      <th></th>\n",
       "      <th>inst_model</th>\n",
       "      <th>lat_res</th>\n",
       "      <th>lon_res</th>\n",
       "      <th>ysize_km</th>\n",
       "      <th>xsize_km</th>\n",
       "    </tr>\n",
       "  </thead>\n",
       "  <tbody>\n",
       "    <tr>\n",
       "      <th>0</th>\n",
       "      <td>NOAA-GFDL_GFDL-ESM4</td>\n",
       "      <td>1.00</td>\n",
       "      <td>1.25</td>\n",
       "      <td>110.0</td>\n",
       "      <td>59.0</td>\n",
       "    </tr>\n",
       "    <tr>\n",
       "      <th>1</th>\n",
       "      <td>NIMS-KMA_KACE-1-0-G</td>\n",
       "      <td>1.25</td>\n",
       "      <td>1.88</td>\n",
       "      <td>138.0</td>\n",
       "      <td>88.0</td>\n",
       "    </tr>\n",
       "    <tr>\n",
       "      <th>2</th>\n",
       "      <td>CNRM-CERFACS_CNRM-CM6-1-HR</td>\n",
       "      <td>0.50</td>\n",
       "      <td>0.50</td>\n",
       "      <td>55.0</td>\n",
       "      <td>24.0</td>\n",
       "    </tr>\n",
       "    <tr>\n",
       "      <th>3</th>\n",
       "      <td>NCC_NorESM2-MM</td>\n",
       "      <td>0.94</td>\n",
       "      <td>1.25</td>\n",
       "      <td>103.0</td>\n",
       "      <td>59.0</td>\n",
       "    </tr>\n",
       "    <tr>\n",
       "      <th>4</th>\n",
       "      <td>AS-RCEC_TaiESM1</td>\n",
       "      <td>0.94</td>\n",
       "      <td>1.25</td>\n",
       "      <td>103.0</td>\n",
       "      <td>59.0</td>\n",
       "    </tr>\n",
       "    <tr>\n",
       "      <th>5</th>\n",
       "      <td>MOHC_HadGEM3-GC31-MM</td>\n",
       "      <td>0.56</td>\n",
       "      <td>0.83</td>\n",
       "      <td>62.0</td>\n",
       "      <td>39.0</td>\n",
       "    </tr>\n",
       "    <tr>\n",
       "      <th>6</th>\n",
       "      <td>MOHC_HadGEM3-GC31-LL</td>\n",
       "      <td>1.25</td>\n",
       "      <td>1.88</td>\n",
       "      <td>138.0</td>\n",
       "      <td>88.0</td>\n",
       "    </tr>\n",
       "    <tr>\n",
       "      <th>7</th>\n",
       "      <td>MIROC_MIROC6</td>\n",
       "      <td>1.39</td>\n",
       "      <td>1.41</td>\n",
       "      <td>153.0</td>\n",
       "      <td>66.0</td>\n",
       "    </tr>\n",
       "    <tr>\n",
       "      <th>8</th>\n",
       "      <td>EC-Earth-Consortium_EC-Earth3-Veg</td>\n",
       "      <td>0.70</td>\n",
       "      <td>0.70</td>\n",
       "      <td>77.0</td>\n",
       "      <td>33.0</td>\n",
       "    </tr>\n",
       "    <tr>\n",
       "      <th>9</th>\n",
       "      <td>NCAR_CESM2</td>\n",
       "      <td>0.94</td>\n",
       "      <td>1.25</td>\n",
       "      <td>103.0</td>\n",
       "      <td>59.0</td>\n",
       "    </tr>\n",
       "    <tr>\n",
       "      <th>10</th>\n",
       "      <td>NCAR_CESM2-WACCM</td>\n",
       "      <td>0.94</td>\n",
       "      <td>1.25</td>\n",
       "      <td>103.0</td>\n",
       "      <td>59.0</td>\n",
       "    </tr>\n",
       "    <tr>\n",
       "      <th>11</th>\n",
       "      <td>MPI-M_MPI-ESM1-2-LR</td>\n",
       "      <td>1.85</td>\n",
       "      <td>1.88</td>\n",
       "      <td>204.0</td>\n",
       "      <td>88.0</td>\n",
       "    </tr>\n",
       "  </tbody>\n",
       "</table>\n",
       "</div>"
      ],
      "text/plain": [
       "                           inst_model  lat_res  lon_res  ysize_km  xsize_km\n",
       "0                 NOAA-GFDL_GFDL-ESM4     1.00     1.25     110.0      59.0\n",
       "1                 NIMS-KMA_KACE-1-0-G     1.25     1.88     138.0      88.0\n",
       "2          CNRM-CERFACS_CNRM-CM6-1-HR     0.50     0.50      55.0      24.0\n",
       "3                      NCC_NorESM2-MM     0.94     1.25     103.0      59.0\n",
       "4                     AS-RCEC_TaiESM1     0.94     1.25     103.0      59.0\n",
       "5                MOHC_HadGEM3-GC31-MM     0.56     0.83      62.0      39.0\n",
       "6                MOHC_HadGEM3-GC31-LL     1.25     1.88     138.0      88.0\n",
       "7                        MIROC_MIROC6     1.39     1.41     153.0      66.0\n",
       "8   EC-Earth-Consortium_EC-Earth3-Veg     0.70     0.70      77.0      33.0\n",
       "9                          NCAR_CESM2     0.94     1.25     103.0      59.0\n",
       "10                   NCAR_CESM2-WACCM     0.94     1.25     103.0      59.0\n",
       "11                MPI-M_MPI-ESM1-2-LR     1.85     1.88     204.0      88.0"
      ]
     },
     "execution_count": 6,
     "metadata": {},
     "output_type": "execute_result"
    }
   ],
   "source": [
    "df"
   ]
  },
  {
   "cell_type": "markdown",
   "id": "ff3bc5b3-3320-4b21-950b-1a63884049bd",
   "metadata": {},
   "source": [
    "Well it looks like there is one grid which is used more than the others, the grid used by CESM2, CESM2-WACCM, TaiESM1 and NorESM2-MM. The latter three models are based on the CESM2 model, so this makes sense. But this grid also represents a middle ground between the range of resolutions, so this should be a candidate for regridding to."
   ]
  }
 ],
 "metadata": {
  "kernelspec": {
   "display_name": "Python 3 (ipykernel)",
   "language": "python",
   "name": "python3"
  },
  "language_info": {
   "codemirror_mode": {
    "name": "ipython",
    "version": 3
   },
   "file_extension": ".py",
   "mimetype": "text/x-python",
   "name": "python",
   "nbconvert_exporter": "python",
   "pygments_lexer": "ipython3",
   "version": "3.9.13"
  }
 },
 "nbformat": 4,
 "nbformat_minor": 5
}
