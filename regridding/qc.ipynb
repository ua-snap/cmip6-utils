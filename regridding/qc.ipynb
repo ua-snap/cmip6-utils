{
 "cells": [
  {
   "cell_type": "markdown",
   "id": "a3bd18f6-e9e5-43e0-b8a7-73817fdfb282",
   "metadata": {},
   "source": [
    "# Quality control for regridding efforts\n",
    "\n",
    "Use this notebook to check the quality of the regridded data."
   ]
  },
  {
   "cell_type": "code",
   "execution_count": 13,
   "id": "73ab1013-3464-40bb-95bc-03f7f607193f",
   "metadata": {},
   "outputs": [],
   "source": [
    "import re\n",
    "from multiprocessing import Pool\n",
    "import tqdm\n",
    "import numpy as np\n",
    "import xarray as xr\n",
    "from config import *\n",
    "from regrid import rename_file"
   ]
  },
  {
   "cell_type": "markdown",
   "id": "8cadf8cc-8625-402a-ad43-92dc94d0c0ad",
   "metadata": {},
   "source": [
    "### Check for completeness of regridded files\n",
    "\n",
    "Get a list of filepaths for all regridded files:"
   ]
  },
  {
   "cell_type": "code",
   "execution_count": 4,
   "id": "66a52bbd-e22d-43c3-a7a9-bf01fa4c7683",
   "metadata": {},
   "outputs": [],
   "source": [
    "regrid_fps = list(regrid_dir.glob(\"*/*/*/*/*.nc\"))"
   ]
  },
  {
   "cell_type": "markdown",
   "id": "5bdc70ce-3801-4b28-97ea-28c843180bc7",
   "metadata": {},
   "source": [
    "Check that all files to be regridded (which are those listed in the batch regrid files) are found in the regrid directory on scratch space.\n",
    "\n",
    "First, need to get all of the source filenames from the batch files:"
   ]
  },
  {
   "cell_type": "code",
   "execution_count": 5,
   "id": "9d73eede-9882-4442-ace1-f005a18c85c4",
   "metadata": {},
   "outputs": [],
   "source": [
    "src_fns = []\n",
    "for fp in regrid_batch_dir.glob(\"*.txt\"):\n",
    "    with open(fp) as f:\n",
    "        src_fns.extend([line.split(\"/\")[-1].replace(\"\\n\", \"\") for line in f.readlines()])"
   ]
  },
  {
   "cell_type": "markdown",
   "id": "4f5ca5d6-0a60-4ebb-876e-5beba0c3f776",
   "metadata": {},
   "source": [
    "Since we renamed the files by replacing the grid type component of the original filename with \"regrid\", we must standardize again for both set of files. Do this by simply dropping \"regrid\" from the regridded files, and dropping the grid type component from the raw filenames:"
   ]
  },
  {
   "cell_type": "code",
   "execution_count": 6,
   "id": "273bde48-e2e9-4f12-8814-c95d1f858d09",
   "metadata": {},
   "outputs": [],
   "source": [
    "rep = {\"_gr_\": \"_\", \"_gr1_\": \"_\", \"_gn_\": \"_\"}\n",
    "\n",
    "src_fns = set([rename_file(fn, rep) for fn in src_fns])\n",
    "regrid_fns = set([fp.name.replace(\"_regrid_\", \"_\") for fp in regrid_fps])"
   ]
  },
  {
   "cell_type": "markdown",
   "id": "95f5f52e-721d-4da5-9725-ade670d3eb42",
   "metadata": {},
   "source": [
    "Now, the source files which are not found in the regridding output directory can be isolated, and the number of them should be equal to the difference in number of files between source and completed files:"
   ]
  },
  {
   "cell_type": "code",
   "execution_count": 7,
   "id": "cd6ec1e3-0b0c-4c0f-ae53-f393b3feea85",
   "metadata": {},
   "outputs": [
    {
     "data": {
      "text/plain": [
       "True"
      ]
     },
     "execution_count": 7,
     "metadata": {},
     "output_type": "execute_result"
    }
   ],
   "source": [
    "missing_fns = list(src_fns - regrid_fns)\n",
    "len(missing_fns) == (len(src_fns) - len(regrid_fns)) == 0"
   ]
  },
  {
   "cell_type": "markdown",
   "id": "a57dbe94-055e-4631-93bf-e43d52b41f0c",
   "metadata": {},
   "source": [
    "Sometimes the processing code would create files and fail before writing them completely. Ensure there are no files smaller than 1 MB:"
   ]
  },
  {
   "cell_type": "code",
   "execution_count": 8,
   "id": "037cc7c3-5909-495f-a60f-5b7b6cfee4cc",
   "metadata": {},
   "outputs": [
    {
     "name": "stdout",
     "output_type": "stream",
     "text": [
      "CPU times: user 83.4 ms, sys: 114 ms, total: 198 ms\n",
      "Wall time: 5.61 s\n"
     ]
    }
   ],
   "source": [
    "%%time\n",
    "from multiprocessing import Pool\n",
    "\n",
    "\n",
    "def is_smol_file(fp):\n",
    "    \"\"\"Check whether a file is small for a regridded CMIP6 file.\"\"\"\n",
    "    if fp.stat().st_size / (10e2 ** 2) < 1:\n",
    "        return fp\n",
    "    else:\n",
    "        return\n",
    "    \n",
    "with Pool(20) as pool:\n",
    "    smol_fps = pool.map(is_smol_file, regrid_fps)\n",
    "    \n",
    "smol_fps = [fp for fp in smol_fps if fp is not None]\n",
    "\n",
    "assert len(smol_fps) == 0"
   ]
  },
  {
   "cell_type": "markdown",
   "id": "7c909629-b67c-49fd-87e5-8f4421a77d39",
   "metadata": {},
   "source": [
    "### Validate regridding\n",
    "\n",
    "Verify that regridded files all have the target grid by checking that the latitude and longitude variables match those of the file used for the target grid.\n",
    "\n",
    "Load the target grid file:"
   ]
  },
  {
   "cell_type": "code",
   "execution_count": 10,
   "id": "aa16c3eb-85d4-46c3-af6a-440cd9eb5992",
   "metadata": {},
   "outputs": [],
   "source": [
    "dst_ds = xr.open_dataset(target_grid_fp)"
   ]
  },
  {
   "cell_type": "markdown",
   "id": "8d43980a-df52-479f-b712-0e2e44aa105e",
   "metadata": {},
   "source": [
    "Define a function to check that the lat and lon arrays of the target grid match those of a given regridded fielpath:"
   ]
  },
  {
   "cell_type": "code",
   "execution_count": 18,
   "id": "f44741fa-9cad-4d66-b241-64d6f99b654d",
   "metadata": {},
   "outputs": [],
   "source": [
    "def validate_latlon(args):\n",
    "    regrid_fp, target_lat_arr, target_lon_arr = args\n",
    "    regrid_ds = xr.open_dataset(regrid_fp)\n",
    "    try:\n",
    "        assert np.all(regrid_ds[\"lat\"].values == target_lat_arr)\n",
    "        assert np.all(regrid_ds[\"lon\"].values == target_lon_arr)\n",
    "        result = None\n",
    "    except AssertionError:\n",
    "        result = regrid_fp\n",
    "\n",
    "    return result"
   ]
  },
  {
   "cell_type": "markdown",
   "id": "5b3d9a06-7a88-46a4-bc19-e89d7698d9ec",
   "metadata": {},
   "source": [
    "Run the check for all regridded files:"
   ]
  },
  {
   "cell_type": "code",
   "execution_count": 19,
   "id": "e5e47979-7232-41d1-86af-ab0c7d6ca077",
   "metadata": {},
   "outputs": [
    {
     "name": "stderr",
     "output_type": "stream",
     "text": [
      "100%|██████████████████████████████████████████████████████████████████████████████████████████████████████████████████████████████████████████████████████████████████████████████████████████████████████████████████████████████████████████████████████| 20368/20368 [02:28<00:00, 137.00it/s]\n"
     ]
    }
   ],
   "source": [
    "target_lat_arr = dst_ds[\"lat\"].values\n",
    "target_lon_arr = dst_ds[\"lon\"].values\n",
    "\n",
    "args = [(fp, target_lat_arr, target_lon_arr) for fp in regrid_fps]\n",
    "\n",
    "results = []\n",
    "with Pool(20) as pool:\n",
    "    # _ = pool.starmap(validate_latlon, args)\n",
    "    for arg in tqdm.tqdm(\n",
    "            pool.imap_unordered(validate_latlon, args), total=len(args)\n",
    "        ):\n",
    "            results.append(arg)"
   ]
  },
  {
   "cell_type": "markdown",
   "id": "e963ee0e-8449-4208-811f-81f433992253",
   "metadata": {},
   "source": [
    "If no filenames were returned from the above function, then all of the files have the same latitude and longitude grids:"
   ]
  },
  {
   "cell_type": "code",
   "execution_count": 24,
   "id": "6a27617f-a474-42e2-a69b-1e0f89709f5a",
   "metadata": {},
   "outputs": [],
   "source": [
    "assert np.all([x is None for x in results])"
   ]
  },
  {
   "cell_type": "markdown",
   "id": "638a1352-ec8f-4f58-a068-faa34b5b090b",
   "metadata": {},
   "source": [
    "We also want to do the same for the files which were not regridded. Find these files by taking the set difference of the standardized filenames between all CMIP6 files and all regridded files.\n",
    "\n",
    "Get all of the current CMIP6 filepaths:"
   ]
  },
  {
   "cell_type": "code",
   "execution_count": 25,
   "id": "1ecdc01f-d86d-4136-8ccb-183879731d58",
   "metadata": {},
   "outputs": [],
   "source": [
    "cmip6_fps = list(cmip6_dir.glob(\"*/*/*/*/*/*/*/*/*/*.nc\"))"
   ]
  },
  {
   "cell_type": "markdown",
   "id": "a7f17b0b-ee3e-4106-84a8-08e22211063f",
   "metadata": {},
   "source": [
    "Get sets of the standardized names of all CMIP6 and regridded files:"
   ]
  },
  {
   "cell_type": "code",
   "execution_count": 26,
   "id": "40c09b53-fe6d-4b6d-af84-f5afcb421f34",
   "metadata": {},
   "outputs": [],
   "source": [
    "rep = {\"_gr_\": \"_\", \"_gr1_\": \"_\", \"_gn_\": \"_\"}\n",
    "cmip6_fns = set([rename_file(fp.name, rep) for fp in cmip6_fps])\n",
    "regrid_fns = set([fp.name.replace(\"_regrid_\", \"_\") for fp in regrid_fps])"
   ]
  },
  {
   "cell_type": "markdown",
   "id": "75fb7a6e-0b96-41be-b6f4-5af7a508d877",
   "metadata": {},
   "source": [
    "Get the list of filenames which were not regridded:"
   ]
  },
  {
   "cell_type": "code",
   "execution_count": 27,
   "id": "70134434-749e-4584-af93-77ff7ea4912b",
   "metadata": {},
   "outputs": [],
   "source": [
    "non_regrid_fns = cmip6_fns - regrid_fns"
   ]
  },
  {
   "cell_type": "markdown",
   "id": "d12ad21e-8112-429c-a8e1-60fad278bc8a",
   "metadata": {},
   "source": [
    "Find the full filepaths of these files that were not regridded by globbing:"
   ]
  },
  {
   "cell_type": "code",
   "execution_count": 28,
   "id": "36a519ec-07e0-43f9-b390-d22afa13cb37",
   "metadata": {},
   "outputs": [
    {
     "name": "stdout",
     "output_type": "stream",
     "text": [
      "CPU times: user 2.53 s, sys: 1.53 s, total: 4.06 s\n",
      "Wall time: 12 s\n"
     ]
    }
   ],
   "source": [
    "%%time\n",
    "non_regrid_fps = []\n",
    "for fn in non_regrid_fns:\n",
    "    var_id, freq, model, scenario, variant, timespan = fn.split(\".nc\")[0].split(\"_\")\n",
    "    fp = list(\n",
    "        cmip6_dir.glob(\n",
    "            f\"*/*/{model}/{scenario}/{variant}/{freq}/{var_id}/*/*/{var_id}_{freq}_{model}_{scenario}_{variant}_*_{timespan}.nc\"\n",
    "        )\n",
    "    )[0]\n",
    "    non_regrid_fps.append(fp)"
   ]
  },
  {
   "cell_type": "markdown",
   "id": "d5b69e9d-ce3e-47b2-8fce-1dee6c71289e",
   "metadata": {},
   "source": [
    "Verify the grids of these filepaths we assume were already on the target grid:"
   ]
  },
  {
   "cell_type": "code",
   "execution_count": 29,
   "id": "32ecbbe7-6569-47ab-b541-eb09301d23f4",
   "metadata": {},
   "outputs": [
    {
     "name": "stderr",
     "output_type": "stream",
     "text": [
      "100%|█████████████████████████████████████████████████████████████████████████████████████████████████████████████████████████████████████████████████████████████████████████████████████████████████████████████████████████████████████████████████████████| 3119/3119 [00:35<00:00, 87.85it/s]\n"
     ]
    }
   ],
   "source": [
    "args = [(fp, target_lat_arr, target_lon_arr) for fp in non_regrid_fps]\n",
    "\n",
    "results = []\n",
    "with Pool(20) as pool:\n",
    "    for arg in tqdm.tqdm(\n",
    "            pool.imap_unordered(validate_latlon, args), total=len(args)\n",
    "        ):\n",
    "            results.append(arg)"
   ]
  },
  {
   "cell_type": "markdown",
   "id": "28a76ec5-f83a-48e0-a843-26da85fd242f",
   "metadata": {},
   "source": [
    "Again, if no filenames were returned from the above function, then all of the files which were not regridded do indeed have the same latitude and longitude grids:"
   ]
  },
  {
   "cell_type": "code",
   "execution_count": 30,
   "id": "d0b29494-46ad-410a-ab3a-db21a6cebc7d",
   "metadata": {},
   "outputs": [],
   "source": [
    "assert np.all([x is None for x in results])"
   ]
  },
  {
   "cell_type": "markdown",
   "id": "c551c254-e38a-4c2f-8210-e68411d11b46",
   "metadata": {},
   "source": [
    "end"
   ]
  }
 ],
 "metadata": {
  "kernelspec": {
   "display_name": "Python 3 (ipykernel)",
   "language": "python",
   "name": "python3"
  },
  "language_info": {
   "codemirror_mode": {
    "name": "ipython",
    "version": 3
   },
   "file_extension": ".py",
   "mimetype": "text/x-python",
   "name": "python",
   "nbconvert_exporter": "python",
   "pygments_lexer": "ipython3",
   "version": "3.9.13"
  }
 },
 "nbformat": 4,
 "nbformat_minor": 5
}
