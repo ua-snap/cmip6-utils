{
 "cells": [
  {
   "cell_type": "markdown",
   "id": "a3bd18f6-e9e5-43e0-b8a7-73817fdfb282",
   "metadata": {},
   "source": [
    "# Quality control for regridding efforts\n",
    "\n",
    "Use this notebook to check the quality of the regridded data."
   ]
  },
  {
   "cell_type": "code",
   "execution_count": 61,
   "id": "73ab1013-3464-40bb-95bc-03f7f607193f",
   "metadata": {},
   "outputs": [],
   "source": [
    "# from multiprocessing import Pool\n",
    "import cftime\n",
    "import matplotlib.pyplot as plt\n",
    "import numpy as np\n",
    "import pandas as pd\n",
    "import xarray as xr\n",
    "from config import *\n",
    "from regrid import open_and_crop_dataset, prod_lat_slice\n"
   ]
  },
  {
   "cell_type": "markdown",
   "id": "8cadf8cc-8625-402a-ad43-92dc94d0c0ad",
   "metadata": {},
   "source": [
    "### Evaluate regridding\n",
    "\n",
    "Here we will perform a qualitative assessment of the regridding by plotting multiple comparisons of files with each other."
   ]
  },
  {
   "cell_type": "code",
   "execution_count": 2,
   "id": "66a52bbd-e22d-43c3-a7a9-bf01fa4c7683",
   "metadata": {},
   "outputs": [],
   "source": [
    "regrid_fps = list(regrid_dir.glob(\"**/*.nc\"))\n"
   ]
  },
  {
   "cell_type": "code",
   "execution_count": 1,
   "id": "a7e9636a",
   "metadata": {},
   "outputs": [],
   "source": [
    "# define a function to return a single filepath if a given date is in the string filename\n",
    "from pandas.errors import OutOfBoundsDatetime\n",
    "\n",
    "\n",
    "def get_matching_time_filepath(fps, test_date):\n",
    "    matching_fps = []\n",
    "    for fp in fps:\n",
    "        start_str, end_str = fp.name.split(\".nc\")[0].split(\"_\")[-1].split(\"-\")\n",
    "        start_str = f\"{start_str}01\" if len(start_str) == 6 else start_str\n",
    "        # end date should be constructed as the end of month for monthly data\n",
    "        #  (and should always be December??)\n",
    "        end_str = f\"{end_str}31\" if len(end_str) == 6 else end_str\n",
    "        format_str = \"%Y%m%d\"\n",
    "        try:\n",
    "            start_dt = pd.to_datetime(start_str, format=format_str)\n",
    "            # it should be OK if end date is\n",
    "            end_dt = pd.to_datetime(end_str, format=format_str)\n",
    "        except OutOfBoundsDatetime:\n",
    "            # we should not be regridding files with time values that cause this (2300 etc)\n",
    "            continue\n",
    "\n",
    "        if start_dt <= test_date < end_dt:\n",
    "            matching_fps.append(fp)\n",
    "\n",
    "    # there should only be one\n",
    "    assert len(matching_fps) == 1\n",
    "\n",
    "    return matching_fps[0]\n",
    "\n",
    "\n",
    "def generate_cmip6_filepath_from_regrid_filename(fn):\n",
    "    \"\"\"Get the path to the original CMIP6 filename from a regridded file name.\n",
    "\n",
    "    Because the original CMIP6 filenames were split up during the processing, this method finds the original filename based on matching all possible attributes, then testing for inclusion of regrid file start date within the date range formed by the CMIP6 file timespan.\n",
    "    \"\"\"\n",
    "    var_id, freq, model, scenario, _, timespan = fn.split(\".nc\")[0].split(\"_\")\n",
    "    institution = model_inst_lu[model]\n",
    "    experiment_id = \"ScenarioMIP\" if scenario in prod_scenarios else \"CMIP\"\n",
    "    # Construct the original CMIP6 filepath from the filename.\n",
    "    # Need to use glob because of the \"grid type\" filename attribute that we do not have a lookup for.\n",
    "    var_dir = cmip6_dir.joinpath(f\"{experiment_id}/{institution}/{model}/{scenario}\")\n",
    "    glob_str = f\"*/{freq}/{var_id}/*/*/{var_id}_{freq}_{model}_{scenario}_*.nc\"\n",
    "    candidate_fps = list(var_dir.glob(glob_str))\n",
    "\n",
    "    start_str = timespan.split(\"-\")[0]\n",
    "    format_str = \"%Y%m\" if len(start_str) == 6 else \"%Y%m%d\"\n",
    "    start_dt = pd.to_datetime(start_str, format=format_str)\n",
    "    cmip6_fp = get_matching_time_filepath(candidate_fps, start_dt)\n",
    "\n",
    "    return cmip6_fp\n",
    "\n",
    "\n",
    "def plot_comparison(regrid_fp):\n",
    "    src_fp = generate_cmip6_filepath_from_regrid_filename(regrid_fp.name)\n",
    "    src_ds = open_and_crop_dataset(src_fp, lat_slice=prod_lat_slice)\n",
    "    regrid_ds = xr.open_dataset(regrid_fp)\n",
    "    lat_slice = slice(55, 75)\n",
    "    lon_slice = slice(200, 240)\n",
    "    time_val = regrid_ds.time.values[0]\n",
    "    var_id = src_ds.attrs[\"variable_id\"]\n",
    "\n",
    "    fig, axes = plt.subplots(1, 2, figsize=(15, 4))\n",
    "    fig.suptitle(\n",
    "        f\"Variable: {var_id}     Model: {src_ds.attrs['source_id']}     Scenario: {src_ds.attrs['experiment_id']}\"\n",
    "    )\n",
    "\n",
    "    if isinstance(src_ds.time.values[0], cftime._cftime.Datetime360Day):\n",
    "        src_time = cftime.Datetime360Day(\n",
    "            year=time_val.year, month=time_val.month, day=time_val.day\n",
    "        )\n",
    "    elif isinstance(src_ds.time.values[0], pd._libs.tslibs.timestamps.Timestamp):\n",
    "        src_time = pd.to_datetime(f\"{time_val.year}-{time_val.month}-{time_val}\")\n",
    "    else:\n",
    "        src_time = time_val\n",
    "    src_ds[var_id].sel(time=src_time, method=\"nearest\").sel(\n",
    "        lat=lat_slice, lon=lon_slice\n",
    "    ).plot(ax=axes[0])\n",
    "    axes[0].set_title(\"Source dataset\")\n",
    "    regrid_ds[var_id].sel(time=time_val).sel(lat=lat_slice, lon=lon_slice).plot(\n",
    "        ax=axes[1]\n",
    "    )\n",
    "    axes[1].set_title(\"Regridded dataset\")\n",
    "    plt.show()\n"
   ]
  },
  {
   "cell_type": "markdown",
   "id": "c8d35bf9",
   "metadata": {},
   "source": [
    "Now, randomly select and plot comparisons for a subset of the files using an Alaska-ish domain for some added zoom."
   ]
  },
  {
   "cell_type": "code",
   "execution_count": 2,
   "id": "4383c6cb",
   "metadata": {},
   "outputs": [],
   "source": [
    "for i in range(100):\n",
    "    fp = np.random.choice(regrid_fps)\n",
    "    plot_comparison(fp)"
   ]
  }
 ],
 "metadata": {
  "kernelspec": {
   "display_name": "Python 3 (ipykernel)",
   "language": "python",
   "name": "python3"
  },
  "language_info": {
   "codemirror_mode": {
    "name": "ipython",
    "version": 3
   },
   "file_extension": ".py",
   "mimetype": "text/x-python",
   "name": "python",
   "nbconvert_exporter": "python",
   "pygments_lexer": "ipython3",
   "version": "3.9.13"
  }
 },
 "nbformat": 4,
 "nbformat_minor": 5
}
