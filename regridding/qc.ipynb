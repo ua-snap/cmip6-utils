{
 "cells": [
  {
   "cell_type": "markdown",
   "id": "fe926eb1",
   "metadata": {},
   "source": [
    "## Visual QC notebook\n",
    "This notebook is designed to be used in a visual QC check of regridded CMIP6 data. Regridded files are counted, and a percentage of the files (here 10%) are randomly selected for QC. Using only the output file names, we will:\n",
    "\n",
    "- locate the original CMIP6 source data\n",
    "- plot source data alongside regridded data to compare visually\n",
    "\n",
    "#### How to use with `prefect` via `papermill`:\n",
    "This notebook should be run as the final step of the prefect regridding flow. The output will be saved as a new notebook in the QC directory created during the flow. To accomplish this, create a task in the prefect flow that will execute this notebook from the command line using `papermill`, e.g.:\n",
    "\n",
    "```papermill path/to/repo/regridding/visual_qc.ipynb path/to/qc/output/output.ipynb -r output_directory \"/path/to/output/dir\" -r cmip6_directory \"/path/to/cmip6/dir\"```\n",
    "\n",
    "The first argument is this notebook's location, which can be constructed using the `{output_directory}` parameter of the flow run (ie, the notebook's location within the downloaded repo directory). The second argument is the desired notebook output location, which can also be constructed using the `{output_directory}` parameter of the flow run. The remaining arguments are raw strings (denoted by `-r`) of the working and input directories used in the flow run.\n",
    "\n",
    "Papermill parameter cell:"
   ]
  },
  {
   "cell_type": "code",
   "execution_count": 1,
   "id": "6f52c02e",
   "metadata": {
    "tags": [
     "parameters"
    ]
   },
   "outputs": [],
   "source": [
    "# this cell is tagged \"parameters\" and contains default parameter values for this notebook\n",
    "# any parameters injected by papermill during the prefect flow will be written into a new cell directly beneath this one\n",
    "# and will override the values in this cell\n",
    "output_directory = \"/beegfs/CMIP6/snapdata/cmip6_regridding\"\n",
    "cmip6_directory = \"/beegfs/CMIP6/arctic-cmip6/CMIP6\"\n",
    "vars = \"tas\"\n",
    "freqs = \"mon\"\n",
    "models = \"GFDL-ESM4\"\n",
    "scenarios = \"ssp370\""
   ]
  },
  {
   "cell_type": "code",
   "execution_count": 61,
   "id": "76ceaa14",
   "metadata": {},
   "outputs": [],
   "source": [
    "# this cell is tagged \"parameters\" and contains default parameter values for this notebook\n",
    "# any parameters injected by papermill during the prefect flow will be written into a new cell directly beneath this one\n",
    "# and will override the values in this cell\n",
    "output_directory = \"/beegfs/CMIP6/kmredilla/cmip6_regridding\"\n",
    "cmip6_directory = \"/beegfs/CMIP6/arctic-cmip6/CMIP6\"\n",
    "vars = \"tas\"\n",
    "freqs = \"mon\"\n",
    "models = \"MRI-ESM2-0\"\n",
    "scenarios = \"ssp370\""
   ]
  },
  {
   "cell_type": "markdown",
   "metadata": {},
   "source": [
    "Import packages"
   ]
  },
  {
   "cell_type": "code",
   "execution_count": 3,
   "id": "73ab1013-3464-40bb-95bc-03f7f607193f",
   "metadata": {},
   "outputs": [],
   "source": [
    "import random\n",
    "from pathlib import Path\n",
    "from qc import (\n",
    "    get_source_fps_from_batch_files,\n",
    "    summarize_slurm_out_files,\n",
    "    compare_expected_to_existing_and_check_values,\n",
    "    generate_regrid_fps_from_params,\n",
    "    plot_comparison,\n",
    "    extract_params_from_src_filepath,\n",
    ")"
   ]
  },
  {
   "cell_type": "markdown",
   "id": "be44568a",
   "metadata": {},
   "source": [
    "#### Setup\n",
    "\n",
    "Define data sources and parameters for QC. This notebook is expected to only QC the data that was processed in the flow run, i.e. only those files derived from source files which are listed in the existing batch files. We will want to verify that the supplied parameters correspond to these regridded files. \n",
    "\n",
    "Determine which regridded files to check:"
   ]
  },
  {
   "cell_type": "code",
   "execution_count": 5,
   "id": "8194d8c0",
   "metadata": {},
   "outputs": [],
   "source": [
    "# set cmip6_dir\n",
    "cmip6_dir = Path(cmip6_directory)\n",
    "output_dir = Path(output_directory)\n",
    "regrid_dir = output_dir.joinpath(\"regrid\")\n",
    "\n",
    "\n",
    "regrid_batch_dir = output_dir.joinpath(\"regrid_batch\")\n",
    "slurm_dir = output_dir.joinpath(\"slurm\")\n",
    "slurm_rerid_dir = slurm_dir.joinpath(\"regrid\")"
   ]
  },
  {
   "cell_type": "code",
   "execution_count": 62,
   "id": "884f943c",
   "metadata": {},
   "outputs": [],
   "source": [
    "src_fps = get_source_fps_from_batch_files(regrid_batch_dir)"
   ]
  },
  {
   "cell_type": "markdown",
   "id": "fd724e5e",
   "metadata": {},
   "source": [
    "Make sure the expected source files match the parameters supplied to notebook. If not then the notebook was not run with the expected parameters!"
   ]
  },
  {
   "cell_type": "code",
   "execution_count": 86,
   "id": "568502cf",
   "metadata": {},
   "outputs": [],
   "source": [
    "src_params = [extract_params_from_src_filepath(fp) for fp in src_fps]\n",
    "for p_name, p_str in zip(\n",
    "    [\"model\", \"scenario\", \"frequency\", \"variable_id\"], [models, scenarios, freqs, vars]\n",
    "):\n",
    "    assert all(\n",
    "        [params[p_name] in p_str for params in src_params]\n",
    "    ), f\"Source files submitted for regridding contain values for the {p_name} parameter ({', '.join(list(set([params[p_name] for params in src_params])))}) which were not supplied for QC in this notebook ({p_str}).\""
   ]
  },
  {
   "cell_type": "markdown",
   "id": "9d38b8d0",
   "metadata": {},
   "source": [
    "Ignore certain files based on results in slurm output files:"
   ]
  },
  {
   "cell_type": "code",
   "execution_count": 75,
   "id": "35c11c0c",
   "metadata": {},
   "outputs": [],
   "source": [
    "# check slurm files\n",
    "fps_to_ignore = summarize_slurm_out_files(slurm_dir)\n",
    "for fp in fps_to_ignore:\n",
    "    if fp in src_fps:\n",
    "        src_fps.remove(fp)"
   ]
  },
  {
   "cell_type": "markdown",
   "id": "4510c876",
   "metadata": {},
   "source": [
    "Now compare expected files to existing files and make sure values OK. This will open and check files in parallel and could take a while. "
   ]
  },
  {
   "cell_type": "code",
   "execution_count": 91,
   "id": "a7bfd8a4",
   "metadata": {},
   "outputs": [
    {
     "data": {
      "text/plain": [
       "(['/beegfs/CMIP6/kmredilla/cmip6_regridding/regrid/MRI-ESM2-0/ssp370/Amon/tas/tas_Amon_MRI-ESM2-0_ssp370_regrid_201501-201512.nc',\n",
       "  '/beegfs/CMIP6/kmredilla/cmip6_regridding/regrid/MRI-ESM2-0/ssp370/Amon/tas/tas_Amon_MRI-ESM2-0_ssp370_regrid_201601-201612.nc',\n",
       "  '/beegfs/CMIP6/kmredilla/cmip6_regridding/regrid/MRI-ESM2-0/ssp370/Amon/tas/tas_Amon_MRI-ESM2-0_ssp370_regrid_201701-201712.nc',\n",
       "  '/beegfs/CMIP6/kmredilla/cmip6_regridding/regrid/MRI-ESM2-0/ssp370/Amon/tas/tas_Amon_MRI-ESM2-0_ssp370_regrid_201801-201812.nc',\n",
       "  '/beegfs/CMIP6/kmredilla/cmip6_regridding/regrid/MRI-ESM2-0/ssp370/Amon/tas/tas_Amon_MRI-ESM2-0_ssp370_regrid_201901-201912.nc',\n",
       "  '/beegfs/CMIP6/kmredilla/cmip6_regridding/regrid/MRI-ESM2-0/ssp370/Amon/tas/tas_Amon_MRI-ESM2-0_ssp370_regrid_202001-202012.nc',\n",
       "  '/beegfs/CMIP6/kmredilla/cmip6_regridding/regrid/MRI-ESM2-0/ssp370/Amon/tas/tas_Amon_MRI-ESM2-0_ssp370_regrid_202101-202112.nc',\n",
       "  '/beegfs/CMIP6/kmredilla/cmip6_regridding/regrid/MRI-ESM2-0/ssp370/Amon/tas/tas_Amon_MRI-ESM2-0_ssp370_regrid_202201-202212.nc',\n",
       "  '/beegfs/CMIP6/kmredilla/cmip6_regridding/regrid/MRI-ESM2-0/ssp370/Amon/tas/tas_Amon_MRI-ESM2-0_ssp370_regrid_202301-202312.nc',\n",
       "  '/beegfs/CMIP6/kmredilla/cmip6_regridding/regrid/MRI-ESM2-0/ssp370/Amon/tas/tas_Amon_MRI-ESM2-0_ssp370_regrid_202401-202412.nc',\n",
       "  '/beegfs/CMIP6/kmredilla/cmip6_regridding/regrid/MRI-ESM2-0/ssp370/Amon/tas/tas_Amon_MRI-ESM2-0_ssp370_regrid_202501-202512.nc',\n",
       "  '/beegfs/CMIP6/kmredilla/cmip6_regridding/regrid/MRI-ESM2-0/ssp370/Amon/tas/tas_Amon_MRI-ESM2-0_ssp370_regrid_202601-202612.nc',\n",
       "  '/beegfs/CMIP6/kmredilla/cmip6_regridding/regrid/MRI-ESM2-0/ssp370/Amon/tas/tas_Amon_MRI-ESM2-0_ssp370_regrid_202701-202712.nc',\n",
       "  '/beegfs/CMIP6/kmredilla/cmip6_regridding/regrid/MRI-ESM2-0/ssp370/Amon/tas/tas_Amon_MRI-ESM2-0_ssp370_regrid_202801-202812.nc',\n",
       "  '/beegfs/CMIP6/kmredilla/cmip6_regridding/regrid/MRI-ESM2-0/ssp370/Amon/tas/tas_Amon_MRI-ESM2-0_ssp370_regrid_202901-202912.nc',\n",
       "  '/beegfs/CMIP6/kmredilla/cmip6_regridding/regrid/MRI-ESM2-0/ssp370/Amon/tas/tas_Amon_MRI-ESM2-0_ssp370_regrid_203001-203012.nc',\n",
       "  '/beegfs/CMIP6/kmredilla/cmip6_regridding/regrid/MRI-ESM2-0/ssp370/Amon/tas/tas_Amon_MRI-ESM2-0_ssp370_regrid_203101-203112.nc',\n",
       "  '/beegfs/CMIP6/kmredilla/cmip6_regridding/regrid/MRI-ESM2-0/ssp370/Amon/tas/tas_Amon_MRI-ESM2-0_ssp370_regrid_203201-203212.nc',\n",
       "  '/beegfs/CMIP6/kmredilla/cmip6_regridding/regrid/MRI-ESM2-0/ssp370/Amon/tas/tas_Amon_MRI-ESM2-0_ssp370_regrid_203301-203312.nc',\n",
       "  '/beegfs/CMIP6/kmredilla/cmip6_regridding/regrid/MRI-ESM2-0/ssp370/Amon/tas/tas_Amon_MRI-ESM2-0_ssp370_regrid_203401-203412.nc',\n",
       "  '/beegfs/CMIP6/kmredilla/cmip6_regridding/regrid/MRI-ESM2-0/ssp370/Amon/tas/tas_Amon_MRI-ESM2-0_ssp370_regrid_203501-203512.nc',\n",
       "  '/beegfs/CMIP6/kmredilla/cmip6_regridding/regrid/MRI-ESM2-0/ssp370/Amon/tas/tas_Amon_MRI-ESM2-0_ssp370_regrid_203601-203612.nc',\n",
       "  '/beegfs/CMIP6/kmredilla/cmip6_regridding/regrid/MRI-ESM2-0/ssp370/Amon/tas/tas_Amon_MRI-ESM2-0_ssp370_regrid_203701-203712.nc',\n",
       "  '/beegfs/CMIP6/kmredilla/cmip6_regridding/regrid/MRI-ESM2-0/ssp370/Amon/tas/tas_Amon_MRI-ESM2-0_ssp370_regrid_203801-203812.nc',\n",
       "  '/beegfs/CMIP6/kmredilla/cmip6_regridding/regrid/MRI-ESM2-0/ssp370/Amon/tas/tas_Amon_MRI-ESM2-0_ssp370_regrid_203901-203912.nc',\n",
       "  '/beegfs/CMIP6/kmredilla/cmip6_regridding/regrid/MRI-ESM2-0/ssp370/Amon/tas/tas_Amon_MRI-ESM2-0_ssp370_regrid_204001-204012.nc',\n",
       "  '/beegfs/CMIP6/kmredilla/cmip6_regridding/regrid/MRI-ESM2-0/ssp370/Amon/tas/tas_Amon_MRI-ESM2-0_ssp370_regrid_204101-204112.nc',\n",
       "  '/beegfs/CMIP6/kmredilla/cmip6_regridding/regrid/MRI-ESM2-0/ssp370/Amon/tas/tas_Amon_MRI-ESM2-0_ssp370_regrid_204201-204212.nc',\n",
       "  '/beegfs/CMIP6/kmredilla/cmip6_regridding/regrid/MRI-ESM2-0/ssp370/Amon/tas/tas_Amon_MRI-ESM2-0_ssp370_regrid_204301-204312.nc',\n",
       "  '/beegfs/CMIP6/kmredilla/cmip6_regridding/regrid/MRI-ESM2-0/ssp370/Amon/tas/tas_Amon_MRI-ESM2-0_ssp370_regrid_204401-204412.nc',\n",
       "  '/beegfs/CMIP6/kmredilla/cmip6_regridding/regrid/MRI-ESM2-0/ssp370/Amon/tas/tas_Amon_MRI-ESM2-0_ssp370_regrid_204501-204512.nc',\n",
       "  '/beegfs/CMIP6/kmredilla/cmip6_regridding/regrid/MRI-ESM2-0/ssp370/Amon/tas/tas_Amon_MRI-ESM2-0_ssp370_regrid_204601-204612.nc',\n",
       "  '/beegfs/CMIP6/kmredilla/cmip6_regridding/regrid/MRI-ESM2-0/ssp370/Amon/tas/tas_Amon_MRI-ESM2-0_ssp370_regrid_204701-204712.nc',\n",
       "  '/beegfs/CMIP6/kmredilla/cmip6_regridding/regrid/MRI-ESM2-0/ssp370/Amon/tas/tas_Amon_MRI-ESM2-0_ssp370_regrid_204801-204812.nc',\n",
       "  '/beegfs/CMIP6/kmredilla/cmip6_regridding/regrid/MRI-ESM2-0/ssp370/Amon/tas/tas_Amon_MRI-ESM2-0_ssp370_regrid_204901-204912.nc',\n",
       "  '/beegfs/CMIP6/kmredilla/cmip6_regridding/regrid/MRI-ESM2-0/ssp370/Amon/tas/tas_Amon_MRI-ESM2-0_ssp370_regrid_205001-205012.nc',\n",
       "  '/beegfs/CMIP6/kmredilla/cmip6_regridding/regrid/MRI-ESM2-0/ssp370/Amon/tas/tas_Amon_MRI-ESM2-0_ssp370_regrid_205101-205112.nc',\n",
       "  '/beegfs/CMIP6/kmredilla/cmip6_regridding/regrid/MRI-ESM2-0/ssp370/Amon/tas/tas_Amon_MRI-ESM2-0_ssp370_regrid_205201-205212.nc',\n",
       "  '/beegfs/CMIP6/kmredilla/cmip6_regridding/regrid/MRI-ESM2-0/ssp370/Amon/tas/tas_Amon_MRI-ESM2-0_ssp370_regrid_205301-205312.nc',\n",
       "  '/beegfs/CMIP6/kmredilla/cmip6_regridding/regrid/MRI-ESM2-0/ssp370/Amon/tas/tas_Amon_MRI-ESM2-0_ssp370_regrid_205401-205412.nc',\n",
       "  '/beegfs/CMIP6/kmredilla/cmip6_regridding/regrid/MRI-ESM2-0/ssp370/Amon/tas/tas_Amon_MRI-ESM2-0_ssp370_regrid_205501-205512.nc',\n",
       "  '/beegfs/CMIP6/kmredilla/cmip6_regridding/regrid/MRI-ESM2-0/ssp370/Amon/tas/tas_Amon_MRI-ESM2-0_ssp370_regrid_205601-205612.nc',\n",
       "  '/beegfs/CMIP6/kmredilla/cmip6_regridding/regrid/MRI-ESM2-0/ssp370/Amon/tas/tas_Amon_MRI-ESM2-0_ssp370_regrid_205701-205712.nc',\n",
       "  '/beegfs/CMIP6/kmredilla/cmip6_regridding/regrid/MRI-ESM2-0/ssp370/Amon/tas/tas_Amon_MRI-ESM2-0_ssp370_regrid_205801-205812.nc',\n",
       "  '/beegfs/CMIP6/kmredilla/cmip6_regridding/regrid/MRI-ESM2-0/ssp370/Amon/tas/tas_Amon_MRI-ESM2-0_ssp370_regrid_205901-205912.nc',\n",
       "  '/beegfs/CMIP6/kmredilla/cmip6_regridding/regrid/MRI-ESM2-0/ssp370/Amon/tas/tas_Amon_MRI-ESM2-0_ssp370_regrid_206001-206012.nc',\n",
       "  '/beegfs/CMIP6/kmredilla/cmip6_regridding/regrid/MRI-ESM2-0/ssp370/Amon/tas/tas_Amon_MRI-ESM2-0_ssp370_regrid_206101-206112.nc',\n",
       "  '/beegfs/CMIP6/kmredilla/cmip6_regridding/regrid/MRI-ESM2-0/ssp370/Amon/tas/tas_Amon_MRI-ESM2-0_ssp370_regrid_206201-206212.nc',\n",
       "  '/beegfs/CMIP6/kmredilla/cmip6_regridding/regrid/MRI-ESM2-0/ssp370/Amon/tas/tas_Amon_MRI-ESM2-0_ssp370_regrid_206301-206312.nc',\n",
       "  '/beegfs/CMIP6/kmredilla/cmip6_regridding/regrid/MRI-ESM2-0/ssp370/Amon/tas/tas_Amon_MRI-ESM2-0_ssp370_regrid_206401-206412.nc',\n",
       "  '/beegfs/CMIP6/kmredilla/cmip6_regridding/regrid/MRI-ESM2-0/ssp370/Amon/tas/tas_Amon_MRI-ESM2-0_ssp370_regrid_206501-206512.nc',\n",
       "  '/beegfs/CMIP6/kmredilla/cmip6_regridding/regrid/MRI-ESM2-0/ssp370/Amon/tas/tas_Amon_MRI-ESM2-0_ssp370_regrid_206601-206612.nc',\n",
       "  '/beegfs/CMIP6/kmredilla/cmip6_regridding/regrid/MRI-ESM2-0/ssp370/Amon/tas/tas_Amon_MRI-ESM2-0_ssp370_regrid_206701-206712.nc',\n",
       "  '/beegfs/CMIP6/kmredilla/cmip6_regridding/regrid/MRI-ESM2-0/ssp370/Amon/tas/tas_Amon_MRI-ESM2-0_ssp370_regrid_206801-206812.nc',\n",
       "  '/beegfs/CMIP6/kmredilla/cmip6_regridding/regrid/MRI-ESM2-0/ssp370/Amon/tas/tas_Amon_MRI-ESM2-0_ssp370_regrid_206901-206912.nc',\n",
       "  '/beegfs/CMIP6/kmredilla/cmip6_regridding/regrid/MRI-ESM2-0/ssp370/Amon/tas/tas_Amon_MRI-ESM2-0_ssp370_regrid_207001-207012.nc',\n",
       "  '/beegfs/CMIP6/kmredilla/cmip6_regridding/regrid/MRI-ESM2-0/ssp370/Amon/tas/tas_Amon_MRI-ESM2-0_ssp370_regrid_207101-207112.nc',\n",
       "  '/beegfs/CMIP6/kmredilla/cmip6_regridding/regrid/MRI-ESM2-0/ssp370/Amon/tas/tas_Amon_MRI-ESM2-0_ssp370_regrid_207201-207212.nc',\n",
       "  '/beegfs/CMIP6/kmredilla/cmip6_regridding/regrid/MRI-ESM2-0/ssp370/Amon/tas/tas_Amon_MRI-ESM2-0_ssp370_regrid_207301-207312.nc',\n",
       "  '/beegfs/CMIP6/kmredilla/cmip6_regridding/regrid/MRI-ESM2-0/ssp370/Amon/tas/tas_Amon_MRI-ESM2-0_ssp370_regrid_207401-207412.nc',\n",
       "  '/beegfs/CMIP6/kmredilla/cmip6_regridding/regrid/MRI-ESM2-0/ssp370/Amon/tas/tas_Amon_MRI-ESM2-0_ssp370_regrid_207501-207512.nc',\n",
       "  '/beegfs/CMIP6/kmredilla/cmip6_regridding/regrid/MRI-ESM2-0/ssp370/Amon/tas/tas_Amon_MRI-ESM2-0_ssp370_regrid_207601-207612.nc',\n",
       "  '/beegfs/CMIP6/kmredilla/cmip6_regridding/regrid/MRI-ESM2-0/ssp370/Amon/tas/tas_Amon_MRI-ESM2-0_ssp370_regrid_207701-207712.nc',\n",
       "  '/beegfs/CMIP6/kmredilla/cmip6_regridding/regrid/MRI-ESM2-0/ssp370/Amon/tas/tas_Amon_MRI-ESM2-0_ssp370_regrid_207801-207812.nc',\n",
       "  '/beegfs/CMIP6/kmredilla/cmip6_regridding/regrid/MRI-ESM2-0/ssp370/Amon/tas/tas_Amon_MRI-ESM2-0_ssp370_regrid_207901-207912.nc',\n",
       "  '/beegfs/CMIP6/kmredilla/cmip6_regridding/regrid/MRI-ESM2-0/ssp370/Amon/tas/tas_Amon_MRI-ESM2-0_ssp370_regrid_208001-208012.nc',\n",
       "  '/beegfs/CMIP6/kmredilla/cmip6_regridding/regrid/MRI-ESM2-0/ssp370/Amon/tas/tas_Amon_MRI-ESM2-0_ssp370_regrid_208101-208112.nc',\n",
       "  '/beegfs/CMIP6/kmredilla/cmip6_regridding/regrid/MRI-ESM2-0/ssp370/Amon/tas/tas_Amon_MRI-ESM2-0_ssp370_regrid_208201-208212.nc',\n",
       "  '/beegfs/CMIP6/kmredilla/cmip6_regridding/regrid/MRI-ESM2-0/ssp370/Amon/tas/tas_Amon_MRI-ESM2-0_ssp370_regrid_208301-208312.nc',\n",
       "  '/beegfs/CMIP6/kmredilla/cmip6_regridding/regrid/MRI-ESM2-0/ssp370/Amon/tas/tas_Amon_MRI-ESM2-0_ssp370_regrid_208401-208412.nc',\n",
       "  '/beegfs/CMIP6/kmredilla/cmip6_regridding/regrid/MRI-ESM2-0/ssp370/Amon/tas/tas_Amon_MRI-ESM2-0_ssp370_regrid_208501-208512.nc',\n",
       "  '/beegfs/CMIP6/kmredilla/cmip6_regridding/regrid/MRI-ESM2-0/ssp370/Amon/tas/tas_Amon_MRI-ESM2-0_ssp370_regrid_208601-208612.nc',\n",
       "  '/beegfs/CMIP6/kmredilla/cmip6_regridding/regrid/MRI-ESM2-0/ssp370/Amon/tas/tas_Amon_MRI-ESM2-0_ssp370_regrid_208701-208712.nc',\n",
       "  '/beegfs/CMIP6/kmredilla/cmip6_regridding/regrid/MRI-ESM2-0/ssp370/Amon/tas/tas_Amon_MRI-ESM2-0_ssp370_regrid_208801-208812.nc',\n",
       "  '/beegfs/CMIP6/kmredilla/cmip6_regridding/regrid/MRI-ESM2-0/ssp370/Amon/tas/tas_Amon_MRI-ESM2-0_ssp370_regrid_208901-208912.nc',\n",
       "  '/beegfs/CMIP6/kmredilla/cmip6_regridding/regrid/MRI-ESM2-0/ssp370/Amon/tas/tas_Amon_MRI-ESM2-0_ssp370_regrid_209001-209012.nc',\n",
       "  '/beegfs/CMIP6/kmredilla/cmip6_regridding/regrid/MRI-ESM2-0/ssp370/Amon/tas/tas_Amon_MRI-ESM2-0_ssp370_regrid_209101-209112.nc',\n",
       "  '/beegfs/CMIP6/kmredilla/cmip6_regridding/regrid/MRI-ESM2-0/ssp370/Amon/tas/tas_Amon_MRI-ESM2-0_ssp370_regrid_209201-209212.nc',\n",
       "  '/beegfs/CMIP6/kmredilla/cmip6_regridding/regrid/MRI-ESM2-0/ssp370/Amon/tas/tas_Amon_MRI-ESM2-0_ssp370_regrid_209301-209312.nc',\n",
       "  '/beegfs/CMIP6/kmredilla/cmip6_regridding/regrid/MRI-ESM2-0/ssp370/Amon/tas/tas_Amon_MRI-ESM2-0_ssp370_regrid_209401-209412.nc',\n",
       "  '/beegfs/CMIP6/kmredilla/cmip6_regridding/regrid/MRI-ESM2-0/ssp370/Amon/tas/tas_Amon_MRI-ESM2-0_ssp370_regrid_209501-209512.nc',\n",
       "  '/beegfs/CMIP6/kmredilla/cmip6_regridding/regrid/MRI-ESM2-0/ssp370/Amon/tas/tas_Amon_MRI-ESM2-0_ssp370_regrid_209601-209612.nc',\n",
       "  '/beegfs/CMIP6/kmredilla/cmip6_regridding/regrid/MRI-ESM2-0/ssp370/Amon/tas/tas_Amon_MRI-ESM2-0_ssp370_regrid_209701-209712.nc',\n",
       "  '/beegfs/CMIP6/kmredilla/cmip6_regridding/regrid/MRI-ESM2-0/ssp370/Amon/tas/tas_Amon_MRI-ESM2-0_ssp370_regrid_209801-209812.nc',\n",
       "  '/beegfs/CMIP6/kmredilla/cmip6_regridding/regrid/MRI-ESM2-0/ssp370/Amon/tas/tas_Amon_MRI-ESM2-0_ssp370_regrid_209901-209912.nc',\n",
       "  '/beegfs/CMIP6/kmredilla/cmip6_regridding/regrid/MRI-ESM2-0/ssp370/Amon/tas/tas_Amon_MRI-ESM2-0_ssp370_regrid_210001-210012.nc'],\n",
       " [])"
      ]
     },
     "execution_count": 91,
     "metadata": {},
     "output_type": "execute_result"
    }
   ],
   "source": [
    "ds_errors, value_errors = compare_expected_to_existing_and_check_values(\n",
    "    regrid_dir,\n",
    "    regrid_batch_dir,\n",
    "    vars,\n",
    "    freqs,\n",
    "    models,\n",
    "    scenarios,\n",
    "    fps_to_ignore,\n",
    ")"
   ]
  },
  {
   "cell_type": "markdown",
   "id": "30fa767c",
   "metadata": {},
   "source": [
    "Here is a summary of the errors:"
   ]
  },
  {
   "cell_type": "code",
   "execution_count": null,
   "id": "5c24b3be",
   "metadata": {},
   "outputs": [],
   "source": [
    "# print summary messages\n",
    "error_count = len(ds_errors) + len(value_errors)\n",
    "print(f\"QC process complete: {error_count} errors found.\")\n",
    "if len(ds_errors) > 0:\n",
    "    print(\n",
    "        f\"Errors in opening some datasets. {len(ds_errors)} files could not be opened. See {str(error_file)} for error log.\"\n",
    "    )\n",
    "if len(value_errors) > 0:\n",
    "    print(\n",
    "        f\"Errors in dataset values. {len(value_errors)} files have regridded values outside of source file range. See {str(error_file)} for error log.\"\n",
    "    )"
   ]
  },
  {
   "cell_type": "code",
   "execution_count": null,
   "id": "54efa560",
   "metadata": {},
   "outputs": [],
   "source": []
  },
  {
   "cell_type": "markdown",
   "id": "8cadf8cc-8625-402a-ad43-92dc94d0c0ad",
   "metadata": {},
   "source": [
    "#### Visual assessment\n",
    "\n",
    "Here we will build some helper functions to aid us perform a qualitative assessment of the regridding. Using just the regridded file name and the main CMIP6 source directory, we will reconstruct the source file path and by plot a comparison of source files and regridded files."
   ]
  },
  {
   "cell_type": "code",
   "execution_count": null,
   "id": "fa3df370",
   "metadata": {},
   "outputs": [],
   "source": [
    "# set min and max number of files to QC\n",
    "min_qc = 20\n",
    "max_qc = 75\n",
    "\n",
    "regrid_fps = generate_regrid_fps_from_params(models, scenarios, vars, freqs, regrid_dir)\n",
    "# pick a percentage of the regridded files for visual QC, and count those files\n",
    "pct = 10\n",
    "pct_count = round(len(regrid_fps) * (pct / 100))\n",
    "\n",
    "# use all files if less than minimum are available\n",
    "# use max number of random files if percentage exceeds maximum\n",
    "# or just use percentage of random files\n",
    "if len(regrid_fps) <= min_qc:\n",
    "    qc_files = regrid_fps\n",
    "elif pct_count >= max_qc:\n",
    "    qc_files = random.sample(regrid_fps, max_qc)\n",
    "else:\n",
    "    qc_files = random.sample(regrid_fps, pct_count)"
   ]
  },
  {
   "cell_type": "markdown",
   "id": "c8d35bf9",
   "metadata": {},
   "source": [
    "From our previous random selection of regridded files to QC, plot comparisons in a spatial domain that includes Alaska and western Canada."
   ]
  },
  {
   "cell_type": "code",
   "execution_count": 5,
   "id": "4383c6cb",
   "metadata": {},
   "outputs": [],
   "source": [
    "for fp in qc_files:\n",
    "    plot_comparison(fp, cmip6_dir)"
   ]
  }
 ],
 "metadata": {
  "kernelspec": {
   "display_name": "Python 3 (ipykernel)",
   "language": "python",
   "name": "python3"
  },
  "language_info": {
   "codemirror_mode": {
    "name": "ipython",
    "version": 3
   },
   "file_extension": ".py",
   "mimetype": "text/x-python",
   "name": "python",
   "nbconvert_exporter": "python",
   "pygments_lexer": "ipython3",
   "version": "3.11.6"
  }
 },
 "nbformat": 4,
 "nbformat_minor": 5
}
