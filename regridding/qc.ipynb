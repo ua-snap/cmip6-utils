{
 "cells": [
  {
   "cell_type": "markdown",
   "id": "fe926eb1",
   "metadata": {},
   "source": [
    "## Visual QC notebook\n",
    "This notebook is designed to be used in a visual QC check of regridded CMIP6 data. Regridded files are counted, and a percentage of the files (here 10%) are randomly selected for QC. Using only the output file names, we will:\n",
    "\n",
    "- locate the original CMIP6 source data\n",
    "- plot source data alongside regridded data to compare visually\n",
    "\n",
    "#### How to use with `prefect` via `papermill`:\n",
    "This notebook should be run as the final step of the prefect regridding flow. The output will be saved as a new notebook in the QC directory created during the flow. To accomplish this, create a task in the prefect flow that will execute this notebook from the command line using `papermill`, e.g.:\n",
    "\n",
    "```papermill path/to/repo/regridding/visual_qc.ipynb path/to/qc/output/output.ipynb -r output_directory \"/path/to/output/dir\" -r cmip6_directory \"/path/to/cmip6/dir\"```\n",
    "\n",
    "The first argument is this notebook's location, which can be constructed using the `{output_directory}` parameter of the flow run (ie, the notebook's location within the downloaded repo directory). The second argument is the desired notebook output location, which can also be constructed using the `{output_directory}` parameter of the flow run. The remaining arguments are raw strings (denoted by `-r`) of the working and input directories used in the flow run.\n",
    "\n",
    "Papermill parameter cell:"
   ]
  },
  {
   "cell_type": "code",
   "execution_count": 1,
   "id": "6f52c02e",
   "metadata": {
    "tags": [
     "parameters"
    ]
   },
   "outputs": [],
   "source": [
    "# this cell is tagged \"parameters\" and contains default parameter values for this notebook\n",
    "# any parameters injected by papermill during the prefect flow will be written into a new cell directly beneath this one\n",
    "# and will override the values in this cell\n",
    "output_directory = \"/beegfs/CMIP6/snapdata/cmip6_regridding\"\n",
    "cmip6_directory = \"/beegfs/CMIP6/arctic-cmip6/CMIP6\"\n",
    "vars = \"tas\"\n",
    "freqs = \"mon\"\n",
    "models = \"GFDL-ESM4\"\n",
    "scenarios = \"ssp370\""
   ]
  },
  {
   "cell_type": "markdown",
   "metadata": {},
   "source": [
    "Import packages"
   ]
  },
  {
   "cell_type": "code",
   "execution_count": 2,
   "id": "73ab1013-3464-40bb-95bc-03f7f607193f",
   "metadata": {},
   "outputs": [],
   "source": [
    "from pathlib import Path\n",
    "from qc import (\n",
    "    get_source_fps_from_batch_files,\n",
    "    summarize_slurm_out_files,\n",
    "    compare_expected_to_existing_and_check_values,\n",
    "    generate_regrid_fps_from_params,\n",
    "    plot_comparison,\n",
    "    extract_params_from_src_filepath,\n",
    "    subsample_files,\n",
    ")"
   ]
  },
  {
   "cell_type": "markdown",
   "id": "be44568a",
   "metadata": {},
   "source": [
    "#### Setup\n",
    "\n",
    "Define data sources and parameters for QC. This notebook is expected to only QC the data that was processed in the flow run, i.e. only those files derived from source files which are listed in the existing batch files. We will want to verify that the supplied parameters correspond to these regridded files. \n",
    "\n",
    "Determine which regridded files to check:"
   ]
  },
  {
   "cell_type": "code",
   "execution_count": 3,
   "id": "8194d8c0",
   "metadata": {},
   "outputs": [],
   "source": [
    "# set cmip6_dir\n",
    "cmip6_dir = Path(cmip6_directory)\n",
    "output_dir = Path(output_directory)\n",
    "regrid_dir = output_dir.joinpath(\"regrid\")\n",
    "\n",
    "\n",
    "regrid_batch_dir = output_dir.joinpath(\"regrid_batch\")\n",
    "slurm_dir = output_dir.joinpath(\"slurm\")\n",
    "slurm_rerid_dir = slurm_dir.joinpath(\"regrid\")"
   ]
  },
  {
   "cell_type": "code",
   "execution_count": 4,
   "id": "884f943c",
   "metadata": {},
   "outputs": [],
   "source": [
    "src_fps = get_source_fps_from_batch_files(regrid_batch_dir)"
   ]
  },
  {
   "cell_type": "markdown",
   "id": "fd724e5e",
   "metadata": {},
   "source": [
    "Make sure the expected source files match the parameters supplied to notebook. If not then the notebook was not run with the expected parameters!"
   ]
  },
  {
   "cell_type": "code",
   "execution_count": 5,
   "id": "568502cf",
   "metadata": {},
   "outputs": [],
   "source": [
    "src_params = [extract_params_from_src_filepath(fp) for fp in src_fps]\n",
    "for p_name, p_str in zip(\n",
    "    [\"model\", \"scenario\", \"frequency\", \"variable_id\"], [models, scenarios, freqs, vars]\n",
    "):\n",
    "    assert all(\n",
    "        [params[p_name] in p_str for params in src_params]\n",
    "    ), f\"Source files submitted for regridding contain values for the {p_name} parameter ({', '.join(list(set([params[p_name] for params in src_params])))}) which were not supplied for QC in this notebook ({p_str}).\""
   ]
  },
  {
   "cell_type": "markdown",
   "id": "9d38b8d0",
   "metadata": {},
   "source": [
    "Ignore certain files based on results in slurm output files:"
   ]
  },
  {
   "cell_type": "code",
   "execution_count": 6,
   "id": "35c11c0c",
   "metadata": {},
   "outputs": [],
   "source": [
    "# check slurm files\n",
    "fps_to_ignore = summarize_slurm_out_files(slurm_dir)\n",
    "for fp in fps_to_ignore:\n",
    "    if fp in src_fps:\n",
    "        src_fps.remove(fp)"
   ]
  },
  {
   "cell_type": "markdown",
   "id": "4510c876",
   "metadata": {},
   "source": [
    "Now compare expected files to existing files and make sure values OK. This will open and check files in parallel and could take a while. "
   ]
  },
  {
   "cell_type": "code",
   "execution_count": 7,
   "id": "a7bfd8a4",
   "metadata": {},
   "outputs": [],
   "source": [
    "ds_errors, value_errors = compare_expected_to_existing_and_check_values(\n",
    "    regrid_dir,\n",
    "    regrid_batch_dir,\n",
    "    slurm_dir,\n",
    "    vars,\n",
    "    freqs,\n",
    "    models,\n",
    "    scenarios,\n",
    "    fps_to_ignore,\n",
    ")"
   ]
  },
  {
   "cell_type": "markdown",
   "id": "30fa767c",
   "metadata": {},
   "source": [
    "Here is a summary of the errors:"
   ]
  },
  {
   "cell_type": "code",
   "execution_count": 8,
   "id": "5c24b3be",
   "metadata": {},
   "outputs": [
    {
     "name": "stdout",
     "output_type": "stream",
     "text": [
      "QC process complete: 0 errors found.\n"
     ]
    }
   ],
   "source": [
    "# print summary messages\n",
    "error_count = len(ds_errors) + len(value_errors)\n",
    "print(f\"QC process complete: {error_count} errors found.\")\n",
    "if len(ds_errors) > 0:\n",
    "    print(\n",
    "        f\"Errors in opening some datasets. {len(ds_errors)} files could not be opened. See {str(error_file)} for error log.\"\n",
    "    )\n",
    "if len(value_errors) > 0:\n",
    "    print(\n",
    "        f\"Errors in dataset values. {len(value_errors)} files have regridded values outside of source file range. See {str(error_file)} for error log.\"\n",
    "    )"
   ]
  },
  {
   "cell_type": "markdown",
   "id": "8cadf8cc-8625-402a-ad43-92dc94d0c0ad",
   "metadata": {},
   "source": [
    "#### Visual assessment\n",
    "\n",
    "Here we will build some helper functions to aid us perform a qualitative assessment of the regridding. Using just the regridded file name and the main CMIP6 source directory, we will reconstruct the source file path and by plot a comparison of source files and regridded files."
   ]
  },
  {
   "cell_type": "markdown",
   "id": "c8d35bf9",
   "metadata": {},
   "source": [
    "From our previous random selection of regridded files to QC, plot comparisons in a spatial domain that includes Alaska and western Canada."
   ]
  },
  {
   "cell_type": "code",
   "execution_count": 1,
   "id": "4383c6cb",
   "metadata": {},
   "outputs": [],
   "source": [
    "regrid_fps = generate_regrid_fps_from_params(models, scenarios, vars, freqs, regrid_dir)\n",
    "qc_files = subsample_files(regrid_fps)\n",
    "\n",
    "for fp in qc_files:\n",
    "    plot_comparison(fp, cmip6_dir)"
   ]
  },
  {
   "cell_type": "code",
   "execution_count": null,
   "id": "60b23a2a",
   "metadata": {},
   "outputs": [],
   "source": []
  }
 ],
 "metadata": {
  "kernelspec": {
   "display_name": "Python 3 (ipykernel)",
   "language": "python",
   "name": "python3"
  },
  "language_info": {
   "codemirror_mode": {
    "name": "ipython",
    "version": 3
   },
   "file_extension": ".py",
   "mimetype": "text/x-python",
   "name": "python",
   "nbconvert_exporter": "python",
   "pygments_lexer": "ipython3",
   "version": "undefined.undefined.undefined"
  }
 },
 "nbformat": 4,
 "nbformat_minor": 5
}
