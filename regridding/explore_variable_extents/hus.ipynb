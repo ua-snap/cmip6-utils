{
 "cells": [
  {
   "cell_type": "markdown",
   "id": "dc369933",
   "metadata": {
    "tags": [
     "papermill-error-cell-tag"
    ]
   },
   "source": [
    "<span style=\"color:red; font-family:Helvetica Neue, Helvetica, Arial, sans-serif; font-size:2em;\">An Exception was encountered at '<a href=\"#papermill-error-cell\">In [8]</a>'.</span>"
   ]
  },
  {
   "cell_type": "code",
   "execution_count": 1,
   "id": "9175af0c",
   "metadata": {
    "execution": {
     "iopub.execute_input": "2024-03-27T00:52:03.015554Z",
     "iopub.status.busy": "2024-03-27T00:52:03.015227Z",
     "iopub.status.idle": "2024-03-27T00:52:06.888856Z",
     "shell.execute_reply": "2024-03-27T00:52:06.888052Z"
    },
    "papermill": {
     "duration": 3.880024,
     "end_time": "2024-03-27T00:52:06.891049",
     "exception": false,
     "start_time": "2024-03-27T00:52:03.011025",
     "status": "completed"
    },
    "tags": []
   },
   "outputs": [],
   "source": [
    "from pathlib import Path\n",
    "import xarray as xr\n",
    "import math\n",
    "import matplotlib.pyplot as plt\n",
    "import geopandas as gpd\n",
    "import xesmf as xe\n",
    "import pandas as pd\n",
    "import numpy as np\n",
    "\n",
    "import warnings\n",
    "warnings.filterwarnings('ignore')"
   ]
  },
  {
   "cell_type": "code",
   "execution_count": 2,
   "id": "8b48ea90",
   "metadata": {
    "execution": {
     "iopub.execute_input": "2024-03-27T00:52:06.898683Z",
     "iopub.status.busy": "2024-03-27T00:52:06.898154Z",
     "iopub.status.idle": "2024-03-27T00:52:06.901297Z",
     "shell.execute_reply": "2024-03-27T00:52:06.900902Z"
    },
    "papermill": {
     "duration": 0.008802,
     "end_time": "2024-03-27T00:52:06.902748",
     "exception": false,
     "start_time": "2024-03-27T00:52:06.893946",
     "status": "completed"
    },
    "tags": [
     "parameters"
    ]
   },
   "outputs": [],
   "source": [
    "# papermill parameters cell\n",
    "\n",
    "var = 'prsn'\n",
    "cmip6_directory = '/beegfs/CMIP6/arctic-cmip6/CMIP6'\n",
    "repo_directory = '/center1/CMIP6/jdpaul3/regrid_global/cmip6-utils'\n"
   ]
  },
  {
   "cell_type": "code",
   "execution_count": 3,
   "id": "7eeed485",
   "metadata": {
    "execution": {
     "iopub.execute_input": "2024-03-27T00:52:06.909252Z",
     "iopub.status.busy": "2024-03-27T00:52:06.909023Z",
     "iopub.status.idle": "2024-03-27T00:52:06.911421Z",
     "shell.execute_reply": "2024-03-27T00:52:06.911036Z"
    },
    "papermill": {
     "duration": 0.007515,
     "end_time": "2024-03-27T00:52:06.912451",
     "exception": false,
     "start_time": "2024-03-27T00:52:06.904936",
     "status": "completed"
    },
    "tags": [
     "injected-parameters"
    ]
   },
   "outputs": [],
   "source": [
    "# Parameters\n",
    "cmip6_directory = \"/beegfs/CMIP6/arctic-cmip6/CMIP6\"\n",
    "repo_directory = \"/home/jdpaul3/cmip6-utils\"\n",
    "var = \"hus\"\n"
   ]
  },
  {
   "cell_type": "code",
   "execution_count": 4,
   "id": "80a649cf",
   "metadata": {
    "execution": {
     "iopub.execute_input": "2024-03-27T00:52:06.919294Z",
     "iopub.status.busy": "2024-03-27T00:52:06.919072Z",
     "iopub.status.idle": "2024-03-27T00:52:07.363299Z",
     "shell.execute_reply": "2024-03-27T00:52:07.362895Z"
    },
    "papermill": {
     "duration": 0.450095,
     "end_time": "2024-03-27T00:52:07.364977",
     "exception": false,
     "start_time": "2024-03-27T00:52:06.914882",
     "status": "completed"
    },
    "tags": []
   },
   "outputs": [],
   "source": [
    "# create Path objects\n",
    "cmip6_directory = Path(cmip6_directory)\n",
    "repo_directory = Path(repo_directory)\n",
    "\n",
    "# get coastlines for plotting\n",
    "coastlines = gpd.read_file(repo_directory.joinpath(\"indicators\", \"shp\", \"ne_110m_coastline.shp\"))\n",
    "# get target grid for regridding\n",
    "# this is a known global extent variable 'tas' and the regridding in this notebook does not use masking\n",
    "dst_ds = xr.open_dataset(cmip6_directory.joinpath(\"ScenarioMIP/NCAR/CESM2/ssp370/r11i1p1f1/Amon/tas/gn/v20200528/tas_Amon_CESM2_ssp370_r11i1p1f1_gn_206501-210012.nc\"))"
   ]
  },
  {
   "cell_type": "code",
   "execution_count": 5,
   "id": "5a4b699d",
   "metadata": {
    "execution": {
     "iopub.execute_input": "2024-03-27T00:52:07.372109Z",
     "iopub.status.busy": "2024-03-27T00:52:07.371870Z",
     "iopub.status.idle": "2024-03-27T00:52:07.458573Z",
     "shell.execute_reply": "2024-03-27T00:52:07.458127Z"
    },
    "papermill": {
     "duration": 0.091185,
     "end_time": "2024-03-27T00:52:07.459588",
     "exception": false,
     "start_time": "2024-03-27T00:52:07.368403",
     "status": "completed"
    },
    "tags": []
   },
   "outputs": [],
   "source": [
    "def init_regridder(src_ds, dst_ds):\n",
    "    # cache existing encoding / attrs\n",
    "    lon_enc = dst_ds[\"lon\"].encoding\n",
    "    lon_attrs = dst_ds[\"lon\"].attrs\n",
    "    # convert to -180 to 180 lon coords, and reapply encoding / attrs\n",
    "    dst_ds[\"lon\"] = (dst_ds[\"lon\"] + 180) % 360 - 180\n",
    "    dst_ds[\"lon\"].encoding = lon_enc\n",
    "    dst_ds[\"lon\"].attrs = lon_attrs\n",
    "    # probably doesn't matter but technically correct after adjustment\n",
    "    dst_ds[\"lon\"].attrs[\"valid_max\"] = 180\n",
    "    dst_ds[\"lon\"].attrs[\"valid_min\"] = -180\n",
    "    # sort\n",
    "    dst_ds = dst_ds.sortby(dst_ds.lon, ascending=True)\n",
    "    # initialize the regridder which now contains standard -180 to 180 longitude values\n",
    "    # had to add ignore_degenerate flag to get some Omon freq files to regrid without error!\n",
    "    regridder = xe.Regridder(src_ds, dst_ds, \"bilinear\", unmapped_to_nan=True, periodic=True, ignore_degenerate=True)\n",
    "    return regridder\n",
    "\n",
    "\n",
    "def categorize_and_plot_var_by_model_freq(var):\n",
    "    # get all files for a variable\n",
    "    var_fps = list(cmip6_directory.glob(f\"**/{var}/**/*.nc\"))\n",
    "\n",
    "    if len(var_fps) == 0:\n",
    "        print(\"No files found for that variable, aborting!\")\n",
    "        return {}\n",
    "    else:\n",
    "        # get all models\n",
    "        models=list(set([fp.parts[-8] for fp in var_fps]))\n",
    "        # create dict of freqs for each model\n",
    "        model_freq_dict = {}\n",
    "        for model in models:\n",
    "            freqs = []\n",
    "            for fp in [fp for fp in var_fps if fp.parts[-8]==model]:\n",
    "                freqs.append(fp.parts[-5])\n",
    "            model_freq_dict[model] = list(set(freqs))\n",
    "\n",
    "        out_dict={}\n",
    "        for model in model_freq_dict.keys():\n",
    "            plot_fps = []\n",
    "            for freq in model_freq_dict[model]:\n",
    "                # get first filepath for model/freq combo\n",
    "                plot_fps.append([fp for fp in var_fps if fp.parts[-8]==model and fp.parts[-5]==freq][0])\n",
    "            sub_dict = regrid_categorize_multiplot(plot_fps, var)\n",
    "            out_dict[model]=sub_dict\n",
    "        return out_dict\n",
    "\n",
    "\n",
    "def regrid_categorize_multiplot(plot_fps, var):\n",
    "    model = plot_fps[0].parts[-8]\n",
    "    sub_dict = {}\n",
    "\n",
    "    nrows=math.ceil(len(plot_fps)/3)\n",
    "    ncols=3\n",
    "    fig_height= nrows*4\n",
    "    \n",
    "    lat_slice = slice(50,90)\n",
    "    lon_slice = slice(-170, -120)\n",
    "\n",
    "    fig, _axes = plt.subplots(nrows, ncols, figsize=(12,fig_height))\n",
    "    for ax_tuple, fp in zip(enumerate(fig.axes), plot_fps):\n",
    "\n",
    "        freq = fp.parts[-5]\n",
    "        \n",
    "        src_ds = xr.open_dataset(fp)\n",
    "\n",
    "        # count the non-nan values\n",
    "        non_nans = (~np.isnan(src_ds[var].sel(time=src_ds['time'][0]))).sum()\n",
    "        nans = (np.isnan(src_ds[var].sel(time=src_ds['time'][0]))).sum()\n",
    "        total_values = nans + non_nans\n",
    "        # use 50% as threshold to determine land/sea only categories\n",
    "        # if nans are less than 10% call it global category\n",
    "        if nans/total_values < .1:\n",
    "            category = \"global\"\n",
    "        elif nans/total_values > .5:\n",
    "            category = \"land\"\n",
    "        else:\n",
    "            category = \"sea\"\n",
    "\n",
    "        r = init_regridder(src_ds, dst_ds)\n",
    "        regrid_ds = r(src_ds)\n",
    "\n",
    "        ax = ax_tuple[1]\n",
    "        regrid_ds[var].sel(time=regrid_ds['time'][0], lat=lat_slice, lon=lon_slice).plot(cmap='plasma', ax=ax, vmin=0, add_colorbar=False)\n",
    "        coastlines.plot(color='red', ax=ax)\n",
    "        ax.set_title(f\"{freq}: {category}\")\n",
    "        ax.set_xlabel(\"\")\n",
    "        ax.set_ylabel(\"\")\n",
    "\n",
    "        sub_dict[freq]=category\n",
    "        \n",
    "    fig.suptitle(f\"{model}\")\n",
    "    fig.tight_layout()\n",
    "    plt.show()\n",
    "\n",
    "    return sub_dict\n",
    "\n",
    "\n",
    "def categorize_var_by_model_freq(var):\n",
    "    # get all files for a variable\n",
    "    var_fps = list(cmip6_directory.glob(f\"**/{var}/**/*.nc\"))\n",
    "\n",
    "    if len(var_fps) == 0:\n",
    "        print(\"No files found for that variable, aborting!\")\n",
    "        return {}\n",
    "    else:\n",
    "        # get all models\n",
    "        models=list(set([fp.parts[-8] for fp in var_fps]))\n",
    "        # create dict of freqs for each model\n",
    "        model_freq_dict = {}\n",
    "        for model in models:\n",
    "            freqs = []\n",
    "            for fp in [fp for fp in var_fps if fp.parts[-8]==model]:\n",
    "                freqs.append(fp.parts[-5])\n",
    "            model_freq_dict[model] = list(set(freqs))\n",
    "            \n",
    "        print(f\"Summary of models and frequencies for variable {var}:\")\n",
    "        df = pd.concat(pd.DataFrame({'model':k, 'freq':v}) for k, v in model_freq_dict.items())\n",
    "        print(pd.crosstab(df.model, df.freq))\n",
    "\n",
    "        out_dict={}\n",
    "        for model in model_freq_dict.keys():\n",
    "            plot_fps = []\n",
    "            for freq in model_freq_dict[model]:\n",
    "                # get first filepath for model/freq combo\n",
    "                plot_fps.append([fp for fp in var_fps if fp.parts[-8]==model and fp.parts[-5]==freq][0])\n",
    "\n",
    "            model = plot_fps[0].parts[-8]\n",
    "            sub_dict = {}\n",
    "\n",
    "            for fp in plot_fps:\n",
    "                freq = fp.parts[-5]\n",
    "                src_ds = xr.open_dataset(fp)\n",
    "                # count the non-nan values\n",
    "                non_nans = (~np.isnan(src_ds[var].sel(time=src_ds['time'][0]))).sum()\n",
    "                nans = (np.isnan(src_ds[var].sel(time=src_ds['time'][0]))).sum()\n",
    "                total_values = nans + non_nans\n",
    "                # use 50% as threshold to determine land/sea only categories\n",
    "                # if nans are less than 10% call it global category\n",
    "                if nans/total_values < .1:\n",
    "                    category = \"global\"\n",
    "                elif nans/total_values > .5:\n",
    "                    category = \"land\"\n",
    "                else:\n",
    "                    category = \"sea\"\n",
    "\n",
    "                sub_dict[freq]=category\n",
    "                \n",
    "            out_dict[model]=sub_dict\n",
    "            \n",
    "        return out_dict\n",
    "\n",
    "def summarize_results_categories(results_dict):\n",
    "    category_dict = {}\n",
    "    for result in results_dict.keys():\n",
    "        categories = []\n",
    "        for freq in results_dict[result].keys():\n",
    "            categories.append(results_dict[result][freq])\n",
    "        if len(list(set(categories))) > 1:\n",
    "            category_dict[result] = \"mixed\"\n",
    "        else:\n",
    "            category_dict[result] = list(set(categories))[0]\n",
    "    return category_dict"
   ]
  },
  {
   "cell_type": "code",
   "execution_count": 6,
   "id": "17b6331f",
   "metadata": {
    "execution": {
     "iopub.execute_input": "2024-03-27T00:52:07.466517Z",
     "iopub.status.busy": "2024-03-27T00:52:07.466267Z",
     "iopub.status.idle": "2024-03-27T00:53:16.029965Z",
     "shell.execute_reply": "2024-03-27T00:53:16.029288Z"
    },
    "papermill": {
     "duration": 68.569514,
     "end_time": "2024-03-27T00:53:16.031832",
     "exception": false,
     "start_time": "2024-03-27T00:52:07.462318",
     "status": "completed"
    },
    "tags": []
   },
   "outputs": [
    {
     "name": "stdout",
     "output_type": "stream",
     "text": [
      "Summary of models and frequencies for variable hus:\n",
      "freq             6hrPlevPt  Amon  day\n",
      "model                                \n",
      "CESM2                    0     1    1\n",
      "CESM2-WACCM              0     1    1\n",
      "CNRM-CM6-1-HR            0     1    1\n",
      "EC-Earth3-Veg            0     1    1\n",
      "GFDL-ESM4                0     1    0\n",
      "HadGEM3-GC31-LL          0     1    1\n",
      "HadGEM3-GC31-MM          0     1    1\n",
      "KACE-1-0-G               0     1    1\n",
      "MIROC6                   1     1    1\n",
      "MPI-ESM1-2-HR            1     1    1\n",
      "MPI-ESM1-2-LR            0     1    1\n",
      "NorESM2-MM               0     1    1\n",
      "TaiESM1                  0     1    1\n"
     ]
    }
   ],
   "source": [
    "results = categorize_var_by_model_freq(var)"
   ]
  },
  {
   "cell_type": "code",
   "execution_count": 7,
   "id": "bc2b56c5",
   "metadata": {
    "execution": {
     "iopub.execute_input": "2024-03-27T00:53:16.040610Z",
     "iopub.status.busy": "2024-03-27T00:53:16.040403Z",
     "iopub.status.idle": "2024-03-27T00:53:16.047731Z",
     "shell.execute_reply": "2024-03-27T00:53:16.047354Z"
    },
    "papermill": {
     "duration": 0.013309,
     "end_time": "2024-03-27T00:53:16.049090",
     "exception": false,
     "start_time": "2024-03-27T00:53:16.035781",
     "status": "completed"
    },
    "tags": []
   },
   "outputs": [
    {
     "data": {
      "text/plain": [
       "{'MPI-ESM1-2-HR': 'global',\n",
       " 'TaiESM1': 'global',\n",
       " 'KACE-1-0-G': 'global',\n",
       " 'EC-Earth3-Veg': 'global',\n",
       " 'CESM2': 'global',\n",
       " 'CESM2-WACCM': 'global',\n",
       " 'MIROC6': 'global',\n",
       " 'NorESM2-MM': 'global',\n",
       " 'CNRM-CM6-1-HR': 'global',\n",
       " 'MPI-ESM1-2-LR': 'global',\n",
       " 'GFDL-ESM4': 'global',\n",
       " 'HadGEM3-GC31-LL': 'global',\n",
       " 'HadGEM3-GC31-MM': 'global'}"
      ]
     },
     "execution_count": 7,
     "metadata": {},
     "output_type": "execute_result"
    }
   ],
   "source": [
    "summary = summarize_results_categories(results)\n",
    "summary"
   ]
  },
  {
   "cell_type": "markdown",
   "id": "1f1b0b34",
   "metadata": {
    "tags": [
     "papermill-error-cell-tag"
    ]
   },
   "source": [
    "<span id=\"papermill-error-cell\" style=\"color:red; font-family:Helvetica Neue, Helvetica, Arial, sans-serif; font-size:2em;\">Execution using papermill encountered an exception here and stopped:</span>"
   ]
  },
  {
   "cell_type": "code",
   "execution_count": 8,
   "id": "376cd2ca",
   "metadata": {
    "execution": {
     "iopub.execute_input": "2024-03-27T00:53:16.057183Z",
     "iopub.status.busy": "2024-03-27T00:53:16.056954Z",
     "iopub.status.idle": "2024-03-27T00:53:59.402928Z",
     "shell.execute_reply": "2024-03-27T00:53:59.402235Z"
    },
    "papermill": {
     "duration": 43.351609,
     "end_time": "2024-03-27T00:53:59.403738",
     "exception": true,
     "start_time": "2024-03-27T00:53:16.052129",
     "status": "failed"
    },
    "tags": []
   },
   "outputs": [
    {
     "ename": "AttributeError",
     "evalue": "'Rectangle' object has no property 'cmap'",
     "output_type": "error",
     "traceback": [
      "\u001b[0;31m---------------------------------------------------------------------------\u001b[0m",
      "\u001b[0;31mAttributeError\u001b[0m                            Traceback (most recent call last)",
      "Input \u001b[0;32mIn [8]\u001b[0m, in \u001b[0;36m<cell line: 1>\u001b[0;34m()\u001b[0m\n\u001b[0;32m----> 1\u001b[0m \u001b[43mcategorize_and_plot_var_by_model_freq\u001b[49m\u001b[43m(\u001b[49m\u001b[43mvar\u001b[49m\u001b[43m)\u001b[49m\n",
      "Input \u001b[0;32mIn [5]\u001b[0m, in \u001b[0;36mcategorize_and_plot_var_by_model_freq\u001b[0;34m(var)\u001b[0m\n\u001b[1;32m     41\u001b[0m     \u001b[38;5;28;01mfor\u001b[39;00m freq \u001b[38;5;129;01min\u001b[39;00m model_freq_dict[model]:\n\u001b[1;32m     42\u001b[0m         \u001b[38;5;66;03m# get first filepath for model/freq combo\u001b[39;00m\n\u001b[1;32m     43\u001b[0m         plot_fps\u001b[38;5;241m.\u001b[39mappend([fp \u001b[38;5;28;01mfor\u001b[39;00m fp \u001b[38;5;129;01min\u001b[39;00m var_fps \u001b[38;5;28;01mif\u001b[39;00m fp\u001b[38;5;241m.\u001b[39mparts[\u001b[38;5;241m-\u001b[39m\u001b[38;5;241m8\u001b[39m]\u001b[38;5;241m==\u001b[39mmodel \u001b[38;5;129;01mand\u001b[39;00m fp\u001b[38;5;241m.\u001b[39mparts[\u001b[38;5;241m-\u001b[39m\u001b[38;5;241m5\u001b[39m]\u001b[38;5;241m==\u001b[39mfreq][\u001b[38;5;241m0\u001b[39m])\n\u001b[0;32m---> 44\u001b[0m     sub_dict \u001b[38;5;241m=\u001b[39m \u001b[43mregrid_categorize_multiplot\u001b[49m\u001b[43m(\u001b[49m\u001b[43mplot_fps\u001b[49m\u001b[43m,\u001b[49m\u001b[43m \u001b[49m\u001b[43mvar\u001b[49m\u001b[43m)\u001b[49m\n\u001b[1;32m     45\u001b[0m     out_dict[model]\u001b[38;5;241m=\u001b[39msub_dict\n\u001b[1;32m     46\u001b[0m \u001b[38;5;28;01mreturn\u001b[39;00m out_dict\n",
      "Input \u001b[0;32mIn [5]\u001b[0m, in \u001b[0;36mregrid_categorize_multiplot\u001b[0;34m(plot_fps, var)\u001b[0m\n\u001b[1;32m     81\u001b[0m regrid_ds \u001b[38;5;241m=\u001b[39m r(src_ds)\n\u001b[1;32m     83\u001b[0m ax \u001b[38;5;241m=\u001b[39m ax_tuple[\u001b[38;5;241m1\u001b[39m]\n\u001b[0;32m---> 84\u001b[0m \u001b[43mregrid_ds\u001b[49m\u001b[43m[\u001b[49m\u001b[43mvar\u001b[49m\u001b[43m]\u001b[49m\u001b[38;5;241;43m.\u001b[39;49m\u001b[43msel\u001b[49m\u001b[43m(\u001b[49m\u001b[43mtime\u001b[49m\u001b[38;5;241;43m=\u001b[39;49m\u001b[43mregrid_ds\u001b[49m\u001b[43m[\u001b[49m\u001b[38;5;124;43m'\u001b[39;49m\u001b[38;5;124;43mtime\u001b[39;49m\u001b[38;5;124;43m'\u001b[39;49m\u001b[43m]\u001b[49m\u001b[43m[\u001b[49m\u001b[38;5;241;43m0\u001b[39;49m\u001b[43m]\u001b[49m\u001b[43m,\u001b[49m\u001b[43m \u001b[49m\u001b[43mlat\u001b[49m\u001b[38;5;241;43m=\u001b[39;49m\u001b[43mlat_slice\u001b[49m\u001b[43m,\u001b[49m\u001b[43m \u001b[49m\u001b[43mlon\u001b[49m\u001b[38;5;241;43m=\u001b[39;49m\u001b[43mlon_slice\u001b[49m\u001b[43m)\u001b[49m\u001b[38;5;241;43m.\u001b[39;49m\u001b[43mplot\u001b[49m\u001b[43m(\u001b[49m\u001b[43mcmap\u001b[49m\u001b[38;5;241;43m=\u001b[39;49m\u001b[38;5;124;43m'\u001b[39;49m\u001b[38;5;124;43mplasma\u001b[39;49m\u001b[38;5;124;43m'\u001b[39;49m\u001b[43m,\u001b[49m\u001b[43m \u001b[49m\u001b[43max\u001b[49m\u001b[38;5;241;43m=\u001b[39;49m\u001b[43max\u001b[49m\u001b[43m,\u001b[49m\u001b[43m \u001b[49m\u001b[43mvmin\u001b[49m\u001b[38;5;241;43m=\u001b[39;49m\u001b[38;5;241;43m0\u001b[39;49m\u001b[43m,\u001b[49m\u001b[43m \u001b[49m\u001b[43madd_colorbar\u001b[49m\u001b[38;5;241;43m=\u001b[39;49m\u001b[38;5;28;43;01mFalse\u001b[39;49;00m\u001b[43m)\u001b[49m\n\u001b[1;32m     85\u001b[0m coastlines\u001b[38;5;241m.\u001b[39mplot(color\u001b[38;5;241m=\u001b[39m\u001b[38;5;124m'\u001b[39m\u001b[38;5;124mred\u001b[39m\u001b[38;5;124m'\u001b[39m, ax\u001b[38;5;241m=\u001b[39max)\n\u001b[1;32m     86\u001b[0m ax\u001b[38;5;241m.\u001b[39mset_title(\u001b[38;5;124mf\u001b[39m\u001b[38;5;124m\"\u001b[39m\u001b[38;5;132;01m{\u001b[39;00mfreq\u001b[38;5;132;01m}\u001b[39;00m\u001b[38;5;124m: \u001b[39m\u001b[38;5;132;01m{\u001b[39;00mcategory\u001b[38;5;132;01m}\u001b[39;00m\u001b[38;5;124m\"\u001b[39m)\n",
      "File \u001b[0;32m~/miniconda3/envs/cmip6-utils/lib/python3.9/site-packages/xarray/plot/plot.py:868\u001b[0m, in \u001b[0;36m_PlotMethods.__call__\u001b[0;34m(self, **kwargs)\u001b[0m\n\u001b[1;32m    867\u001b[0m \u001b[38;5;28;01mdef\u001b[39;00m \u001b[38;5;21m__call__\u001b[39m(\u001b[38;5;28mself\u001b[39m, \u001b[38;5;241m*\u001b[39m\u001b[38;5;241m*\u001b[39mkwargs):\n\u001b[0;32m--> 868\u001b[0m     \u001b[38;5;28;01mreturn\u001b[39;00m \u001b[43mplot\u001b[49m\u001b[43m(\u001b[49m\u001b[38;5;28;43mself\u001b[39;49m\u001b[38;5;241;43m.\u001b[39;49m\u001b[43m_da\u001b[49m\u001b[43m,\u001b[49m\u001b[43m \u001b[49m\u001b[38;5;241;43m*\u001b[39;49m\u001b[38;5;241;43m*\u001b[39;49m\u001b[43mkwargs\u001b[49m\u001b[43m)\u001b[49m\n",
      "File \u001b[0;32m~/miniconda3/envs/cmip6-utils/lib/python3.9/site-packages/xarray/plot/plot.py:334\u001b[0m, in \u001b[0;36mplot\u001b[0;34m(darray, row, col, col_wrap, ax, hue, rtol, subplot_kws, **kwargs)\u001b[0m\n\u001b[1;32m    330\u001b[0m     plotfunc \u001b[38;5;241m=\u001b[39m hist\n\u001b[1;32m    332\u001b[0m kwargs[\u001b[38;5;124m\"\u001b[39m\u001b[38;5;124max\u001b[39m\u001b[38;5;124m\"\u001b[39m] \u001b[38;5;241m=\u001b[39m ax\n\u001b[0;32m--> 334\u001b[0m \u001b[38;5;28;01mreturn\u001b[39;00m \u001b[43mplotfunc\u001b[49m\u001b[43m(\u001b[49m\u001b[43mdarray\u001b[49m\u001b[43m,\u001b[49m\u001b[43m \u001b[49m\u001b[38;5;241;43m*\u001b[39;49m\u001b[38;5;241;43m*\u001b[39;49m\u001b[43mkwargs\u001b[49m\u001b[43m)\u001b[49m\n",
      "File \u001b[0;32m~/miniconda3/envs/cmip6-utils/lib/python3.9/site-packages/xarray/plot/plot.py:559\u001b[0m, in \u001b[0;36mhist\u001b[0;34m(darray, figsize, size, aspect, ax, xincrease, yincrease, xscale, yscale, xticks, yticks, xlim, ylim, **kwargs)\u001b[0m\n\u001b[1;32m    556\u001b[0m no_nan \u001b[38;5;241m=\u001b[39m np\u001b[38;5;241m.\u001b[39mravel(darray\u001b[38;5;241m.\u001b[39mto_numpy())\n\u001b[1;32m    557\u001b[0m no_nan \u001b[38;5;241m=\u001b[39m no_nan[pd\u001b[38;5;241m.\u001b[39mnotnull(no_nan)]\n\u001b[0;32m--> 559\u001b[0m primitive \u001b[38;5;241m=\u001b[39m \u001b[43max\u001b[49m\u001b[38;5;241;43m.\u001b[39;49m\u001b[43mhist\u001b[49m\u001b[43m(\u001b[49m\u001b[43mno_nan\u001b[49m\u001b[43m,\u001b[49m\u001b[43m \u001b[49m\u001b[38;5;241;43m*\u001b[39;49m\u001b[38;5;241;43m*\u001b[39;49m\u001b[43mkwargs\u001b[49m\u001b[43m)\u001b[49m\n\u001b[1;32m    561\u001b[0m ax\u001b[38;5;241m.\u001b[39mset_title(darray\u001b[38;5;241m.\u001b[39m_title_for_slice())\n\u001b[1;32m    562\u001b[0m ax\u001b[38;5;241m.\u001b[39mset_xlabel(label_from_attrs(darray))\n",
      "File \u001b[0;32m~/miniconda3/envs/cmip6-utils/lib/python3.9/site-packages/matplotlib/__init__.py:1412\u001b[0m, in \u001b[0;36m_preprocess_data.<locals>.inner\u001b[0;34m(ax, data, *args, **kwargs)\u001b[0m\n\u001b[1;32m   1409\u001b[0m \u001b[38;5;129m@functools\u001b[39m\u001b[38;5;241m.\u001b[39mwraps(func)\n\u001b[1;32m   1410\u001b[0m \u001b[38;5;28;01mdef\u001b[39;00m \u001b[38;5;21minner\u001b[39m(ax, \u001b[38;5;241m*\u001b[39margs, data\u001b[38;5;241m=\u001b[39m\u001b[38;5;28;01mNone\u001b[39;00m, \u001b[38;5;241m*\u001b[39m\u001b[38;5;241m*\u001b[39mkwargs):\n\u001b[1;32m   1411\u001b[0m     \u001b[38;5;28;01mif\u001b[39;00m data \u001b[38;5;129;01mis\u001b[39;00m \u001b[38;5;28;01mNone\u001b[39;00m:\n\u001b[0;32m-> 1412\u001b[0m         \u001b[38;5;28;01mreturn\u001b[39;00m \u001b[43mfunc\u001b[49m\u001b[43m(\u001b[49m\u001b[43max\u001b[49m\u001b[43m,\u001b[49m\u001b[43m \u001b[49m\u001b[38;5;241;43m*\u001b[39;49m\u001b[38;5;28;43mmap\u001b[39;49m\u001b[43m(\u001b[49m\u001b[43msanitize_sequence\u001b[49m\u001b[43m,\u001b[49m\u001b[43m \u001b[49m\u001b[43margs\u001b[49m\u001b[43m)\u001b[49m\u001b[43m,\u001b[49m\u001b[43m \u001b[49m\u001b[38;5;241;43m*\u001b[39;49m\u001b[38;5;241;43m*\u001b[39;49m\u001b[43mkwargs\u001b[49m\u001b[43m)\u001b[49m\n\u001b[1;32m   1414\u001b[0m     bound \u001b[38;5;241m=\u001b[39m new_sig\u001b[38;5;241m.\u001b[39mbind(ax, \u001b[38;5;241m*\u001b[39margs, \u001b[38;5;241m*\u001b[39m\u001b[38;5;241m*\u001b[39mkwargs)\n\u001b[1;32m   1415\u001b[0m     auto_label \u001b[38;5;241m=\u001b[39m (bound\u001b[38;5;241m.\u001b[39marguments\u001b[38;5;241m.\u001b[39mget(label_namer)\n\u001b[1;32m   1416\u001b[0m                   \u001b[38;5;129;01mor\u001b[39;00m bound\u001b[38;5;241m.\u001b[39mkwargs\u001b[38;5;241m.\u001b[39mget(label_namer))\n",
      "File \u001b[0;32m~/miniconda3/envs/cmip6-utils/lib/python3.9/site-packages/matplotlib/axes/_axes.py:6787\u001b[0m, in \u001b[0;36mAxes.hist\u001b[0;34m(self, x, bins, range, density, weights, cumulative, bottom, histtype, align, orientation, rwidth, log, color, label, stacked, **kwargs)\u001b[0m\n\u001b[1;32m   6785\u001b[0m \u001b[38;5;28;01mif\u001b[39;00m patch:\n\u001b[1;32m   6786\u001b[0m     p \u001b[38;5;241m=\u001b[39m patch[\u001b[38;5;241m0\u001b[39m]\n\u001b[0;32m-> 6787\u001b[0m     \u001b[43mp\u001b[49m\u001b[38;5;241;43m.\u001b[39;49m\u001b[43mupdate\u001b[49m\u001b[43m(\u001b[49m\u001b[43mkwargs\u001b[49m\u001b[43m)\u001b[49m\n\u001b[1;32m   6788\u001b[0m     \u001b[38;5;28;01mif\u001b[39;00m lbl \u001b[38;5;129;01mis\u001b[39;00m \u001b[38;5;129;01mnot\u001b[39;00m \u001b[38;5;28;01mNone\u001b[39;00m:\n\u001b[1;32m   6789\u001b[0m         p\u001b[38;5;241m.\u001b[39mset_label(lbl)\n",
      "File \u001b[0;32m~/miniconda3/envs/cmip6-utils/lib/python3.9/site-packages/matplotlib/artist.py:1064\u001b[0m, in \u001b[0;36mArtist.update\u001b[0;34m(self, props)\u001b[0m\n\u001b[1;32m   1062\u001b[0m             func \u001b[38;5;241m=\u001b[39m \u001b[38;5;28mgetattr\u001b[39m(\u001b[38;5;28mself\u001b[39m, \u001b[38;5;124mf\u001b[39m\u001b[38;5;124m\"\u001b[39m\u001b[38;5;124mset_\u001b[39m\u001b[38;5;132;01m{\u001b[39;00mk\u001b[38;5;132;01m}\u001b[39;00m\u001b[38;5;124m\"\u001b[39m, \u001b[38;5;28;01mNone\u001b[39;00m)\n\u001b[1;32m   1063\u001b[0m             \u001b[38;5;28;01mif\u001b[39;00m \u001b[38;5;129;01mnot\u001b[39;00m callable(func):\n\u001b[0;32m-> 1064\u001b[0m                 \u001b[38;5;28;01mraise\u001b[39;00m \u001b[38;5;167;01mAttributeError\u001b[39;00m(\u001b[38;5;124mf\u001b[39m\u001b[38;5;124m\"\u001b[39m\u001b[38;5;132;01m{\u001b[39;00m\u001b[38;5;28mtype\u001b[39m(\u001b[38;5;28mself\u001b[39m)\u001b[38;5;241m.\u001b[39m\u001b[38;5;18m__name__\u001b[39m\u001b[38;5;132;01m!r}\u001b[39;00m\u001b[38;5;124m object \u001b[39m\u001b[38;5;124m\"\u001b[39m\n\u001b[1;32m   1065\u001b[0m                                      \u001b[38;5;124mf\u001b[39m\u001b[38;5;124m\"\u001b[39m\u001b[38;5;124mhas no property \u001b[39m\u001b[38;5;132;01m{\u001b[39;00mk\u001b[38;5;132;01m!r}\u001b[39;00m\u001b[38;5;124m\"\u001b[39m)\n\u001b[1;32m   1066\u001b[0m             ret\u001b[38;5;241m.\u001b[39mappend(func(v))\n\u001b[1;32m   1067\u001b[0m \u001b[38;5;28;01mif\u001b[39;00m ret:\n",
      "\u001b[0;31mAttributeError\u001b[0m: 'Rectangle' object has no property 'cmap'"
     ]
    },
    {
     "data": {
      "image/png": "[encoded data removed]",
      "text/plain": [
       "<Figure size 864x288 with 3 Axes>"
      ]
     },
     "metadata": {
      "needs_background": "light"
     },
     "output_type": "display_data"
    }
   ],
   "source": [
    "categorize_and_plot_var_by_model_freq(var)"
   ]
  },
  {
   "cell_type": "code",
   "execution_count": null,
   "id": "34228e01",
   "metadata": {
    "papermill": {
     "duration": null,
     "end_time": null,
     "exception": null,
     "start_time": null,
     "status": "pending"
    },
    "tags": []
   },
   "outputs": [],
   "source": []
  }
 ],
 "metadata": {
  "kernelspec": {
   "display_name": "cmip6-utils",
   "language": "python",
   "name": "python3"
  },
  "language_info": {
   "codemirror_mode": {
    "name": "ipython",
    "version": 3
   },
   "file_extension": ".py",
   "mimetype": "text/x-python",
   "name": "python",
   "nbconvert_exporter": "python",
   "pygments_lexer": "ipython3",
   "version": "3.9.13"
  },
  "papermill": {
   "default_parameters": {},
   "duration": 119.188926,
   "end_time": "2024-03-27T00:54:00.227164",
   "environment_variables": {},
   "exception": true,
   "input_path": "/home/jdpaul3/cmip6-utils/regridding/explore_variable_extents/explore_variable_extents.ipynb",
   "output_path": "/home/jdpaul3/cmip6-utils/regridding/explore_variable_extents/hus.ipynb",
   "parameters": {
    "cmip6_directory": "/beegfs/CMIP6/arctic-cmip6/CMIP6",
    "repo_directory": "/home/jdpaul3/cmip6-utils",
    "var": "hus"
   },
   "start_time": "2024-03-27T00:52:01.038238",
   "version": "2.4.0"
  }
 },
 "nbformat": 4,
 "nbformat_minor": 5
}