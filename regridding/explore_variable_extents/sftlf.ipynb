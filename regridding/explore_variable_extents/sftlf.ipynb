{
 "cells": [
  {
   "cell_type": "code",
   "execution_count": 1,
   "id": "e5962483",
   "metadata": {
    "execution": {
     "iopub.execute_input": "2024-03-27T18:11:04.125071Z",
     "iopub.status.busy": "2024-03-27T18:11:04.124837Z",
     "iopub.status.idle": "2024-03-27T18:11:07.744609Z",
     "shell.execute_reply": "2024-03-27T18:11:07.744046Z"
    },
    "papermill": {
     "duration": 3.626025,
     "end_time": "2024-03-27T18:11:07.746216",
     "exception": false,
     "start_time": "2024-03-27T18:11:04.120191",
     "status": "completed"
    },
    "tags": []
   },
   "outputs": [],
   "source": [
    "from pathlib import Path\n",
    "import xarray as xr\n",
    "import math\n",
    "import matplotlib.pyplot as plt\n",
    "import geopandas as gpd\n",
    "import xesmf as xe\n",
    "import pandas as pd\n",
    "import numpy as np\n",
    "\n",
    "import warnings\n",
    "warnings.filterwarnings('ignore')"
   ]
  },
  {
   "cell_type": "code",
   "execution_count": 2,
   "id": "0318effb",
   "metadata": {
    "execution": {
     "iopub.execute_input": "2024-03-27T18:11:07.752734Z",
     "iopub.status.busy": "2024-03-27T18:11:07.752300Z",
     "iopub.status.idle": "2024-03-27T18:11:07.755039Z",
     "shell.execute_reply": "2024-03-27T18:11:07.754664Z"
    },
    "papermill": {
     "duration": 0.006945,
     "end_time": "2024-03-27T18:11:07.755983",
     "exception": false,
     "start_time": "2024-03-27T18:11:07.749038",
     "status": "completed"
    },
    "tags": [
     "parameters"
    ]
   },
   "outputs": [],
   "source": [
    "# papermill parameters cell\n",
    "\n",
    "var = 'prsn'\n",
    "cmip6_directory = '/beegfs/CMIP6/arctic-cmip6/CMIP6'\n",
    "repo_directory = '/center1/CMIP6/jdpaul3/regrid_global/cmip6-utils'\n"
   ]
  },
  {
   "cell_type": "code",
   "execution_count": 3,
   "id": "70a436be",
   "metadata": {
    "execution": {
     "iopub.execute_input": "2024-03-27T18:11:07.762493Z",
     "iopub.status.busy": "2024-03-27T18:11:07.762168Z",
     "iopub.status.idle": "2024-03-27T18:11:07.764491Z",
     "shell.execute_reply": "2024-03-27T18:11:07.764124Z"
    },
    "papermill": {
     "duration": 0.007027,
     "end_time": "2024-03-27T18:11:07.765490",
     "exception": false,
     "start_time": "2024-03-27T18:11:07.758463",
     "status": "completed"
    },
    "tags": [
     "injected-parameters"
    ]
   },
   "outputs": [],
   "source": [
    "# Parameters\n",
    "cmip6_directory = \"/beegfs/CMIP6/arctic-cmip6/CMIP6\"\n",
    "repo_directory = \"/home/jdpaul3/cmip6-utils\"\n",
    "var = \"sftlf\"\n"
   ]
  },
  {
   "cell_type": "code",
   "execution_count": 4,
   "id": "0be70af8",
   "metadata": {
    "execution": {
     "iopub.execute_input": "2024-03-27T18:11:07.771559Z",
     "iopub.status.busy": "2024-03-27T18:11:07.771353Z",
     "iopub.status.idle": "2024-03-27T18:11:08.205941Z",
     "shell.execute_reply": "2024-03-27T18:11:08.205501Z"
    },
    "papermill": {
     "duration": 0.439424,
     "end_time": "2024-03-27T18:11:08.207376",
     "exception": false,
     "start_time": "2024-03-27T18:11:07.767952",
     "status": "completed"
    },
    "tags": []
   },
   "outputs": [],
   "source": [
    "# create Path objects\n",
    "cmip6_directory = Path(cmip6_directory)\n",
    "repo_directory = Path(repo_directory)\n",
    "\n",
    "# get coastlines for plotting\n",
    "coastlines = gpd.read_file(repo_directory.joinpath(\"indicators\", \"shp\", \"ne_110m_coastline.shp\"))\n",
    "# get target grid for regridding\n",
    "# this is a known global extent variable 'tas' and the regridding in this notebook does not use masking\n",
    "dst_ds = xr.open_dataset(cmip6_directory.joinpath(\"ScenarioMIP/NCAR/CESM2/ssp370/r11i1p1f1/Amon/tas/gn/v20200528/tas_Amon_CESM2_ssp370_r11i1p1f1_gn_206501-210012.nc\"))"
   ]
  },
  {
   "cell_type": "code",
   "execution_count": 5,
   "id": "bd5d44b2",
   "metadata": {
    "execution": {
     "iopub.execute_input": "2024-03-27T18:11:08.213571Z",
     "iopub.status.busy": "2024-03-27T18:11:08.213295Z",
     "iopub.status.idle": "2024-03-27T18:11:08.295229Z",
     "shell.execute_reply": "2024-03-27T18:11:08.294806Z"
    },
    "papermill": {
     "duration": 0.086299,
     "end_time": "2024-03-27T18:11:08.296348",
     "exception": false,
     "start_time": "2024-03-27T18:11:08.210049",
     "status": "completed"
    },
    "tags": []
   },
   "outputs": [],
   "source": [
    "def init_regridder(src_ds, dst_ds):\n",
    "    # cache existing encoding / attrs\n",
    "    lon_enc = dst_ds[\"lon\"].encoding\n",
    "    lon_attrs = dst_ds[\"lon\"].attrs\n",
    "    # convert to -180 to 180 lon coords, and reapply encoding / attrs\n",
    "    dst_ds[\"lon\"] = (dst_ds[\"lon\"] + 180) % 360 - 180\n",
    "    dst_ds[\"lon\"].encoding = lon_enc\n",
    "    dst_ds[\"lon\"].attrs = lon_attrs\n",
    "    # probably doesn't matter but technically correct after adjustment\n",
    "    dst_ds[\"lon\"].attrs[\"valid_max\"] = 180\n",
    "    dst_ds[\"lon\"].attrs[\"valid_min\"] = -180\n",
    "    # sort\n",
    "    dst_ds = dst_ds.sortby(dst_ds.lon, ascending=True)\n",
    "    # initialize the regridder which now contains standard -180 to 180 longitude values\n",
    "    # had to add ignore_degenerate flag to get some Omon freq files to regrid without error!\n",
    "    regridder = xe.Regridder(src_ds, dst_ds, \"bilinear\", unmapped_to_nan=True, periodic=True, ignore_degenerate=True)\n",
    "    return regridder\n",
    "\n",
    "\n",
    "def categorize_and_plot_var_by_model_freq(var):\n",
    "    # get all files for a variable\n",
    "    var_fps = list(cmip6_directory.glob(f\"**/{var}/**/*.nc\"))\n",
    "\n",
    "    if len(var_fps) == 0:\n",
    "        print(\"No files found for that variable, aborting!\")\n",
    "        return {}\n",
    "    else:\n",
    "        # get all models\n",
    "        models=list(set([fp.parts[-8] for fp in var_fps]))\n",
    "        # create dict of freqs for each model\n",
    "        model_freq_dict = {}\n",
    "        for model in models:\n",
    "            freqs = []\n",
    "            for fp in [fp for fp in var_fps if fp.parts[-8]==model]:\n",
    "                freqs.append(fp.parts[-5])\n",
    "            model_freq_dict[model] = list(set(freqs))\n",
    "\n",
    "        out_dict={}\n",
    "        for model in model_freq_dict.keys():\n",
    "            plot_fps = []\n",
    "            for freq in model_freq_dict[model]:\n",
    "                # get first filepath for model/freq combo\n",
    "                plot_fps.append([fp for fp in var_fps if fp.parts[-8]==model and fp.parts[-5]==freq][0])\n",
    "            sub_dict = regrid_categorize_multiplot(plot_fps, var)\n",
    "            out_dict[model]=sub_dict\n",
    "        return out_dict\n",
    "\n",
    "\n",
    "def regrid_categorize_multiplot(plot_fps, var):\n",
    "    model = plot_fps[0].parts[-8]\n",
    "    sub_dict = {}\n",
    "\n",
    "    nrows=math.ceil(len(plot_fps)/3)\n",
    "    ncols=3\n",
    "    fig_height= nrows*4\n",
    "    \n",
    "    lat_slice = slice(50,90)\n",
    "    lon_slice = slice(-170, -120)\n",
    "\n",
    "    fig, _axes = plt.subplots(nrows, ncols, figsize=(12,fig_height))\n",
    "    for ax_tuple, fp in zip(enumerate(fig.axes), plot_fps):\n",
    "\n",
    "        freq = fp.parts[-5]\n",
    "        \n",
    "        src_ds = xr.open_dataset(fp)\n",
    "\n",
    "        # count the non-nan values\n",
    "        non_nans = (~np.isnan(src_ds[var].sel(time=src_ds['time'][0]))).sum()\n",
    "        nans = (np.isnan(src_ds[var].sel(time=src_ds['time'][0]))).sum()\n",
    "        total_values = nans + non_nans\n",
    "        # use 50% as threshold to determine land/sea only categories\n",
    "        # if nans are less than 10% call it global category\n",
    "        if nans/total_values < .1:\n",
    "            category = \"global\"\n",
    "        elif nans/total_values > .5:\n",
    "            category = \"land\"\n",
    "        else:\n",
    "            category = \"sea\"\n",
    "\n",
    "        r = init_regridder(src_ds, dst_ds)\n",
    "        regrid_ds = r(src_ds)\n",
    "\n",
    "        ax = ax_tuple[1]\n",
    "        if \"plev\" in regrid_ds.coords:\n",
    "            regrid_ds[var].sel(time=regrid_ds['time'][0], plev=regrid_ds['plev'][0], lat=lat_slice, lon=lon_slice).plot(cmap='plasma', ax=ax, vmin=0, add_colorbar=False)\n",
    "        else:\n",
    "            regrid_ds[var].sel(time=regrid_ds['time'][0], lat=lat_slice, lon=lon_slice).plot(cmap='plasma', ax=ax, vmin=0, add_colorbar=False)\n",
    "        coastlines.plot(color='red', ax=ax)\n",
    "        ax.set_title(f\"{freq}: {category}\")\n",
    "        ax.set_xlabel(\"\")\n",
    "        ax.set_ylabel(\"\")\n",
    "\n",
    "        sub_dict[freq]=category\n",
    "        \n",
    "    fig.suptitle(f\"{model}\")\n",
    "    fig.tight_layout()\n",
    "    plt.show()\n",
    "\n",
    "    return sub_dict\n",
    "\n",
    "\n",
    "def categorize_var_by_model_freq(var):\n",
    "    # get all files for a variable\n",
    "    var_fps = list(cmip6_directory.glob(f\"**/{var}/**/*.nc\"))\n",
    "\n",
    "    if len(var_fps) == 0:\n",
    "        print(\"No files found for that variable, aborting!\")\n",
    "        return {}\n",
    "    else:\n",
    "        # get all models\n",
    "        models=list(set([fp.parts[-8] for fp in var_fps]))\n",
    "        # create dict of freqs for each model\n",
    "        model_freq_dict = {}\n",
    "        for model in models:\n",
    "            freqs = []\n",
    "            for fp in [fp for fp in var_fps if fp.parts[-8]==model]:\n",
    "                freqs.append(fp.parts[-5])\n",
    "            model_freq_dict[model] = list(set(freqs))\n",
    "            \n",
    "        print(f\"Summary of models and frequencies for variable {var}:\")\n",
    "        df = pd.concat(pd.DataFrame({'model':k, 'freq':v}) for k, v in model_freq_dict.items())\n",
    "        print(pd.crosstab(df.model, df.freq))\n",
    "\n",
    "        out_dict={}\n",
    "        for model in model_freq_dict.keys():\n",
    "            plot_fps = []\n",
    "            for freq in model_freq_dict[model]:\n",
    "                # get first filepath for model/freq combo\n",
    "                plot_fps.append([fp for fp in var_fps if fp.parts[-8]==model and fp.parts[-5]==freq][0])\n",
    "\n",
    "            model = plot_fps[0].parts[-8]\n",
    "            sub_dict = {}\n",
    "\n",
    "            for fp in plot_fps:\n",
    "                freq = fp.parts[-5]\n",
    "                src_ds = xr.open_dataset(fp)\n",
    "                # count the non-nan values\n",
    "                non_nans = (~np.isnan(src_ds[var].sel(time=src_ds['time'][0]))).sum()\n",
    "                nans = (np.isnan(src_ds[var].sel(time=src_ds['time'][0]))).sum()\n",
    "                total_values = nans + non_nans\n",
    "                # use 50% as threshold to determine land/sea only categories\n",
    "                # if nans are less than 10% call it global category\n",
    "                if nans/total_values < .1:\n",
    "                    category = \"global\"\n",
    "                elif nans/total_values > .5:\n",
    "                    category = \"land\"\n",
    "                else:\n",
    "                    category = \"sea\"\n",
    "\n",
    "                sub_dict[freq]=category\n",
    "                \n",
    "            out_dict[model]=sub_dict\n",
    "            \n",
    "        return out_dict\n",
    "\n",
    "def summarize_results_categories(results_dict):\n",
    "    category_dict = {}\n",
    "    for result in results_dict.keys():\n",
    "        categories = []\n",
    "        for freq in results_dict[result].keys():\n",
    "            categories.append(results_dict[result][freq])\n",
    "        if len(list(set(categories))) > 1:\n",
    "            category_dict[result] = \"mixed\"\n",
    "        else:\n",
    "            category_dict[result] = list(set(categories))[0]\n",
    "    return category_dict"
   ]
  },
  {
   "cell_type": "code",
   "execution_count": 6,
   "id": "b89ed0b1",
   "metadata": {
    "execution": {
     "iopub.execute_input": "2024-03-27T18:11:08.302966Z",
     "iopub.status.busy": "2024-03-27T18:11:08.302744Z",
     "iopub.status.idle": "2024-03-27T18:11:12.672202Z",
     "shell.execute_reply": "2024-03-27T18:11:12.671735Z"
    },
    "papermill": {
     "duration": 4.374125,
     "end_time": "2024-03-27T18:11:12.673271",
     "exception": false,
     "start_time": "2024-03-27T18:11:08.299146",
     "status": "completed"
    },
    "tags": []
   },
   "outputs": [
    {
     "name": "stdout",
     "output_type": "stream",
     "text": [
      "No files found for that variable, aborting!\n"
     ]
    }
   ],
   "source": [
    "results = categorize_var_by_model_freq(var)"
   ]
  },
  {
   "cell_type": "code",
   "execution_count": 7,
   "id": "3d899908",
   "metadata": {
    "execution": {
     "iopub.execute_input": "2024-03-27T18:11:12.681961Z",
     "iopub.status.busy": "2024-03-27T18:11:12.681730Z",
     "iopub.status.idle": "2024-03-27T18:11:12.688652Z",
     "shell.execute_reply": "2024-03-27T18:11:12.688285Z"
    },
    "papermill": {
     "duration": 0.013059,
     "end_time": "2024-03-27T18:11:12.689694",
     "exception": false,
     "start_time": "2024-03-27T18:11:12.676635",
     "status": "completed"
    },
    "tags": []
   },
   "outputs": [
    {
     "data": {
      "text/plain": [
       "{}"
      ]
     },
     "execution_count": 7,
     "metadata": {},
     "output_type": "execute_result"
    }
   ],
   "source": [
    "summary = summarize_results_categories(results)\n",
    "summary"
   ]
  },
  {
   "cell_type": "code",
   "execution_count": 8,
   "id": "c3baf229",
   "metadata": {
    "execution": {
     "iopub.execute_input": "2024-03-27T18:11:12.696961Z",
     "iopub.status.busy": "2024-03-27T18:11:12.696748Z",
     "iopub.status.idle": "2024-03-27T18:11:16.988244Z",
     "shell.execute_reply": "2024-03-27T18:11:16.987878Z"
    },
    "papermill": {
     "duration": 4.296449,
     "end_time": "2024-03-27T18:11:16.989214",
     "exception": false,
     "start_time": "2024-03-27T18:11:12.692765",
     "status": "completed"
    },
    "tags": []
   },
   "outputs": [
    {
     "name": "stdout",
     "output_type": "stream",
     "text": [
      "No files found for that variable, aborting!\n"
     ]
    },
    {
     "data": {
      "text/plain": [
       "{}"
      ]
     },
     "execution_count": 8,
     "metadata": {},
     "output_type": "execute_result"
    }
   ],
   "source": [
    "categorize_and_plot_var_by_model_freq(var)"
   ]
  },
  {
   "cell_type": "code",
   "execution_count": null,
   "id": "7281556f",
   "metadata": {
    "papermill": {
     "duration": 0.003324,
     "end_time": "2024-03-27T18:11:16.996002",
     "exception": false,
     "start_time": "2024-03-27T18:11:16.992678",
     "status": "completed"
    },
    "tags": []
   },
   "outputs": [],
   "source": []
  }
 ],
 "metadata": {
  "kernelspec": {
   "display_name": "cmip6-utils",
   "language": "python",
   "name": "python3"
  },
  "language_info": {
   "codemirror_mode": {
    "name": "ipython",
    "version": 3
   },
   "file_extension": ".py",
   "mimetype": "text/x-python",
   "name": "python",
   "nbconvert_exporter": "python",
   "pygments_lexer": "ipython3",
   "version": "3.9.13"
  },
  "papermill": {
   "default_parameters": {},
   "duration": 15.252088,
   "end_time": "2024-03-27T18:11:17.414079",
   "environment_variables": {},
   "exception": null,
   "input_path": "/home/jdpaul3/cmip6-utils/regridding/explore_variable_extents/explore_variable_extents.ipynb",
   "output_path": "/home/jdpaul3/cmip6-utils/regridding/explore_variable_extents/sftlf.ipynb",
   "parameters": {
    "cmip6_directory": "/beegfs/CMIP6/arctic-cmip6/CMIP6",
    "repo_directory": "/home/jdpaul3/cmip6-utils",
    "var": "sftlf"
   },
   "start_time": "2024-03-27T18:11:02.161991",
   "version": "2.4.0"
  }
 },
 "nbformat": 4,
 "nbformat_minor": 5
}