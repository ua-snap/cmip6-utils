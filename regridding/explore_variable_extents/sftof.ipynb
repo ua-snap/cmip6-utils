{
 "cells": [
  {
   "cell_type": "code",
   "execution_count": 1,
   "id": "9ec562b8",
   "metadata": {
    "execution": {
     "iopub.execute_input": "2024-03-27T01:04:06.544175Z",
     "iopub.status.busy": "2024-03-27T01:04:06.543938Z",
     "iopub.status.idle": "2024-03-27T01:04:08.076382Z",
     "shell.execute_reply": "2024-03-27T01:04:08.075915Z"
    },
    "papermill": {
     "duration": 1.538248,
     "end_time": "2024-03-27T01:04:08.078029",
     "exception": false,
     "start_time": "2024-03-27T01:04:06.539781",
     "status": "completed"
    },
    "tags": []
   },
   "outputs": [],
   "source": [
    "from pathlib import Path\n",
    "import xarray as xr\n",
    "import math\n",
    "import matplotlib.pyplot as plt\n",
    "import geopandas as gpd\n",
    "import xesmf as xe\n",
    "import pandas as pd\n",
    "import numpy as np\n",
    "\n",
    "import warnings\n",
    "warnings.filterwarnings('ignore')"
   ]
  },
  {
   "cell_type": "code",
   "execution_count": 2,
   "id": "48e535e9",
   "metadata": {
    "execution": {
     "iopub.execute_input": "2024-03-27T01:04:08.084770Z",
     "iopub.status.busy": "2024-03-27T01:04:08.084388Z",
     "iopub.status.idle": "2024-03-27T01:04:08.087055Z",
     "shell.execute_reply": "2024-03-27T01:04:08.086663Z"
    },
    "papermill": {
     "duration": 0.007235,
     "end_time": "2024-03-27T01:04:08.088091",
     "exception": false,
     "start_time": "2024-03-27T01:04:08.080856",
     "status": "completed"
    },
    "tags": [
     "parameters"
    ]
   },
   "outputs": [],
   "source": [
    "# papermill parameters cell\n",
    "\n",
    "var = 'prsn'\n",
    "cmip6_directory = '/beegfs/CMIP6/arctic-cmip6/CMIP6'\n",
    "repo_directory = '/center1/CMIP6/jdpaul3/regrid_global/cmip6-utils'\n"
   ]
  },
  {
   "cell_type": "code",
   "execution_count": 3,
   "id": "3751e35f",
   "metadata": {
    "execution": {
     "iopub.execute_input": "2024-03-27T01:04:08.093631Z",
     "iopub.status.busy": "2024-03-27T01:04:08.093415Z",
     "iopub.status.idle": "2024-03-27T01:04:08.095741Z",
     "shell.execute_reply": "2024-03-27T01:04:08.095374Z"
    },
    "papermill": {
     "duration": 0.006422,
     "end_time": "2024-03-27T01:04:08.096764",
     "exception": false,
     "start_time": "2024-03-27T01:04:08.090342",
     "status": "completed"
    },
    "tags": [
     "injected-parameters"
    ]
   },
   "outputs": [],
   "source": [
    "# Parameters\n",
    "cmip6_directory = \"/beegfs/CMIP6/arctic-cmip6/CMIP6\"\n",
    "repo_directory = \"/home/jdpaul3/cmip6-utils\"\n",
    "var = \"sftof\"\n"
   ]
  },
  {
   "cell_type": "code",
   "execution_count": 4,
   "id": "ce355213",
   "metadata": {
    "execution": {
     "iopub.execute_input": "2024-03-27T01:04:08.103413Z",
     "iopub.status.busy": "2024-03-27T01:04:08.103204Z",
     "iopub.status.idle": "2024-03-27T01:04:08.229832Z",
     "shell.execute_reply": "2024-03-27T01:04:08.229442Z"
    },
    "papermill": {
     "duration": 0.131896,
     "end_time": "2024-03-27T01:04:08.231263",
     "exception": false,
     "start_time": "2024-03-27T01:04:08.099367",
     "status": "completed"
    },
    "tags": []
   },
   "outputs": [],
   "source": [
    "# create Path objects\n",
    "cmip6_directory = Path(cmip6_directory)\n",
    "repo_directory = Path(repo_directory)\n",
    "\n",
    "# get coastlines for plotting\n",
    "coastlines = gpd.read_file(repo_directory.joinpath(\"indicators\", \"shp\", \"ne_110m_coastline.shp\"))\n",
    "# get target grid for regridding\n",
    "# this is a known global extent variable 'tas' and the regridding in this notebook does not use masking\n",
    "dst_ds = xr.open_dataset(cmip6_directory.joinpath(\"ScenarioMIP/NCAR/CESM2/ssp370/r11i1p1f1/Amon/tas/gn/v20200528/tas_Amon_CESM2_ssp370_r11i1p1f1_gn_206501-210012.nc\"))"
   ]
  },
  {
   "cell_type": "code",
   "execution_count": 5,
   "id": "e1d39f7f",
   "metadata": {
    "execution": {
     "iopub.execute_input": "2024-03-27T01:04:08.237953Z",
     "iopub.status.busy": "2024-03-27T01:04:08.237728Z",
     "iopub.status.idle": "2024-03-27T01:04:08.314727Z",
     "shell.execute_reply": "2024-03-27T01:04:08.314300Z"
    },
    "papermill": {
     "duration": 0.081665,
     "end_time": "2024-03-27T01:04:08.315823",
     "exception": false,
     "start_time": "2024-03-27T01:04:08.234158",
     "status": "completed"
    },
    "tags": []
   },
   "outputs": [],
   "source": [
    "def init_regridder(src_ds, dst_ds):\n",
    "    # cache existing encoding / attrs\n",
    "    lon_enc = dst_ds[\"lon\"].encoding\n",
    "    lon_attrs = dst_ds[\"lon\"].attrs\n",
    "    # convert to -180 to 180 lon coords, and reapply encoding / attrs\n",
    "    dst_ds[\"lon\"] = (dst_ds[\"lon\"] + 180) % 360 - 180\n",
    "    dst_ds[\"lon\"].encoding = lon_enc\n",
    "    dst_ds[\"lon\"].attrs = lon_attrs\n",
    "    # probably doesn't matter but technically correct after adjustment\n",
    "    dst_ds[\"lon\"].attrs[\"valid_max\"] = 180\n",
    "    dst_ds[\"lon\"].attrs[\"valid_min\"] = -180\n",
    "    # sort\n",
    "    dst_ds = dst_ds.sortby(dst_ds.lon, ascending=True)\n",
    "    # initialize the regridder which now contains standard -180 to 180 longitude values\n",
    "    # had to add ignore_degenerate flag to get some Omon freq files to regrid without error!\n",
    "    regridder = xe.Regridder(src_ds, dst_ds, \"bilinear\", unmapped_to_nan=True, periodic=True, ignore_degenerate=True)\n",
    "    return regridder\n",
    "\n",
    "\n",
    "def categorize_and_plot_var_by_model_freq(var):\n",
    "    # get all files for a variable\n",
    "    var_fps = list(cmip6_directory.glob(f\"**/{var}/**/*.nc\"))\n",
    "\n",
    "    if len(var_fps) == 0:\n",
    "        print(\"No files found for that variable, aborting!\")\n",
    "        return {}\n",
    "    else:\n",
    "        # get all models\n",
    "        models=list(set([fp.parts[-8] for fp in var_fps]))\n",
    "        # create dict of freqs for each model\n",
    "        model_freq_dict = {}\n",
    "        for model in models:\n",
    "            freqs = []\n",
    "            for fp in [fp for fp in var_fps if fp.parts[-8]==model]:\n",
    "                freqs.append(fp.parts[-5])\n",
    "            model_freq_dict[model] = list(set(freqs))\n",
    "\n",
    "        out_dict={}\n",
    "        for model in model_freq_dict.keys():\n",
    "            plot_fps = []\n",
    "            for freq in model_freq_dict[model]:\n",
    "                # get first filepath for model/freq combo\n",
    "                plot_fps.append([fp for fp in var_fps if fp.parts[-8]==model and fp.parts[-5]==freq][0])\n",
    "            sub_dict = regrid_categorize_multiplot(plot_fps, var)\n",
    "            out_dict[model]=sub_dict\n",
    "        return out_dict\n",
    "\n",
    "\n",
    "def regrid_categorize_multiplot(plot_fps, var):\n",
    "    model = plot_fps[0].parts[-8]\n",
    "    sub_dict = {}\n",
    "\n",
    "    nrows=math.ceil(len(plot_fps)/3)\n",
    "    ncols=3\n",
    "    fig_height= nrows*4\n",
    "    \n",
    "    lat_slice = slice(50,90)\n",
    "    lon_slice = slice(-170, -120)\n",
    "\n",
    "    fig, _axes = plt.subplots(nrows, ncols, figsize=(12,fig_height))\n",
    "    for ax_tuple, fp in zip(enumerate(fig.axes), plot_fps):\n",
    "\n",
    "        freq = fp.parts[-5]\n",
    "        \n",
    "        src_ds = xr.open_dataset(fp)\n",
    "\n",
    "        # count the non-nan values\n",
    "        non_nans = (~np.isnan(src_ds[var].sel(time=src_ds['time'][0]))).sum()\n",
    "        nans = (np.isnan(src_ds[var].sel(time=src_ds['time'][0]))).sum()\n",
    "        total_values = nans + non_nans\n",
    "        # use 50% as threshold to determine land/sea only categories\n",
    "        # if nans are less than 10% call it global category\n",
    "        if nans/total_values < .1:\n",
    "            category = \"global\"\n",
    "        elif nans/total_values > .5:\n",
    "            category = \"land\"\n",
    "        else:\n",
    "            category = \"sea\"\n",
    "\n",
    "        r = init_regridder(src_ds, dst_ds)\n",
    "        regrid_ds = r(src_ds)\n",
    "\n",
    "        ax = ax_tuple[1]\n",
    "        regrid_ds[var].sel(time=regrid_ds['time'][0], lat=lat_slice, lon=lon_slice).plot(cmap='plasma', ax=ax, vmin=0, add_colorbar=False)\n",
    "        coastlines.plot(color='red', ax=ax)\n",
    "        ax.set_title(f\"{freq}: {category}\")\n",
    "        ax.set_xlabel(\"\")\n",
    "        ax.set_ylabel(\"\")\n",
    "\n",
    "        sub_dict[freq]=category\n",
    "        \n",
    "    fig.suptitle(f\"{model}\")\n",
    "    fig.tight_layout()\n",
    "    plt.show()\n",
    "\n",
    "    return sub_dict\n",
    "\n",
    "\n",
    "def categorize_var_by_model_freq(var):\n",
    "    # get all files for a variable\n",
    "    var_fps = list(cmip6_directory.glob(f\"**/{var}/**/*.nc\"))\n",
    "\n",
    "    if len(var_fps) == 0:\n",
    "        print(\"No files found for that variable, aborting!\")\n",
    "        return {}\n",
    "    else:\n",
    "        # get all models\n",
    "        models=list(set([fp.parts[-8] for fp in var_fps]))\n",
    "        # create dict of freqs for each model\n",
    "        model_freq_dict = {}\n",
    "        for model in models:\n",
    "            freqs = []\n",
    "            for fp in [fp for fp in var_fps if fp.parts[-8]==model]:\n",
    "                freqs.append(fp.parts[-5])\n",
    "            model_freq_dict[model] = list(set(freqs))\n",
    "            \n",
    "        print(f\"Summary of models and frequencies for variable {var}:\")\n",
    "        df = pd.concat(pd.DataFrame({'model':k, 'freq':v}) for k, v in model_freq_dict.items())\n",
    "        print(pd.crosstab(df.model, df.freq))\n",
    "\n",
    "        out_dict={}\n",
    "        for model in model_freq_dict.keys():\n",
    "            plot_fps = []\n",
    "            for freq in model_freq_dict[model]:\n",
    "                # get first filepath for model/freq combo\n",
    "                plot_fps.append([fp for fp in var_fps if fp.parts[-8]==model and fp.parts[-5]==freq][0])\n",
    "\n",
    "            model = plot_fps[0].parts[-8]\n",
    "            sub_dict = {}\n",
    "\n",
    "            for fp in plot_fps:\n",
    "                freq = fp.parts[-5]\n",
    "                src_ds = xr.open_dataset(fp)\n",
    "                # count the non-nan values\n",
    "                non_nans = (~np.isnan(src_ds[var].sel(time=src_ds['time'][0]))).sum()\n",
    "                nans = (np.isnan(src_ds[var].sel(time=src_ds['time'][0]))).sum()\n",
    "                total_values = nans + non_nans\n",
    "                # use 50% as threshold to determine land/sea only categories\n",
    "                # if nans are less than 10% call it global category\n",
    "                if nans/total_values < .1:\n",
    "                    category = \"global\"\n",
    "                elif nans/total_values > .5:\n",
    "                    category = \"land\"\n",
    "                else:\n",
    "                    category = \"sea\"\n",
    "\n",
    "                sub_dict[freq]=category\n",
    "                \n",
    "            out_dict[model]=sub_dict\n",
    "            \n",
    "        return out_dict\n",
    "\n",
    "def summarize_results_categories(results_dict):\n",
    "    category_dict = {}\n",
    "    for result in results_dict.keys():\n",
    "        categories = []\n",
    "        for freq in results_dict[result].keys():\n",
    "            categories.append(results_dict[result][freq])\n",
    "        if len(list(set(categories))) > 1:\n",
    "            category_dict[result] = \"mixed\"\n",
    "        else:\n",
    "            category_dict[result] = list(set(categories))[0]\n",
    "    return category_dict"
   ]
  },
  {
   "cell_type": "code",
   "execution_count": 6,
   "id": "dd96977e",
   "metadata": {
    "execution": {
     "iopub.execute_input": "2024-03-27T01:04:08.323384Z",
     "iopub.status.busy": "2024-03-27T01:04:08.323157Z",
     "iopub.status.idle": "2024-03-27T01:04:12.851169Z",
     "shell.execute_reply": "2024-03-27T01:04:12.850656Z"
    },
    "papermill": {
     "duration": 4.533412,
     "end_time": "2024-03-27T01:04:12.852327",
     "exception": false,
     "start_time": "2024-03-27T01:04:08.318915",
     "status": "completed"
    },
    "tags": []
   },
   "outputs": [
    {
     "name": "stdout",
     "output_type": "stream",
     "text": [
      "No files found for that variable, aborting!\n"
     ]
    }
   ],
   "source": [
    "results = categorize_var_by_model_freq(var)"
   ]
  },
  {
   "cell_type": "code",
   "execution_count": 7,
   "id": "792eac83",
   "metadata": {
    "execution": {
     "iopub.execute_input": "2024-03-27T01:04:12.859821Z",
     "iopub.status.busy": "2024-03-27T01:04:12.859578Z",
     "iopub.status.idle": "2024-03-27T01:04:12.866634Z",
     "shell.execute_reply": "2024-03-27T01:04:12.866255Z"
    },
    "papermill": {
     "duration": 0.01198,
     "end_time": "2024-03-27T01:04:12.867658",
     "exception": false,
     "start_time": "2024-03-27T01:04:12.855678",
     "status": "completed"
    },
    "tags": []
   },
   "outputs": [
    {
     "data": {
      "text/plain": [
       "{}"
      ]
     },
     "execution_count": 7,
     "metadata": {},
     "output_type": "execute_result"
    }
   ],
   "source": [
    "summary = summarize_results_categories(results)\n",
    "summary"
   ]
  },
  {
   "cell_type": "code",
   "execution_count": 8,
   "id": "554cad80",
   "metadata": {
    "execution": {
     "iopub.execute_input": "2024-03-27T01:04:12.874002Z",
     "iopub.status.busy": "2024-03-27T01:04:12.873783Z",
     "iopub.status.idle": "2024-03-27T01:04:17.191093Z",
     "shell.execute_reply": "2024-03-27T01:04:17.190618Z"
    },
    "papermill": {
     "duration": 4.321735,
     "end_time": "2024-03-27T01:04:17.192150",
     "exception": false,
     "start_time": "2024-03-27T01:04:12.870415",
     "status": "completed"
    },
    "tags": []
   },
   "outputs": [
    {
     "name": "stdout",
     "output_type": "stream",
     "text": [
      "No files found for that variable, aborting!\n"
     ]
    },
    {
     "data": {
      "text/plain": [
       "{}"
      ]
     },
     "execution_count": 8,
     "metadata": {},
     "output_type": "execute_result"
    }
   ],
   "source": [
    "categorize_and_plot_var_by_model_freq(var)"
   ]
  },
  {
   "cell_type": "code",
   "execution_count": null,
   "id": "c0490346",
   "metadata": {
    "papermill": {
     "duration": 0.003627,
     "end_time": "2024-03-27T01:04:17.199304",
     "exception": false,
     "start_time": "2024-03-27T01:04:17.195677",
     "status": "completed"
    },
    "tags": []
   },
   "outputs": [],
   "source": []
  }
 ],
 "metadata": {
  "kernelspec": {
   "display_name": "cmip6-utils",
   "language": "python",
   "name": "python3"
  },
  "language_info": {
   "codemirror_mode": {
    "name": "ipython",
    "version": 3
   },
   "file_extension": ".py",
   "mimetype": "text/x-python",
   "name": "python",
   "nbconvert_exporter": "python",
   "pygments_lexer": "ipython3",
   "version": "3.9.13"
  },
  "papermill": {
   "default_parameters": {},
   "duration": 12.364148,
   "end_time": "2024-03-27T01:04:17.618547",
   "environment_variables": {},
   "exception": null,
   "input_path": "/home/jdpaul3/cmip6-utils/regridding/explore_variable_extents/explore_variable_extents.ipynb",
   "output_path": "/home/jdpaul3/cmip6-utils/regridding/explore_variable_extents/sftof.ipynb",
   "parameters": {
    "cmip6_directory": "/beegfs/CMIP6/arctic-cmip6/CMIP6",
    "repo_directory": "/home/jdpaul3/cmip6-utils",
    "var": "sftof"
   },
   "start_time": "2024-03-27T01:04:05.254399",
   "version": "2.4.0"
  }
 },
 "nbformat": 4,
 "nbformat_minor": 5
}