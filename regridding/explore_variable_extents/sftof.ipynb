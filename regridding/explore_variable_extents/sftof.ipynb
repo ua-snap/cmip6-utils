{
 "cells": [
  {
   "cell_type": "code",
   "execution_count": 1,
   "id": "8bfde42f",
   "metadata": {
    "execution": {
     "iopub.execute_input": "2024-03-27T18:11:04.127690Z",
     "iopub.status.busy": "2024-03-27T18:11:04.127458Z",
     "iopub.status.idle": "2024-03-27T18:11:07.816385Z",
     "shell.execute_reply": "2024-03-27T18:11:07.815827Z"
    },
    "papermill": {
     "duration": 3.695289,
     "end_time": "2024-03-27T18:11:07.818033",
     "exception": false,
     "start_time": "2024-03-27T18:11:04.122744",
     "status": "completed"
    },
    "tags": []
   },
   "outputs": [],
   "source": [
    "from pathlib import Path\n",
    "import xarray as xr\n",
    "import math\n",
    "import matplotlib.pyplot as plt\n",
    "import geopandas as gpd\n",
    "import xesmf as xe\n",
    "import pandas as pd\n",
    "import numpy as np\n",
    "\n",
    "import warnings\n",
    "warnings.filterwarnings('ignore')"
   ]
  },
  {
   "cell_type": "code",
   "execution_count": 2,
   "id": "e1d08658",
   "metadata": {
    "execution": {
     "iopub.execute_input": "2024-03-27T18:11:07.825554Z",
     "iopub.status.busy": "2024-03-27T18:11:07.825034Z",
     "iopub.status.idle": "2024-03-27T18:11:07.828025Z",
     "shell.execute_reply": "2024-03-27T18:11:07.827629Z"
    },
    "papermill": {
     "duration": 0.008153,
     "end_time": "2024-03-27T18:11:07.829110",
     "exception": false,
     "start_time": "2024-03-27T18:11:07.820957",
     "status": "completed"
    },
    "tags": [
     "parameters"
    ]
   },
   "outputs": [],
   "source": [
    "# papermill parameters cell\n",
    "\n",
    "var = 'prsn'\n",
    "cmip6_directory = '/beegfs/CMIP6/arctic-cmip6/CMIP6'\n",
    "repo_directory = '/center1/CMIP6/jdpaul3/regrid_global/cmip6-utils'\n"
   ]
  },
  {
   "cell_type": "code",
   "execution_count": 3,
   "id": "f93ae565",
   "metadata": {
    "execution": {
     "iopub.execute_input": "2024-03-27T18:11:07.836232Z",
     "iopub.status.busy": "2024-03-27T18:11:07.836013Z",
     "iopub.status.idle": "2024-03-27T18:11:07.838371Z",
     "shell.execute_reply": "2024-03-27T18:11:07.838003Z"
    },
    "papermill": {
     "duration": 0.007724,
     "end_time": "2024-03-27T18:11:07.839389",
     "exception": false,
     "start_time": "2024-03-27T18:11:07.831665",
     "status": "completed"
    },
    "tags": [
     "injected-parameters"
    ]
   },
   "outputs": [],
   "source": [
    "# Parameters\n",
    "cmip6_directory = \"/beegfs/CMIP6/arctic-cmip6/CMIP6\"\n",
    "repo_directory = \"/home/jdpaul3/cmip6-utils\"\n",
    "var = \"sftof\"\n"
   ]
  },
  {
   "cell_type": "code",
   "execution_count": 4,
   "id": "b88c81a3",
   "metadata": {
    "execution": {
     "iopub.execute_input": "2024-03-27T18:11:07.845552Z",
     "iopub.status.busy": "2024-03-27T18:11:07.845347Z",
     "iopub.status.idle": "2024-03-27T18:11:08.290546Z",
     "shell.execute_reply": "2024-03-27T18:11:08.290135Z"
    },
    "papermill": {
     "duration": 0.449778,
     "end_time": "2024-03-27T18:11:08.291892",
     "exception": false,
     "start_time": "2024-03-27T18:11:07.842114",
     "status": "completed"
    },
    "tags": []
   },
   "outputs": [],
   "source": [
    "# create Path objects\n",
    "cmip6_directory = Path(cmip6_directory)\n",
    "repo_directory = Path(repo_directory)\n",
    "\n",
    "# get coastlines for plotting\n",
    "coastlines = gpd.read_file(repo_directory.joinpath(\"indicators\", \"shp\", \"ne_110m_coastline.shp\"))\n",
    "# get target grid for regridding\n",
    "# this is a known global extent variable 'tas' and the regridding in this notebook does not use masking\n",
    "dst_ds = xr.open_dataset(cmip6_directory.joinpath(\"ScenarioMIP/NCAR/CESM2/ssp370/r11i1p1f1/Amon/tas/gn/v20200528/tas_Amon_CESM2_ssp370_r11i1p1f1_gn_206501-210012.nc\"))"
   ]
  },
  {
   "cell_type": "code",
   "execution_count": 5,
   "id": "2ab0df54",
   "metadata": {
    "execution": {
     "iopub.execute_input": "2024-03-27T18:11:08.298877Z",
     "iopub.status.busy": "2024-03-27T18:11:08.298458Z",
     "iopub.status.idle": "2024-03-27T18:11:08.396984Z",
     "shell.execute_reply": "2024-03-27T18:11:08.396527Z"
    },
    "papermill": {
     "duration": 0.103124,
     "end_time": "2024-03-27T18:11:08.398096",
     "exception": false,
     "start_time": "2024-03-27T18:11:08.294972",
     "status": "completed"
    },
    "tags": []
   },
   "outputs": [],
   "source": [
    "def init_regridder(src_ds, dst_ds):\n",
    "    # cache existing encoding / attrs\n",
    "    lon_enc = dst_ds[\"lon\"].encoding\n",
    "    lon_attrs = dst_ds[\"lon\"].attrs\n",
    "    # convert to -180 to 180 lon coords, and reapply encoding / attrs\n",
    "    dst_ds[\"lon\"] = (dst_ds[\"lon\"] + 180) % 360 - 180\n",
    "    dst_ds[\"lon\"].encoding = lon_enc\n",
    "    dst_ds[\"lon\"].attrs = lon_attrs\n",
    "    # probably doesn't matter but technically correct after adjustment\n",
    "    dst_ds[\"lon\"].attrs[\"valid_max\"] = 180\n",
    "    dst_ds[\"lon\"].attrs[\"valid_min\"] = -180\n",
    "    # sort\n",
    "    dst_ds = dst_ds.sortby(dst_ds.lon, ascending=True)\n",
    "    # initialize the regridder which now contains standard -180 to 180 longitude values\n",
    "    # had to add ignore_degenerate flag to get some Omon freq files to regrid without error!\n",
    "    regridder = xe.Regridder(src_ds, dst_ds, \"bilinear\", unmapped_to_nan=True, periodic=True, ignore_degenerate=True)\n",
    "    return regridder\n",
    "\n",
    "\n",
    "def categorize_and_plot_var_by_model_freq(var):\n",
    "    # get all files for a variable\n",
    "    var_fps = list(cmip6_directory.glob(f\"**/{var}/**/*.nc\"))\n",
    "\n",
    "    if len(var_fps) == 0:\n",
    "        print(\"No files found for that variable, aborting!\")\n",
    "        return {}\n",
    "    else:\n",
    "        # get all models\n",
    "        models=list(set([fp.parts[-8] for fp in var_fps]))\n",
    "        # create dict of freqs for each model\n",
    "        model_freq_dict = {}\n",
    "        for model in models:\n",
    "            freqs = []\n",
    "            for fp in [fp for fp in var_fps if fp.parts[-8]==model]:\n",
    "                freqs.append(fp.parts[-5])\n",
    "            model_freq_dict[model] = list(set(freqs))\n",
    "\n",
    "        out_dict={}\n",
    "        for model in model_freq_dict.keys():\n",
    "            plot_fps = []\n",
    "            for freq in model_freq_dict[model]:\n",
    "                # get first filepath for model/freq combo\n",
    "                plot_fps.append([fp for fp in var_fps if fp.parts[-8]==model and fp.parts[-5]==freq][0])\n",
    "            sub_dict = regrid_categorize_multiplot(plot_fps, var)\n",
    "            out_dict[model]=sub_dict\n",
    "        return out_dict\n",
    "\n",
    "\n",
    "def regrid_categorize_multiplot(plot_fps, var):\n",
    "    model = plot_fps[0].parts[-8]\n",
    "    sub_dict = {}\n",
    "\n",
    "    nrows=math.ceil(len(plot_fps)/3)\n",
    "    ncols=3\n",
    "    fig_height= nrows*4\n",
    "    \n",
    "    lat_slice = slice(50,90)\n",
    "    lon_slice = slice(-170, -120)\n",
    "\n",
    "    fig, _axes = plt.subplots(nrows, ncols, figsize=(12,fig_height))\n",
    "    for ax_tuple, fp in zip(enumerate(fig.axes), plot_fps):\n",
    "\n",
    "        freq = fp.parts[-5]\n",
    "        \n",
    "        src_ds = xr.open_dataset(fp)\n",
    "\n",
    "        # count the non-nan values\n",
    "        non_nans = (~np.isnan(src_ds[var].sel(time=src_ds['time'][0]))).sum()\n",
    "        nans = (np.isnan(src_ds[var].sel(time=src_ds['time'][0]))).sum()\n",
    "        total_values = nans + non_nans\n",
    "        # use 50% as threshold to determine land/sea only categories\n",
    "        # if nans are less than 10% call it global category\n",
    "        if nans/total_values < .1:\n",
    "            category = \"global\"\n",
    "        elif nans/total_values > .5:\n",
    "            category = \"land\"\n",
    "        else:\n",
    "            category = \"sea\"\n",
    "\n",
    "        r = init_regridder(src_ds, dst_ds)\n",
    "        regrid_ds = r(src_ds)\n",
    "\n",
    "        ax = ax_tuple[1]\n",
    "        if \"plev\" in regrid_ds.coords:\n",
    "            regrid_ds[var].sel(time=regrid_ds['time'][0], plev=regrid_ds['plev'][0], lat=lat_slice, lon=lon_slice).plot(cmap='plasma', ax=ax, vmin=0, add_colorbar=False)\n",
    "        else:\n",
    "            regrid_ds[var].sel(time=regrid_ds['time'][0], lat=lat_slice, lon=lon_slice).plot(cmap='plasma', ax=ax, vmin=0, add_colorbar=False)\n",
    "        coastlines.plot(color='red', ax=ax)\n",
    "        ax.set_title(f\"{freq}: {category}\")\n",
    "        ax.set_xlabel(\"\")\n",
    "        ax.set_ylabel(\"\")\n",
    "\n",
    "        sub_dict[freq]=category\n",
    "        \n",
    "    fig.suptitle(f\"{model}\")\n",
    "    fig.tight_layout()\n",
    "    plt.show()\n",
    "\n",
    "    return sub_dict\n",
    "\n",
    "\n",
    "def categorize_var_by_model_freq(var):\n",
    "    # get all files for a variable\n",
    "    var_fps = list(cmip6_directory.glob(f\"**/{var}/**/*.nc\"))\n",
    "\n",
    "    if len(var_fps) == 0:\n",
    "        print(\"No files found for that variable, aborting!\")\n",
    "        return {}\n",
    "    else:\n",
    "        # get all models\n",
    "        models=list(set([fp.parts[-8] for fp in var_fps]))\n",
    "        # create dict of freqs for each model\n",
    "        model_freq_dict = {}\n",
    "        for model in models:\n",
    "            freqs = []\n",
    "            for fp in [fp for fp in var_fps if fp.parts[-8]==model]:\n",
    "                freqs.append(fp.parts[-5])\n",
    "            model_freq_dict[model] = list(set(freqs))\n",
    "            \n",
    "        print(f\"Summary of models and frequencies for variable {var}:\")\n",
    "        df = pd.concat(pd.DataFrame({'model':k, 'freq':v}) for k, v in model_freq_dict.items())\n",
    "        print(pd.crosstab(df.model, df.freq))\n",
    "\n",
    "        out_dict={}\n",
    "        for model in model_freq_dict.keys():\n",
    "            plot_fps = []\n",
    "            for freq in model_freq_dict[model]:\n",
    "                # get first filepath for model/freq combo\n",
    "                plot_fps.append([fp for fp in var_fps if fp.parts[-8]==model and fp.parts[-5]==freq][0])\n",
    "\n",
    "            model = plot_fps[0].parts[-8]\n",
    "            sub_dict = {}\n",
    "\n",
    "            for fp in plot_fps:\n",
    "                freq = fp.parts[-5]\n",
    "                src_ds = xr.open_dataset(fp)\n",
    "                # count the non-nan values\n",
    "                non_nans = (~np.isnan(src_ds[var].sel(time=src_ds['time'][0]))).sum()\n",
    "                nans = (np.isnan(src_ds[var].sel(time=src_ds['time'][0]))).sum()\n",
    "                total_values = nans + non_nans\n",
    "                # use 50% as threshold to determine land/sea only categories\n",
    "                # if nans are less than 10% call it global category\n",
    "                if nans/total_values < .1:\n",
    "                    category = \"global\"\n",
    "                elif nans/total_values > .5:\n",
    "                    category = \"land\"\n",
    "                else:\n",
    "                    category = \"sea\"\n",
    "\n",
    "                sub_dict[freq]=category\n",
    "                \n",
    "            out_dict[model]=sub_dict\n",
    "            \n",
    "        return out_dict\n",
    "\n",
    "def summarize_results_categories(results_dict):\n",
    "    category_dict = {}\n",
    "    for result in results_dict.keys():\n",
    "        categories = []\n",
    "        for freq in results_dict[result].keys():\n",
    "            categories.append(results_dict[result][freq])\n",
    "        if len(list(set(categories))) > 1:\n",
    "            category_dict[result] = \"mixed\"\n",
    "        else:\n",
    "            category_dict[result] = list(set(categories))[0]\n",
    "    return category_dict"
   ]
  },
  {
   "cell_type": "code",
   "execution_count": 6,
   "id": "ae84c805",
   "metadata": {
    "execution": {
     "iopub.execute_input": "2024-03-27T18:11:08.405455Z",
     "iopub.status.busy": "2024-03-27T18:11:08.405221Z",
     "iopub.status.idle": "2024-03-27T18:11:14.336953Z",
     "shell.execute_reply": "2024-03-27T18:11:14.336314Z"
    },
    "papermill": {
     "duration": 5.936451,
     "end_time": "2024-03-27T18:11:14.338101",
     "exception": false,
     "start_time": "2024-03-27T18:11:08.401650",
     "status": "completed"
    },
    "tags": []
   },
   "outputs": [
    {
     "name": "stdout",
     "output_type": "stream",
     "text": [
      "No files found for that variable, aborting!\n"
     ]
    }
   ],
   "source": [
    "results = categorize_var_by_model_freq(var)"
   ]
  },
  {
   "cell_type": "code",
   "execution_count": 7,
   "id": "11e06096",
   "metadata": {
    "execution": {
     "iopub.execute_input": "2024-03-27T18:11:14.345649Z",
     "iopub.status.busy": "2024-03-27T18:11:14.345400Z",
     "iopub.status.idle": "2024-03-27T18:11:14.353038Z",
     "shell.execute_reply": "2024-03-27T18:11:14.352652Z"
    },
    "papermill": {
     "duration": 0.012473,
     "end_time": "2024-03-27T18:11:14.354094",
     "exception": false,
     "start_time": "2024-03-27T18:11:14.341621",
     "status": "completed"
    },
    "tags": []
   },
   "outputs": [
    {
     "data": {
      "text/plain": [
       "{}"
      ]
     },
     "execution_count": 7,
     "metadata": {},
     "output_type": "execute_result"
    }
   ],
   "source": [
    "summary = summarize_results_categories(results)\n",
    "summary"
   ]
  },
  {
   "cell_type": "code",
   "execution_count": 8,
   "id": "b4c30ea7",
   "metadata": {
    "execution": {
     "iopub.execute_input": "2024-03-27T18:11:14.360852Z",
     "iopub.status.busy": "2024-03-27T18:11:14.360645Z",
     "iopub.status.idle": "2024-03-27T18:11:20.416862Z",
     "shell.execute_reply": "2024-03-27T18:11:20.416298Z"
    },
    "papermill": {
     "duration": 6.060786,
     "end_time": "2024-03-27T18:11:20.417951",
     "exception": false,
     "start_time": "2024-03-27T18:11:14.357165",
     "status": "completed"
    },
    "tags": []
   },
   "outputs": [
    {
     "name": "stdout",
     "output_type": "stream",
     "text": [
      "No files found for that variable, aborting!\n"
     ]
    },
    {
     "data": {
      "text/plain": [
       "{}"
      ]
     },
     "execution_count": 8,
     "metadata": {},
     "output_type": "execute_result"
    }
   ],
   "source": [
    "categorize_and_plot_var_by_model_freq(var)"
   ]
  },
  {
   "cell_type": "code",
   "execution_count": null,
   "id": "23d21c74",
   "metadata": {
    "papermill": {
     "duration": 0.003411,
     "end_time": "2024-03-27T18:11:20.425142",
     "exception": false,
     "start_time": "2024-03-27T18:11:20.421731",
     "status": "completed"
    },
    "tags": []
   },
   "outputs": [],
   "source": []
  }
 ],
 "metadata": {
  "kernelspec": {
   "display_name": "cmip6-utils",
   "language": "python",
   "name": "python3"
  },
  "language_info": {
   "codemirror_mode": {
    "name": "ipython",
    "version": 3
   },
   "file_extension": ".py",
   "mimetype": "text/x-python",
   "name": "python",
   "nbconvert_exporter": "python",
   "pygments_lexer": "ipython3",
   "version": "3.9.13"
  },
  "papermill": {
   "default_parameters": {},
   "duration": 18.698516,
   "end_time": "2024-03-27T18:11:20.845513",
   "environment_variables": {},
   "exception": null,
   "input_path": "/home/jdpaul3/cmip6-utils/regridding/explore_variable_extents/explore_variable_extents.ipynb",
   "output_path": "/home/jdpaul3/cmip6-utils/regridding/explore_variable_extents/sftof.ipynb",
   "parameters": {
    "cmip6_directory": "/beegfs/CMIP6/arctic-cmip6/CMIP6",
    "repo_directory": "/home/jdpaul3/cmip6-utils",
    "var": "sftof"
   },
   "start_time": "2024-03-27T18:11:02.146997",
   "version": "2.4.0"
  }
 },
 "nbformat": 4,
 "nbformat_minor": 5
}