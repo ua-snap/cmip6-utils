{
 "cells": [
  {
   "cell_type": "markdown",
   "id": "05a8f5dd-0dd6-403b-bc7e-281e0030634c",
   "metadata": {},
   "source": [
    "# Re-grid mirrored CMIP6 data on ACDN\n",
    "\n",
    "Use this notebook to re-grid all of the mirrored CMIP6 data to a common grid. We will use the grid that is common between the majority of the CESM2, CESM2-WACCM, NorESM2, and TaiESM1 data. \n",
    "\n",
    "This notebook sets up the `.slurm` files to then be submitted with `sbatch`. Each sbatch file consists of submitting a single job to process the files listed in a single batch file, so there is a single `.slurm` file for each batch file created with `generate_batch_files.py`."
   ]
  },
  {
   "cell_type": "code",
   "execution_count": 1,
   "id": "c9cf952c-fe15-4147-b3d5-e613c2017352",
   "metadata": {},
   "outputs": [],
   "source": [
    "from pathlib import Path\n",
    "import numpy as np\n",
    "import pandas as pd\n",
    "import xarray as xr\n",
    "import xesmf as xe\n",
    "\n",
    "from config import *\n",
    "from slurm import *\n",
    "\n",
    "# ignore serializationWarnings from xarray for datasets with multiple FillValues\n",
    "import warnings\n",
    "\n",
    "warnings.filterwarnings(\"ignore\", category=xr.SerializationWarning)\n"
   ]
  },
  {
   "cell_type": "markdown",
   "id": "3ff91367-3440-46d5-a5d9-77351f437447",
   "metadata": {},
   "source": [
    "Iterate over the batch files and create slurm `sbatch` scripts to regrid all filepaths contained in those files (one job for each file).\n",
    "\n",
    "Change the `no_clobber` option below to `True` to avoid overwriting any regridded files that already exist. "
   ]
  },
  {
   "cell_type": "code",
   "execution_count": 2,
   "id": "ce7be8ae-adb5-4157-8290-162ea67eb38b",
   "metadata": {},
   "outputs": [],
   "source": [
    "sbatch_fps = []\n",
    "sbatch_dir = slurm_dir.joinpath(\"regrid\")\n",
    "sbatch_dir.mkdir(exist_ok=True)\n",
    "for fp in regrid_batch_dir.glob(\"*.txt\"):\n",
    "    sbatch_str = fp.name.split(\"batch_\")[1].split(\".txt\")[0]\n",
    "    sbatch_fp = sbatch_dir.joinpath(f\"regrid_{sbatch_str}.slurm\")\n",
    "    # filepath for slurm stdout\n",
    "    sbatch_out_fp = sbatch_dir.joinpath(sbatch_fp.name.replace(\".slurm\", \"_%j.out\"))\n",
    "    sbatch_head = make_sbatch_head(**sbatch_head_kwargs)\n",
    "    sbatch_regrid_kwargs = {\n",
    "        \"sbatch_fp\": sbatch_fp,\n",
    "        \"sbatch_out_fp\": sbatch_out_fp,\n",
    "        \"regrid_script\": regrid_script,\n",
    "        \"regrid_dir\": regrid_dir,\n",
    "        \"regrid_batch_fp\": fp,\n",
    "        \"dst_fp\": target_grid_fp,\n",
    "        \"no_clobber\": False,\n",
    "        \"sbatch_head\": sbatch_head,\n",
    "    }\n",
    "    write_sbatch_regrid(**sbatch_regrid_kwargs)\n",
    "    sbatch_fps.append(sbatch_fp)"
   ]
  },
  {
   "cell_type": "markdown",
   "id": "4249d20e-d172-4f69-9bf1-7d1062929181",
   "metadata": {},
   "source": [
    "Remove existing slurm output files if desired:"
   ]
  },
  {
   "cell_type": "code",
   "execution_count": 5,
   "id": "d441e744-aa45-4e96-8271-b036359fb29f",
   "metadata": {},
   "outputs": [],
   "source": [
    "_ = [fp.unlink() for fp in sbatch_dir.glob(\"*.out\")]\n"
   ]
  },
  {
   "cell_type": "markdown",
   "id": "94b7005f-0fd3-4092-967b-881e14889b59",
   "metadata": {},
   "source": [
    "Submit the jobs:"
   ]
  },
  {
   "cell_type": "code",
   "execution_count": 8,
   "id": "23d7285e-0b24-4c99-bc52-8ebe421893b5",
   "metadata": {},
   "outputs": [],
   "source": [
    "job_ids = [submit_sbatch(fp) for fp in sbatch_fps]\n"
   ]
  }
 ],
 "metadata": {
  "kernelspec": {
   "display_name": "Python 3 (ipykernel)",
   "language": "python",
   "name": "python3"
  },
  "language_info": {
   "codemirror_mode": {
    "name": "ipython",
    "version": 3
   },
   "file_extension": ".py",
   "mimetype": "text/x-python",
   "name": "python",
   "nbconvert_exporter": "python",
   "pygments_lexer": "ipython3",
   "version": "3.9.13"
  }
 },
 "nbformat": 4,
 "nbformat_minor": 5
}
