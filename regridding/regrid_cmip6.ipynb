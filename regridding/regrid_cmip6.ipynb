{
 "cells": [
  {
   "cell_type": "markdown",
   "id": "05a8f5dd-0dd6-403b-bc7e-281e0030634c",
   "metadata": {},
   "source": [
    "# Re-grid mirrored CMIP6 data on ACDN\n",
    "\n",
    "Use this notebook to re-grid all of the mirrored CMIP6 data to a common grid. We will use the grid that is common between CESM2, CESM2-WACCM, NorESM2, and TaiESM1.\n",
    "\n",
    "Instead of just re-gridding all files, we will take a manifest specific approach, and re-grid by model, frequency, variable, etc. I think these regridded files should be saved in their own folder, since it is sort of a derived product? I.e., \"CMIP6 outputs on a common grid\" feels like its own thing. The alternative would be to save regridded files in this native ESGF directory structure, but I worry that could cause confusion because then we have derived data mixed in with mirrored data. It seems like it might be nice if the `/beegfs/CMIP6/arctic-cmip6/CMIP6` directory excluded everything but mirrored data. So, we will make another directory for the regridded data: `/beegfs/CMIP6/arctic-cmip6/CMIP6_common`"
   ]
  },
  {
   "cell_type": "markdown",
   "id": "a3dc9266-4391-4488-8e12-64296a0941d5",
   "metadata": {},
   "source": [
    "Test re-gridding historical monthly data from one grid to another"
   ]
  },
  {
   "cell_type": "code",
   "execution_count": 1,
   "id": "c9cf952c-fe15-4147-b3d5-e613c2017352",
   "metadata": {},
   "outputs": [],
   "source": [
    "from pathlib import Path\n",
    "import numpy as np\n",
    "import pandas as pd\n",
    "import xarray as xr\n",
    "import xesmf as xe\n",
    "\n",
    "from config import *\n",
    "\n",
    "# ignore serializationWarnings from xarray for datasets with multiple FillValues\n",
    "import warnings\n",
    "warnings.filterwarnings(\"ignore\", category=xr.SerializationWarning)"
   ]
  },
  {
   "cell_type": "code",
   "execution_count": 6,
   "id": "bd15198e-a04c-4ae8-9598-8b210a472e00",
   "metadata": {},
   "outputs": [
    {
     "data": {
      "text/plain": [
       "PosixPath('/center1/SNAP/kmredilla/cmip6_regridding/regrid_batch/batch_CESM2_historical.txt')"
      ]
     },
     "execution_count": 6,
     "metadata": {},
     "output_type": "execute_result"
    }
   ],
   "source": [
    "regrid_batch_dir.joinpath(batch_tmp_fn.format(model=\"CESM2\", scenario=\"historical\"))"
   ]
  },
  {
   "cell_type": "markdown",
   "id": "3ff91367-3440-46d5-a5d9-77351f437447",
   "metadata": {},
   "source": [
    "Iterate over the batch files and create slurm `sbatch` scripts to regrid all filepaths contained in those files (one job for each file)."
   ]
  },
  {
   "cell_type": "code",
   "execution_count": null,
   "id": "03b65c6e-7ad9-4cfd-ae6a-9d310e4408d3",
   "metadata": {},
   "outputs": [],
   "source": [
    "job_ids = [slurm.submit_sbatch(fp) for fp in sbatch_fps]"
   ]
  },
  {
   "cell_type": "code",
   "execution_count": null,
   "id": "110d34b6-88b2-4f3a-a221-0012b33c9755",
   "metadata": {},
   "outputs": [],
   "source": [
    "# target grid: /beegfs/CMIP6/arctic-cmip6/CMIP6/ScenarioMIP/NCAR/CESM2/ssp370/r11i1p1f1/Amon/tas/gn/v20200528/tas_Amon_CESM2_ssp370_r11i1p1f1_gn_206501-210012.nc"
   ]
  }
 ],
 "metadata": {
  "kernelspec": {
   "display_name": "Python 3 (ipykernel)",
   "language": "python",
   "name": "python3"
  },
  "language_info": {
   "codemirror_mode": {
    "name": "ipython",
    "version": 3
   },
   "file_extension": ".py",
   "mimetype": "text/x-python",
   "name": "python",
   "nbconvert_exporter": "python",
   "pygments_lexer": "ipython3",
   "version": "3.9.13"
  }
 },
 "nbformat": 4,
 "nbformat_minor": 5
}
