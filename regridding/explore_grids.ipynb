{
 "cells": [
  {
   "cell_type": "markdown",
   "id": "81fca71a-9989-449d-bef8-67bd6c807be5",
   "metadata": {},
   "source": [
    "# Explore grids of CMIP6\n",
    "\n",
    "This notebook is for exploring the grids used by CMIP6 models. We are mainly interested in the variation in resolution, as we assume all grids will be rectilinear WGS84 grids and will vary mostly in resolution, but are unsure about how much they will vary. We will also want to explore other things, like the consistency of grid use within a model."
   ]
  },
  {
   "cell_type": "code",
   "execution_count": 70,
   "id": "11fac024-9a4d-4038-b5cf-2290b6f52a36",
   "metadata": {},
   "outputs": [],
   "source": [
    "from pathlib import Path\n",
    "import numpy as np\n",
    "import pandas as pd\n",
    "import xarray as xr\n",
    "from math import radians\n",
    "from multiprocessing import Pool\n",
    "import tqdm\n",
    "\n",
    "# ignore serializationWarnings from xarray for datasets with multiple FillValues\n",
    "import warnings\n",
    "warnings.filterwarnings(\"ignore\", category=xr.SerializationWarning)"
   ]
  },
  {
   "cell_type": "code",
   "execution_count": 71,
   "id": "73ca8d71-c536-48be-81d8-98b84cd388fa",
   "metadata": {},
   "outputs": [],
   "source": [
    "cmip6_dir = Path(\"/beegfs/CMIP6/arctic-cmip6/CMIP6\")"
   ]
  },
  {
   "cell_type": "markdown",
   "id": "9b3a4be8-c7e4-4dd2-a966-fd526167c5c8",
   "metadata": {},
   "source": [
    "Get a list of one file for each model. Each one should have monthly temperature, with a file starting in 2015-01:"
   ]
  },
  {
   "cell_type": "code",
   "execution_count": 72,
   "id": "4cd0bb31-eddf-4866-9a46-61cf2c720a27",
   "metadata": {},
   "outputs": [
    {
     "name": "stdout",
     "output_type": "stream",
     "text": [
      "Unique models (files): 12\n"
     ]
    },
    {
     "data": {
      "text/plain": [
       "[PosixPath('/beegfs/CMIP6/arctic-cmip6/CMIP6/ScenarioMIP/NOAA-GFDL/GFDL-ESM4/ssp585/r1i1p1f1/Amon/tas/gr1/v20180701/tas_Amon_GFDL-ESM4_ssp585_r1i1p1f1_gr1_201501-210012.nc'),\n",
       " PosixPath('/beegfs/CMIP6/arctic-cmip6/CMIP6/ScenarioMIP/NIMS-KMA/KACE-1-0-G/ssp585/r1i1p1f1/Amon/tas/gr/v20190920/tas_Amon_KACE-1-0-G_ssp585_r1i1p1f1_gr_201501-210012.nc'),\n",
       " PosixPath('/beegfs/CMIP6/arctic-cmip6/CMIP6/ScenarioMIP/CNRM-CERFACS/CNRM-CM6-1-HR/ssp585/r1i1p1f2/Amon/tas/gr/v20191202/tas_Amon_CNRM-CM6-1-HR_ssp585_r1i1p1f2_gr_201501-210012.nc'),\n",
       " PosixPath('/beegfs/CMIP6/arctic-cmip6/CMIP6/ScenarioMIP/NCC/NorESM2-MM/ssp585/r1i1p1f1/Amon/tas/gn/v20191108/tas_Amon_NorESM2-MM_ssp585_r1i1p1f1_gn_201501-202012.nc'),\n",
       " PosixPath('/beegfs/CMIP6/arctic-cmip6/CMIP6/ScenarioMIP/AS-RCEC/TaiESM1/ssp585/r1i1p1f1/Amon/tas/gn/v20200901/tas_Amon_TaiESM1_ssp585_r1i1p1f1_gn_201501-210012.nc'),\n",
       " PosixPath('/beegfs/CMIP6/arctic-cmip6/CMIP6/ScenarioMIP/MOHC/HadGEM3-GC31-MM/ssp585/r1i1p1f3/Amon/tas/gn/v20200515/tas_Amon_HadGEM3-GC31-MM_ssp585_r1i1p1f3_gn_201501-202912.nc'),\n",
       " PosixPath('/beegfs/CMIP6/arctic-cmip6/CMIP6/ScenarioMIP/MOHC/HadGEM3-GC31-LL/ssp585/r1i1p1f3/Amon/tas/gn/v20200114/tas_Amon_HadGEM3-GC31-LL_ssp585_r1i1p1f3_gn_201501-204912.nc'),\n",
       " PosixPath('/beegfs/CMIP6/arctic-cmip6/CMIP6/ScenarioMIP/MIROC/MIROC6/ssp585/r1i1p1f1/Amon/tas/gn/v20190627/tas_Amon_MIROC6_ssp585_r1i1p1f1_gn_201501-210012.nc'),\n",
       " PosixPath('/beegfs/CMIP6/arctic-cmip6/CMIP6/ScenarioMIP/EC-Earth-Consortium/EC-Earth3-Veg/ssp585/r1i1p1f1/Amon/tas/gr/v20200225/tas_Amon_EC-Earth3-Veg_ssp585_r1i1p1f1_gr_201501-201512.nc'),\n",
       " PosixPath('/beegfs/CMIP6/arctic-cmip6/CMIP6/ScenarioMIP/NCAR/CESM2/ssp585/r11i1p1f1/Amon/tas/gn/v20200528/tas_Amon_CESM2_ssp585_r11i1p1f1_gn_201501-206412.nc'),\n",
       " PosixPath('/beegfs/CMIP6/arctic-cmip6/CMIP6/ScenarioMIP/NCAR/CESM2-WACCM/ssp585/r1i1p1f1/Amon/tas/gn/v20200702/tas_Amon_CESM2-WACCM_ssp585_r1i1p1f1_gn_201501-210012.nc'),\n",
       " PosixPath('/beegfs/CMIP6/arctic-cmip6/CMIP6/ScenarioMIP/MPI-M/MPI-ESM1-2-LR/ssp585/r1i1p1f1/Amon/tas/gn/v20190710/tas_Amon_MPI-ESM1-2-LR_ssp585_r1i1p1f1_gn_201501-203412.nc')]"
      ]
     },
     "execution_count": 72,
     "metadata": {},
     "output_type": "execute_result"
    }
   ],
   "source": [
    "fps = list(cmip6_dir.joinpath(\"ScenarioMIP\").glob(\"*/*/ssp585/*/Amon/tas/*/*/*201501*.nc\"))\n",
    "print(\"Unique models (files):\", len(fps))\n",
    "fps"
   ]
  },
  {
   "cell_type": "code",
   "execution_count": 73,
   "id": "61de43bb-d0e4-4c66-a569-3b9207e2b228",
   "metadata": {},
   "outputs": [],
   "source": [
    "def get_res(fp):\n",
    "    with xr.open_dataset(fp) as ds:\n",
    "        lat_res, lon_res = np.diff(ds.lat)[0].round(2), np.diff(ds.lon)[0].round(2)\n",
    "        \n",
    "    return lat_res, lon_res"
   ]
  },
  {
   "cell_type": "code",
   "execution_count": 74,
   "id": "1a529eb9-3183-4b91-b7a9-31600319ef47",
   "metadata": {},
   "outputs": [],
   "source": [
    "rows = []\n",
    "for fp in fps:\n",
    "    model = fp.parent.parent.parent.parent.parent.parent.parent.name\n",
    "    inst = fp.parent.parent.parent.parent.parent.parent.parent.parent.name\n",
    "    lat_res, lon_res = get_res(fp)\n",
    "    ysize_km = np.round(lat_res * 110)\n",
    "    xsize_km = np.abs(np.round(lon_res * (111.320 * np.cos(radians(65)))))\n",
    "    rows.append({\n",
    "        \"inst_model\": f\"{inst}_{model}\",\n",
    "        \"lat_res\": lat_res,\n",
    "        \"lon_res\": lon_res,\n",
    "        \"ysize_km\": ysize_km,\n",
    "        \"xsize_km\": xsize_km\n",
    "    })\n",
    "\n",
    "res_df = pd.DataFrame(rows)"
   ]
  },
  {
   "cell_type": "code",
   "execution_count": 106,
   "id": "273fe24f-e433-402c-b7fc-b18e1ed91b24",
   "metadata": {},
   "outputs": [
    {
     "data": {
      "text/html": [
       "<div>\n",
       "<style scoped>\n",
       "    .dataframe tbody tr th:only-of-type {\n",
       "        vertical-align: middle;\n",
       "    }\n",
       "\n",
       "    .dataframe tbody tr th {\n",
       "        vertical-align: top;\n",
       "    }\n",
       "\n",
       "    .dataframe thead th {\n",
       "        text-align: right;\n",
       "    }\n",
       "</style>\n",
       "<table border=\"1\" class=\"dataframe\">\n",
       "  <thead>\n",
       "    <tr style=\"text-align: right;\">\n",
       "      <th></th>\n",
       "      <th>inst_model</th>\n",
       "      <th>lat_res</th>\n",
       "      <th>lon_res</th>\n",
       "      <th>ysize_km</th>\n",
       "      <th>xsize_km</th>\n",
       "    </tr>\n",
       "  </thead>\n",
       "  <tbody>\n",
       "    <tr>\n",
       "      <th>0</th>\n",
       "      <td>NOAA-GFDL_GFDL-ESM4</td>\n",
       "      <td>1.00</td>\n",
       "      <td>1.25</td>\n",
       "      <td>110.0</td>\n",
       "      <td>59.0</td>\n",
       "    </tr>\n",
       "    <tr>\n",
       "      <th>1</th>\n",
       "      <td>NIMS-KMA_KACE-1-0-G</td>\n",
       "      <td>1.25</td>\n",
       "      <td>1.88</td>\n",
       "      <td>138.0</td>\n",
       "      <td>88.0</td>\n",
       "    </tr>\n",
       "    <tr>\n",
       "      <th>2</th>\n",
       "      <td>CNRM-CERFACS_CNRM-CM6-1-HR</td>\n",
       "      <td>0.50</td>\n",
       "      <td>0.50</td>\n",
       "      <td>55.0</td>\n",
       "      <td>24.0</td>\n",
       "    </tr>\n",
       "    <tr>\n",
       "      <th>3</th>\n",
       "      <td>NCC_NorESM2-MM</td>\n",
       "      <td>0.94</td>\n",
       "      <td>1.25</td>\n",
       "      <td>103.0</td>\n",
       "      <td>59.0</td>\n",
       "    </tr>\n",
       "    <tr>\n",
       "      <th>4</th>\n",
       "      <td>AS-RCEC_TaiESM1</td>\n",
       "      <td>0.94</td>\n",
       "      <td>1.25</td>\n",
       "      <td>103.0</td>\n",
       "      <td>59.0</td>\n",
       "    </tr>\n",
       "    <tr>\n",
       "      <th>5</th>\n",
       "      <td>MOHC_HadGEM3-GC31-MM</td>\n",
       "      <td>0.56</td>\n",
       "      <td>0.83</td>\n",
       "      <td>62.0</td>\n",
       "      <td>39.0</td>\n",
       "    </tr>\n",
       "    <tr>\n",
       "      <th>6</th>\n",
       "      <td>MOHC_HadGEM3-GC31-LL</td>\n",
       "      <td>1.25</td>\n",
       "      <td>1.88</td>\n",
       "      <td>138.0</td>\n",
       "      <td>88.0</td>\n",
       "    </tr>\n",
       "    <tr>\n",
       "      <th>7</th>\n",
       "      <td>MIROC_MIROC6</td>\n",
       "      <td>1.39</td>\n",
       "      <td>1.41</td>\n",
       "      <td>153.0</td>\n",
       "      <td>66.0</td>\n",
       "    </tr>\n",
       "    <tr>\n",
       "      <th>8</th>\n",
       "      <td>EC-Earth-Consortium_EC-Earth3-Veg</td>\n",
       "      <td>0.70</td>\n",
       "      <td>0.70</td>\n",
       "      <td>77.0</td>\n",
       "      <td>33.0</td>\n",
       "    </tr>\n",
       "    <tr>\n",
       "      <th>9</th>\n",
       "      <td>NCAR_CESM2</td>\n",
       "      <td>0.94</td>\n",
       "      <td>1.25</td>\n",
       "      <td>103.0</td>\n",
       "      <td>59.0</td>\n",
       "    </tr>\n",
       "    <tr>\n",
       "      <th>10</th>\n",
       "      <td>NCAR_CESM2-WACCM</td>\n",
       "      <td>0.94</td>\n",
       "      <td>1.25</td>\n",
       "      <td>103.0</td>\n",
       "      <td>59.0</td>\n",
       "    </tr>\n",
       "    <tr>\n",
       "      <th>11</th>\n",
       "      <td>MPI-M_MPI-ESM1-2-LR</td>\n",
       "      <td>1.85</td>\n",
       "      <td>1.88</td>\n",
       "      <td>204.0</td>\n",
       "      <td>88.0</td>\n",
       "    </tr>\n",
       "  </tbody>\n",
       "</table>\n",
       "</div>"
      ],
      "text/plain": [
       "                           inst_model  lat_res  lon_res  ysize_km  xsize_km\n",
       "0                 NOAA-GFDL_GFDL-ESM4     1.00     1.25     110.0      59.0\n",
       "1                 NIMS-KMA_KACE-1-0-G     1.25     1.88     138.0      88.0\n",
       "2          CNRM-CERFACS_CNRM-CM6-1-HR     0.50     0.50      55.0      24.0\n",
       "3                      NCC_NorESM2-MM     0.94     1.25     103.0      59.0\n",
       "4                     AS-RCEC_TaiESM1     0.94     1.25     103.0      59.0\n",
       "5                MOHC_HadGEM3-GC31-MM     0.56     0.83      62.0      39.0\n",
       "6                MOHC_HadGEM3-GC31-LL     1.25     1.88     138.0      88.0\n",
       "7                        MIROC_MIROC6     1.39     1.41     153.0      66.0\n",
       "8   EC-Earth-Consortium_EC-Earth3-Veg     0.70     0.70      77.0      33.0\n",
       "9                          NCAR_CESM2     0.94     1.25     103.0      59.0\n",
       "10                   NCAR_CESM2-WACCM     0.94     1.25     103.0      59.0\n",
       "11                MPI-M_MPI-ESM1-2-LR     1.85     1.88     204.0      88.0"
      ]
     },
     "execution_count": 106,
     "metadata": {},
     "output_type": "execute_result"
    }
   ],
   "source": [
    "res_df"
   ]
  },
  {
   "cell_type": "markdown",
   "id": "ff3bc5b3-3320-4b21-950b-1a63884049bd",
   "metadata": {},
   "source": [
    "Well it looks like there is one grid which is used more than the others, the grid used by CESM2, CESM2-WACCM, TaiESM1 and NorESM2-MM. The latter three models are based on the CESM2 model, so this makes sense. But this grid also represents a middle ground between the range of resolutions, so this should be a candidate for regridding to."
   ]
  },
  {
   "cell_type": "markdown",
   "id": "3b27aafd-6fa2-4215-9813-8da0f68b30d0",
   "metadata": {},
   "source": [
    "## Intramodel-consistency of grids\n",
    "\n",
    "Here we will check that all files for a particular model have the same grid.\n",
    "\n",
    "Define some functions to help with comparing grids among files within models:"
   ]
  },
  {
   "cell_type": "code",
   "execution_count": 192,
   "id": "37b0f29d-0915-4a7d-adc9-323c8421c566",
   "metadata": {},
   "outputs": [],
   "source": [
    "GRID_VARS = [\"lat\", \"lon\", \"lat_bnds\", \"lon_bnds\"]\n",
    "\n",
    "def get_grid(fp):\n",
    "    \"\"\"Read the info from a grid for a single file\"\"\"\n",
    "    grid_di = {}\n",
    "    with xr.open_dataset(fp) as ds:\n",
    "        for varname in GRID_VARS:\n",
    "            try:\n",
    "                grid_di[varname] = ds[varname].values\n",
    "            except KeyError:\n",
    "                grid_di[varname] = None\n",
    "    grid_di[\"filepath\"] = fp\n",
    "        \n",
    "    return grid_di\n",
    "\n",
    "\n",
    "def read_grids(fps):\n",
    "    \"\"\"Read the grid info from all files in fps, using multiprocessing and with a progress bar\"\"\"\n",
    "    grids = []\n",
    "    with Pool(32) as pool:\n",
    "        for grid_di in tqdm.tqdm(\n",
    "            pool.imap_unordered(get_grid, fps), total=len(fps)\n",
    "        ):\n",
    "            grids.append(grid_di)\n",
    "            \n",
    "    return grids\n",
    "\n",
    "\n",
    "def compare_grids(fps):\n",
    "    \"\"\"Generate a table of results from comparing grids of all files with the first file\"\"\"\n",
    "    grids = read_grids(fps)\n",
    "    ref_grid = grids[0]\n",
    "    results = []\n",
    "    for grid_di in grids:\n",
    "        result = {\"filepath\": grid_di[\"filepath\"]}\n",
    "        for varname in GRID_VARS:\n",
    "            if isinstance(grid_di[varname], np.ndarray):\n",
    "                # if array, check that the shapes are the same, call it dim_error if not\n",
    "                if grid_di[varname].shape == ref_grid[varname].shape:\n",
    "                    if np.all(grid_di[varname] == grids[0][varname]):\n",
    "                        result[varname] = \"match\"\n",
    "                    elif np.allclose(grid_di[varname], grids[0][varname]):\n",
    "                        result[varname] = \"close\"\n",
    "                    else:\n",
    "                        result[varname] = \"mismatch\"\n",
    "                else:\n",
    "                    result[varname] = \"dim_error\"\n",
    "            elif grid_di[varname] == None:\n",
    "                result[varname] = \"missing\"\n",
    "            else:\n",
    "                # if the grid is not None or an array, we have a problem\n",
    "                result[varname] = \"problem\"\n",
    "        \n",
    "        results.append(result)\n",
    "    return pd.DataFrame(results), grids[0][\"filepath\"]"
   ]
  },
  {
   "cell_type": "markdown",
   "id": "9fa4689b-9981-435a-97fa-548733e87c8e",
   "metadata": {},
   "source": [
    "Iterate through each model, collect all filepaths for it, and run the comparison between all files and the first file in the pack:"
   ]
  },
  {
   "cell_type": "code",
   "execution_count": 193,
   "id": "cf122ea2-3197-4ae7-b7cf-f9ebd7f57adc",
   "metadata": {},
   "outputs": [
    {
     "name": "stderr",
     "output_type": "stream",
     "text": [
      "100%|████████████████████████████████████████████████████████████████████████████████████████████████████████████████████████████████████████████████████████████████████████████████████████| 291/291 [00:15<00:00, 18.41it/s]\n",
      "100%|████████████████████████████████████████████████████████████████████████████████████████████████████████████████████████████████████████████████████████████████████████████████████████| 143/143 [00:09<00:00, 15.22it/s]\n",
      "100%|████████████████████████████████████████████████████████████████████████████████████████████████████████████████████████████████████████████████████████████████████████████████████████| 546/546 [00:09<00:00, 58.65it/s]\n",
      "100%|████████████████████████████████████████████████████████████████████████████████████████████████████████████████████████████████████████████████████████████████████████████████████████| 864/864 [00:13<00:00, 65.98it/s]\n",
      "100%|████████████████████████████████████████████████████████████████████████████████████████████████████████████████████████████████████████████████████████████████████████████████████████| 444/444 [00:11<00:00, 38.39it/s]\n",
      "100%|████████████████████████████████████████████████████████████████████████████████████████████████████████████████████████████████████████████████████████████████████████████████████████| 608/608 [00:06<00:00, 97.74it/s]\n",
      "100%|████████████████████████████████████████████████████████████████████████████████████████████████████████████████████████████████████████████████████████████████████████████████████████| 180/180 [00:13<00:00, 13.23it/s]\n",
      "100%|█████████████████████████████████████████████████████████████████████████████████████████████████████████████████████████████████████████████████████████████████████████████████████| 1983/1983 [00:13<00:00, 148.22it/s]\n",
      "100%|█████████████████████████████████████████████████████████████████████████████████████████████████████████████████████████████████████████████████████████████████████████████████████| 8095/8095 [00:10<00:00, 783.70it/s]\n",
      "100%|███████████████████████████████████████████████████████████████████████████████████████████████████████████████████████████████████████████████████████████████████████████████████████| 460/460 [00:00<00:00, 562.30it/s]\n",
      "100%|███████████████████████████████████████████████████████████████████████████████████████████████████████████████████████████████████████████████████████████████████████████████████████| 935/935 [00:01<00:00, 628.23it/s]\n",
      "100%|███████████████████████████████████████████████████████████████████████████████████████████████████████████████████████████████████████████████████████████████████████████████████████| 600/600 [00:02<00:00, 253.52it/s]\n"
     ]
    }
   ],
   "source": [
    "results = []\n",
    "ref_fps = {}\n",
    "for inst_model in res_df.inst_model:\n",
    "    inst, model = inst_model.split(\"_\")\n",
    "    fps = list(cmip6_dir.joinpath(\"ScenarioMIP\").glob(f\"{inst}/{model}/*/*/*/*/*/*/*.nc\"))\n",
    "    compare_df, ref_fp = compare_grids(fps)\n",
    "    results.append(compare_df)\n",
    "    ref_fps[model] = ref_fp"
   ]
  },
  {
   "cell_type": "markdown",
   "id": "0156907c-40a9-4465-a13a-ee052eb61fda",
   "metadata": {},
   "source": [
    "Okay well we should know by this point that we probably won't see \"match\" for all files, for any of the four grid variables:"
   ]
  },
  {
   "cell_type": "code",
   "execution_count": 194,
   "id": "00d9567d-9cd4-453b-8801-1ab5e61c3630",
   "metadata": {},
   "outputs": [
    {
     "name": "stdout",
     "output_type": "stream",
     "text": [
      "lat all match: False\n",
      "lon all match: False\n",
      "lat_bnds all match: False\n",
      "lon_bnds all match: False\n"
     ]
    }
   ],
   "source": [
    "results_df = pd.concat(results)\n",
    "for varname in GRID_VARS:\n",
    "    print(f\"{varname} all match: {np.all(results_df[varname] =='match')}\")"
   ]
  },
  {
   "cell_type": "markdown",
   "id": "7aeea588-ad00-4406-ae00-70fb05e26590",
   "metadata": {},
   "source": [
    "So now for the fun part of picking through this and figuring out why some grids are different within the same model.\n",
    "\n",
    "View the types of \"mismatches\" that occurred for each grid variable:"
   ]
  },
  {
   "cell_type": "code",
   "execution_count": 195,
   "id": "d2adfaff-91cc-4a6e-830b-113dcfc770ba",
   "metadata": {},
   "outputs": [
    {
     "name": "stdout",
     "output_type": "stream",
     "text": [
      "lat: ['dim_error' 'close']\n",
      "lon: ['mismatch' 'close']\n",
      "lat_bnds: ['dim_error' 'missing' 'close']\n",
      "lon_bnds: ['mismatch' 'missing' 'close']\n"
     ]
    }
   ],
   "source": [
    "for varname in GRID_VARS:\n",
    "    print(f\"{varname}:\", results_df.query(f\"{varname} != 'match'\")[varname].unique())"
   ]
  },
  {
   "cell_type": "markdown",
   "id": "0726eec7-e426-430f-86ba-1114c43275a8",
   "metadata": {},
   "source": [
    "Let's check out the frequency of mismatches by attributes of the data. Pull out those attributes into separate columns:"
   ]
  },
  {
   "cell_type": "code",
   "execution_count": 198,
   "id": "21755fe5-ff7e-4f7a-849b-96cbbd18d7c7",
   "metadata": {},
   "outputs": [],
   "source": [
    "def fp_to_attrs(fp):\n",
    "    varname = fp.parent.parent.parent.name\n",
    "    frequency = fp.parent.parent.parent.parent.name\n",
    "    scenario = fp.parent.parent.parent.parent.parent.parent.name\n",
    "    model = fp.parent.parent.parent.parent.parent.parent.parent.name\n",
    "    timeframe = fp.name.split(\"_\")[-1].split(\".nc\")[0]\n",
    "    \n",
    "    return model, scenario, frequency, varname, timeframe\n",
    "\n",
    "results_df[\"model\"], results_df[\"scenario\"], results_df[\"frequency\"], results_df[\"variable\"], results_df[\"timeframe\"] = zip(*results_df[\"filepath\"].map(fp_to_attrs))"
   ]
  },
  {
   "cell_type": "markdown",
   "id": "9755493d-940f-4460-a541-693cf7690997",
   "metadata": {},
   "source": [
    "Then groupby on them and count:"
   ]
  },
  {
   "cell_type": "code",
   "execution_count": 214,
   "id": "2920eddd-3a5e-4204-bf72-ab0f985f96cc",
   "metadata": {},
   "outputs": [],
   "source": [
    "groupby_cols = [\"model\", \"scenario\", \"frequency\", \"variable\"]\n",
    "mismatch = results_df.query(f\"{varname} == 'mismatch'\").groupby(groupby_cols).filepath.count().to_frame().reset_index()"
   ]
  },
  {
   "cell_type": "code",
   "execution_count": 218,
   "id": "ddcd4562-e450-4bad-986a-834b313a781b",
   "metadata": {},
   "outputs": [
    {
     "data": {
      "text/plain": [
       "array(['HadGEM3-GC31-LL', 'HadGEM3-GC31-MM', 'KACE-1-0-G'], dtype=object)"
      ]
     },
     "execution_count": 218,
     "metadata": {},
     "output_type": "execute_result"
    }
   ],
   "source": [
    "test.model.unique()"
   ]
  },
  {
   "cell_type": "code",
   "execution_count": 219,
   "id": "146f6eb7-e6de-49d0-96ea-f8614803f076",
   "metadata": {},
   "outputs": [],
   "source": [
    "missing = results_df.query(f\"{varname} == 'missing'\").groupby(groupby_cols).filepath.count().to_frame().reset_index()"
   ]
  },
  {
   "cell_type": "code",
   "execution_count": 221,
   "id": "7c1c31e4-f1e5-4fea-a414-2f22f6b04241",
   "metadata": {},
   "outputs": [
    {
     "data": {
      "text/html": [
       "<div>\n",
       "<style scoped>\n",
       "    .dataframe tbody tr th:only-of-type {\n",
       "        vertical-align: middle;\n",
       "    }\n",
       "\n",
       "    .dataframe tbody tr th {\n",
       "        vertical-align: top;\n",
       "    }\n",
       "\n",
       "    .dataframe thead th {\n",
       "        text-align: right;\n",
       "    }\n",
       "</style>\n",
       "<table border=\"1\" class=\"dataframe\">\n",
       "  <thead>\n",
       "    <tr style=\"text-align: right;\">\n",
       "      <th></th>\n",
       "      <th>model</th>\n",
       "      <th>scenario</th>\n",
       "      <th>frequency</th>\n",
       "      <th>variable</th>\n",
       "      <th>filepath</th>\n",
       "    </tr>\n",
       "  </thead>\n",
       "  <tbody>\n",
       "    <tr>\n",
       "      <th>0</th>\n",
       "      <td>CNRM-CM6-1-HR</td>\n",
       "      <td>ssp126</td>\n",
       "      <td>Amon</td>\n",
       "      <td>evspsbl</td>\n",
       "      <td>1</td>\n",
       "    </tr>\n",
       "    <tr>\n",
       "      <th>1</th>\n",
       "      <td>CNRM-CM6-1-HR</td>\n",
       "      <td>ssp126</td>\n",
       "      <td>Amon</td>\n",
       "      <td>hus</td>\n",
       "      <td>2</td>\n",
       "    </tr>\n",
       "    <tr>\n",
       "      <th>2</th>\n",
       "      <td>CNRM-CM6-1-HR</td>\n",
       "      <td>ssp126</td>\n",
       "      <td>Amon</td>\n",
       "      <td>huss</td>\n",
       "      <td>1</td>\n",
       "    </tr>\n",
       "    <tr>\n",
       "      <th>3</th>\n",
       "      <td>CNRM-CM6-1-HR</td>\n",
       "      <td>ssp126</td>\n",
       "      <td>Amon</td>\n",
       "      <td>pr</td>\n",
       "      <td>1</td>\n",
       "    </tr>\n",
       "    <tr>\n",
       "      <th>4</th>\n",
       "      <td>CNRM-CM6-1-HR</td>\n",
       "      <td>ssp126</td>\n",
       "      <td>Amon</td>\n",
       "      <td>prsn</td>\n",
       "      <td>1</td>\n",
       "    </tr>\n",
       "    <tr>\n",
       "      <th>...</th>\n",
       "      <td>...</td>\n",
       "      <td>...</td>\n",
       "      <td>...</td>\n",
       "      <td>...</td>\n",
       "      <td>...</td>\n",
       "    </tr>\n",
       "    <tr>\n",
       "      <th>101</th>\n",
       "      <td>CNRM-CM6-1-HR</td>\n",
       "      <td>ssp585</td>\n",
       "      <td>day</td>\n",
       "      <td>tas</td>\n",
       "      <td>2</td>\n",
       "    </tr>\n",
       "    <tr>\n",
       "      <th>102</th>\n",
       "      <td>CNRM-CM6-1-HR</td>\n",
       "      <td>ssp585</td>\n",
       "      <td>day</td>\n",
       "      <td>ua</td>\n",
       "      <td>18</td>\n",
       "    </tr>\n",
       "    <tr>\n",
       "      <th>103</th>\n",
       "      <td>CNRM-CM6-1-HR</td>\n",
       "      <td>ssp585</td>\n",
       "      <td>day</td>\n",
       "      <td>uas</td>\n",
       "      <td>3</td>\n",
       "    </tr>\n",
       "    <tr>\n",
       "      <th>104</th>\n",
       "      <td>CNRM-CM6-1-HR</td>\n",
       "      <td>ssp585</td>\n",
       "      <td>day</td>\n",
       "      <td>va</td>\n",
       "      <td>42</td>\n",
       "    </tr>\n",
       "    <tr>\n",
       "      <th>105</th>\n",
       "      <td>CNRM-CM6-1-HR</td>\n",
       "      <td>ssp585</td>\n",
       "      <td>day</td>\n",
       "      <td>vas</td>\n",
       "      <td>3</td>\n",
       "    </tr>\n",
       "  </tbody>\n",
       "</table>\n",
       "<p>106 rows × 5 columns</p>\n",
       "</div>"
      ],
      "text/plain": [
       "             model scenario frequency variable  filepath\n",
       "0    CNRM-CM6-1-HR   ssp126      Amon  evspsbl         1\n",
       "1    CNRM-CM6-1-HR   ssp126      Amon      hus         2\n",
       "2    CNRM-CM6-1-HR   ssp126      Amon     huss         1\n",
       "3    CNRM-CM6-1-HR   ssp126      Amon       pr         1\n",
       "4    CNRM-CM6-1-HR   ssp126      Amon     prsn         1\n",
       "..             ...      ...       ...      ...       ...\n",
       "101  CNRM-CM6-1-HR   ssp585       day      tas         2\n",
       "102  CNRM-CM6-1-HR   ssp585       day       ua        18\n",
       "103  CNRM-CM6-1-HR   ssp585       day      uas         3\n",
       "104  CNRM-CM6-1-HR   ssp585       day       va        42\n",
       "105  CNRM-CM6-1-HR   ssp585       day      vas         3\n",
       "\n",
       "[106 rows x 5 columns]"
      ]
     },
     "execution_count": 221,
     "metadata": {},
     "output_type": "execute_result"
    }
   ],
   "source": [
    "missing"
   ]
  },
  {
   "cell_type": "code",
   "execution_count": null,
   "id": "c9e15fd0-a8b9-45d9-8772-d086fd265eb4",
   "metadata": {},
   "outputs": [],
   "source": []
  },
  {
   "cell_type": "code",
   "execution_count": null,
   "id": "28086d16-900c-4ae9-90e5-2dec45f7c5dc",
   "metadata": {},
   "outputs": [],
   "source": []
  },
  {
   "cell_type": "code",
   "execution_count": null,
   "id": "d73f5ea6-c975-45fd-ad99-0018843d5a88",
   "metadata": {},
   "outputs": [],
   "source": []
  }
 ],
 "metadata": {
  "kernelspec": {
   "display_name": "Python 3 (ipykernel)",
   "language": "python",
   "name": "python3"
  },
  "language_info": {
   "codemirror_mode": {
    "name": "ipython",
    "version": 3
   },
   "file_extension": ".py",
   "mimetype": "text/x-python",
   "name": "python",
   "nbconvert_exporter": "python",
   "pygments_lexer": "ipython3",
   "version": "3.9.13"
  }
 },
 "nbformat": 4,
 "nbformat_minor": 5
}
