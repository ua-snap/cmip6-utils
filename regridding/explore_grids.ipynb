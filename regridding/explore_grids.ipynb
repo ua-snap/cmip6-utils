{
 "cells": [
  {
   "cell_type": "markdown",
   "id": "81fca71a-9989-449d-bef8-67bd6c807be5",
   "metadata": {},
   "source": [
    "# Explore grids of CMIP6\n",
    "\n",
    "This notebook is for exploring the grids used by CMIP6 models. We are mainly interested in the variation in resolution, as we assume all grids will be rectilinear WGS84 grids and will vary mostly in resolution, but are unsure about how much they will vary. We will also want to explore other things, like the consistency of grid use within a model."
   ]
  },
  {
   "cell_type": "code",
   "execution_count": 1,
   "id": "11fac024-9a4d-4038-b5cf-2290b6f52a36",
   "metadata": {},
   "outputs": [],
   "source": [
    "from pathlib import Path\n",
    "import numpy as np\n",
    "import pandas as pd\n",
    "import xarray as xr\n",
    "from math import radians\n",
    "from multiprocessing import Pool\n",
    "import tqdm\n",
    "\n",
    "# ignore serializationWarnings from xarray for datasets with multiple FillValues\n",
    "import warnings\n",
    "warnings.filterwarnings(\"ignore\", category=xr.SerializationWarning)"
   ]
  },
  {
   "cell_type": "code",
   "execution_count": 2,
   "id": "73ca8d71-c536-48be-81d8-98b84cd388fa",
   "metadata": {},
   "outputs": [],
   "source": [
    "cmip6_dir = Path(\"/beegfs/CMIP6/arctic-cmip6/CMIP6\")"
   ]
  },
  {
   "cell_type": "markdown",
   "id": "9b3a4be8-c7e4-4dd2-a966-fd526167c5c8",
   "metadata": {},
   "source": [
    "Get a list of one file for each model. Each one should have monthly temperature, with a file starting in 2015-01:"
   ]
  },
  {
   "cell_type": "code",
   "execution_count": 3,
   "id": "4cd0bb31-eddf-4866-9a46-61cf2c720a27",
   "metadata": {},
   "outputs": [
    {
     "name": "stdout",
     "output_type": "stream",
     "text": [
      "Unique models (files): 12\n"
     ]
    },
    {
     "data": {
      "text/plain": [
       "[PosixPath('/beegfs/CMIP6/arctic-cmip6/CMIP6/ScenarioMIP/NOAA-GFDL/GFDL-ESM4/ssp585/r1i1p1f1/Amon/tas/gr1/v20180701/tas_Amon_GFDL-ESM4_ssp585_r1i1p1f1_gr1_201501-210012.nc'),\n",
       " PosixPath('/beegfs/CMIP6/arctic-cmip6/CMIP6/ScenarioMIP/NIMS-KMA/KACE-1-0-G/ssp585/r1i1p1f1/Amon/tas/gr/v20190920/tas_Amon_KACE-1-0-G_ssp585_r1i1p1f1_gr_201501-210012.nc'),\n",
       " PosixPath('/beegfs/CMIP6/arctic-cmip6/CMIP6/ScenarioMIP/CNRM-CERFACS/CNRM-CM6-1-HR/ssp585/r1i1p1f2/Amon/tas/gr/v20191202/tas_Amon_CNRM-CM6-1-HR_ssp585_r1i1p1f2_gr_201501-210012.nc'),\n",
       " PosixPath('/beegfs/CMIP6/arctic-cmip6/CMIP6/ScenarioMIP/NCC/NorESM2-MM/ssp585/r1i1p1f1/Amon/tas/gn/v20191108/tas_Amon_NorESM2-MM_ssp585_r1i1p1f1_gn_201501-202012.nc'),\n",
       " PosixPath('/beegfs/CMIP6/arctic-cmip6/CMIP6/ScenarioMIP/AS-RCEC/TaiESM1/ssp585/r1i1p1f1/Amon/tas/gn/v20200901/tas_Amon_TaiESM1_ssp585_r1i1p1f1_gn_201501-210012.nc'),\n",
       " PosixPath('/beegfs/CMIP6/arctic-cmip6/CMIP6/ScenarioMIP/MOHC/HadGEM3-GC31-MM/ssp585/r1i1p1f3/Amon/tas/gn/v20200515/tas_Amon_HadGEM3-GC31-MM_ssp585_r1i1p1f3_gn_201501-202912.nc'),\n",
       " PosixPath('/beegfs/CMIP6/arctic-cmip6/CMIP6/ScenarioMIP/MOHC/HadGEM3-GC31-LL/ssp585/r1i1p1f3/Amon/tas/gn/v20200114/tas_Amon_HadGEM3-GC31-LL_ssp585_r1i1p1f3_gn_201501-204912.nc'),\n",
       " PosixPath('/beegfs/CMIP6/arctic-cmip6/CMIP6/ScenarioMIP/MIROC/MIROC6/ssp585/r1i1p1f1/Amon/tas/gn/v20190627/tas_Amon_MIROC6_ssp585_r1i1p1f1_gn_201501-210012.nc'),\n",
       " PosixPath('/beegfs/CMIP6/arctic-cmip6/CMIP6/ScenarioMIP/EC-Earth-Consortium/EC-Earth3-Veg/ssp585/r1i1p1f1/Amon/tas/gr/v20200225/tas_Amon_EC-Earth3-Veg_ssp585_r1i1p1f1_gr_201501-201512.nc'),\n",
       " PosixPath('/beegfs/CMIP6/arctic-cmip6/CMIP6/ScenarioMIP/NCAR/CESM2/ssp585/r11i1p1f1/Amon/tas/gn/v20200528/tas_Amon_CESM2_ssp585_r11i1p1f1_gn_201501-206412.nc'),\n",
       " PosixPath('/beegfs/CMIP6/arctic-cmip6/CMIP6/ScenarioMIP/NCAR/CESM2-WACCM/ssp585/r1i1p1f1/Amon/tas/gn/v20200702/tas_Amon_CESM2-WACCM_ssp585_r1i1p1f1_gn_201501-210012.nc'),\n",
       " PosixPath('/beegfs/CMIP6/arctic-cmip6/CMIP6/ScenarioMIP/MPI-M/MPI-ESM1-2-LR/ssp585/r1i1p1f1/Amon/tas/gn/v20190710/tas_Amon_MPI-ESM1-2-LR_ssp585_r1i1p1f1_gn_201501-203412.nc')]"
      ]
     },
     "execution_count": 3,
     "metadata": {},
     "output_type": "execute_result"
    }
   ],
   "source": [
    "fps = list(cmip6_dir.joinpath(\"ScenarioMIP\").glob(\"*/*/ssp585/*/Amon/tas/*/*/*201501*.nc\"))\n",
    "print(\"Unique models (files):\", len(fps))\n",
    "fps"
   ]
  },
  {
   "cell_type": "code",
   "execution_count": 4,
   "id": "61de43bb-d0e4-4c66-a569-3b9207e2b228",
   "metadata": {},
   "outputs": [],
   "source": [
    "def get_res(fp):\n",
    "    with xr.open_dataset(fp) as ds:\n",
    "        lat_res, lon_res = np.diff(ds.lat)[0].round(2), np.diff(ds.lon)[0].round(2)\n",
    "        \n",
    "    return lat_res, lon_res"
   ]
  },
  {
   "cell_type": "code",
   "execution_count": 5,
   "id": "1a529eb9-3183-4b91-b7a9-31600319ef47",
   "metadata": {},
   "outputs": [],
   "source": [
    "rows = []\n",
    "for fp in fps:\n",
    "    model = fp.parent.parent.parent.parent.parent.parent.parent.name\n",
    "    inst = fp.parent.parent.parent.parent.parent.parent.parent.parent.name\n",
    "    lat_res, lon_res = get_res(fp)\n",
    "    ysize_km = np.round(lat_res * 110)\n",
    "    xsize_km = np.abs(np.round(lon_res * (111.320 * np.cos(radians(65)))))\n",
    "    rows.append({\n",
    "        \"inst_model\": f\"{inst}_{model}\",\n",
    "        \"lat_res\": lat_res,\n",
    "        \"lon_res\": lon_res,\n",
    "        \"ysize_km\": ysize_km,\n",
    "        \"xsize_km\": xsize_km\n",
    "    })\n",
    "\n",
    "res_df = pd.DataFrame(rows)"
   ]
  },
  {
   "cell_type": "code",
   "execution_count": 6,
   "id": "273fe24f-e433-402c-b7fc-b18e1ed91b24",
   "metadata": {},
   "outputs": [
    {
     "data": {
      "text/html": [
       "<div>\n",
       "<style scoped>\n",
       "    .dataframe tbody tr th:only-of-type {\n",
       "        vertical-align: middle;\n",
       "    }\n",
       "\n",
       "    .dataframe tbody tr th {\n",
       "        vertical-align: top;\n",
       "    }\n",
       "\n",
       "    .dataframe thead th {\n",
       "        text-align: right;\n",
       "    }\n",
       "</style>\n",
       "<table border=\"1\" class=\"dataframe\">\n",
       "  <thead>\n",
       "    <tr style=\"text-align: right;\">\n",
       "      <th></th>\n",
       "      <th>inst_model</th>\n",
       "      <th>lat_res</th>\n",
       "      <th>lon_res</th>\n",
       "      <th>ysize_km</th>\n",
       "      <th>xsize_km</th>\n",
       "    </tr>\n",
       "  </thead>\n",
       "  <tbody>\n",
       "    <tr>\n",
       "      <th>0</th>\n",
       "      <td>NOAA-GFDL_GFDL-ESM4</td>\n",
       "      <td>1.00</td>\n",
       "      <td>1.25</td>\n",
       "      <td>110.0</td>\n",
       "      <td>59.0</td>\n",
       "    </tr>\n",
       "    <tr>\n",
       "      <th>1</th>\n",
       "      <td>NIMS-KMA_KACE-1-0-G</td>\n",
       "      <td>1.25</td>\n",
       "      <td>1.88</td>\n",
       "      <td>138.0</td>\n",
       "      <td>88.0</td>\n",
       "    </tr>\n",
       "    <tr>\n",
       "      <th>2</th>\n",
       "      <td>CNRM-CERFACS_CNRM-CM6-1-HR</td>\n",
       "      <td>0.50</td>\n",
       "      <td>0.50</td>\n",
       "      <td>55.0</td>\n",
       "      <td>24.0</td>\n",
       "    </tr>\n",
       "    <tr>\n",
       "      <th>3</th>\n",
       "      <td>NCC_NorESM2-MM</td>\n",
       "      <td>0.94</td>\n",
       "      <td>1.25</td>\n",
       "      <td>103.0</td>\n",
       "      <td>59.0</td>\n",
       "    </tr>\n",
       "    <tr>\n",
       "      <th>4</th>\n",
       "      <td>AS-RCEC_TaiESM1</td>\n",
       "      <td>0.94</td>\n",
       "      <td>1.25</td>\n",
       "      <td>103.0</td>\n",
       "      <td>59.0</td>\n",
       "    </tr>\n",
       "    <tr>\n",
       "      <th>5</th>\n",
       "      <td>MOHC_HadGEM3-GC31-MM</td>\n",
       "      <td>0.56</td>\n",
       "      <td>0.83</td>\n",
       "      <td>62.0</td>\n",
       "      <td>39.0</td>\n",
       "    </tr>\n",
       "    <tr>\n",
       "      <th>6</th>\n",
       "      <td>MOHC_HadGEM3-GC31-LL</td>\n",
       "      <td>1.25</td>\n",
       "      <td>1.88</td>\n",
       "      <td>138.0</td>\n",
       "      <td>88.0</td>\n",
       "    </tr>\n",
       "    <tr>\n",
       "      <th>7</th>\n",
       "      <td>MIROC_MIROC6</td>\n",
       "      <td>1.39</td>\n",
       "      <td>1.41</td>\n",
       "      <td>153.0</td>\n",
       "      <td>66.0</td>\n",
       "    </tr>\n",
       "    <tr>\n",
       "      <th>8</th>\n",
       "      <td>EC-Earth-Consortium_EC-Earth3-Veg</td>\n",
       "      <td>0.70</td>\n",
       "      <td>0.70</td>\n",
       "      <td>77.0</td>\n",
       "      <td>33.0</td>\n",
       "    </tr>\n",
       "    <tr>\n",
       "      <th>9</th>\n",
       "      <td>NCAR_CESM2</td>\n",
       "      <td>0.94</td>\n",
       "      <td>1.25</td>\n",
       "      <td>103.0</td>\n",
       "      <td>59.0</td>\n",
       "    </tr>\n",
       "    <tr>\n",
       "      <th>10</th>\n",
       "      <td>NCAR_CESM2-WACCM</td>\n",
       "      <td>0.94</td>\n",
       "      <td>1.25</td>\n",
       "      <td>103.0</td>\n",
       "      <td>59.0</td>\n",
       "    </tr>\n",
       "    <tr>\n",
       "      <th>11</th>\n",
       "      <td>MPI-M_MPI-ESM1-2-LR</td>\n",
       "      <td>1.85</td>\n",
       "      <td>1.88</td>\n",
       "      <td>204.0</td>\n",
       "      <td>88.0</td>\n",
       "    </tr>\n",
       "  </tbody>\n",
       "</table>\n",
       "</div>"
      ],
      "text/plain": [
       "                           inst_model  lat_res  lon_res  ysize_km  xsize_km\n",
       "0                 NOAA-GFDL_GFDL-ESM4     1.00     1.25     110.0      59.0\n",
       "1                 NIMS-KMA_KACE-1-0-G     1.25     1.88     138.0      88.0\n",
       "2          CNRM-CERFACS_CNRM-CM6-1-HR     0.50     0.50      55.0      24.0\n",
       "3                      NCC_NorESM2-MM     0.94     1.25     103.0      59.0\n",
       "4                     AS-RCEC_TaiESM1     0.94     1.25     103.0      59.0\n",
       "5                MOHC_HadGEM3-GC31-MM     0.56     0.83      62.0      39.0\n",
       "6                MOHC_HadGEM3-GC31-LL     1.25     1.88     138.0      88.0\n",
       "7                        MIROC_MIROC6     1.39     1.41     153.0      66.0\n",
       "8   EC-Earth-Consortium_EC-Earth3-Veg     0.70     0.70      77.0      33.0\n",
       "9                          NCAR_CESM2     0.94     1.25     103.0      59.0\n",
       "10                   NCAR_CESM2-WACCM     0.94     1.25     103.0      59.0\n",
       "11                MPI-M_MPI-ESM1-2-LR     1.85     1.88     204.0      88.0"
      ]
     },
     "execution_count": 6,
     "metadata": {},
     "output_type": "execute_result"
    }
   ],
   "source": [
    "res_df"
   ]
  },
  {
   "cell_type": "markdown",
   "id": "ff3bc5b3-3320-4b21-950b-1a63884049bd",
   "metadata": {},
   "source": [
    "Well it looks like there is one grid which is used more than the others, the grid used by CESM2, CESM2-WACCM, TaiESM1 and NorESM2-MM. The latter three models are based on the CESM2 model, so this makes sense. But this grid also represents a middle ground between the range of resolutions, so this should be a candidate for regridding to."
   ]
  },
  {
   "cell_type": "markdown",
   "id": "3b27aafd-6fa2-4215-9813-8da0f68b30d0",
   "metadata": {},
   "source": [
    "## Intramodel-consistency of grids\n",
    "\n",
    "Here we will make an assessment of the variation of grids within models. You would think that all files from a given model would share the same grid, but this is not the case. We are going to scrape some info to get an idea of the grid, and generate a unique grid identifier for each unique grid from that info. A simple thing to do is just generate a string that is a concatenation of the various grid attributes, such as min and max of lat and lon variables, etc. \n",
    "\n",
    "Define some functions to help with comparing grids among files within models:"
   ]
  },
  {
   "cell_type": "code",
   "execution_count": 130,
   "id": "37b0f29d-0915-4a7d-adc9-323c8421c566",
   "metadata": {},
   "outputs": [],
   "source": [
    "GRID_VARS = [\"lat\", \"lon\", \"lat_bnds\", \"lon_bnds\"]\n",
    "\n",
    "\n",
    "def fp_to_attrs(fp):\n",
    "    \"\"\"pull the data attributes from a filepath\"\"\"\n",
    "    varname = fp.parent.parent.parent.name\n",
    "    frequency = fp.parent.parent.parent.parent.name\n",
    "    scenario = fp.parent.parent.parent.parent.parent.parent.name\n",
    "    model = fp.parent.parent.parent.parent.parent.parent.parent.name\n",
    "    timeframe = fp.name.split(\"_\")[-1].split(\".nc\")[0]\n",
    "    \n",
    "    attr_di = {\n",
    "        \"model\": model,\n",
    "        \"scenario\": scenario,\n",
    "        \"frequency\": frequency,\n",
    "        \"varname\": varname,\n",
    "        \"timeframe\": timeframe\n",
    "    }\n",
    "    \n",
    "    return attr_di\n",
    "\n",
    "\n",
    "def get_grid(fp):\n",
    "    \"\"\"Read the info from a grid for a single file\"\"\"\n",
    "    grid_di = {}\n",
    "    with xr.open_dataset(fp) as ds:\n",
    "        for varname in GRID_VARS:\n",
    "            if (varname in ds.dims) or (varname in ds.data_vars):\n",
    "                grid_di[f\"{varname}_min\"] = ds[varname].values.min()\n",
    "                grid_di[f\"{varname}_max\"] = ds[varname].values.max()\n",
    "                grid_di[f\"{varname}_size\"] = ds[varname].values.shape[0]\n",
    "                grid_di[f\"{varname}_step\"] = np.diff(ds[varname].values)[0]\n",
    "            else:\n",
    "                grid_di[f\"{varname}_min\"] = None\n",
    "                grid_di[f\"{varname}_max\"] = None\n",
    "                grid_di[f\"{varname}_size\"] = None\n",
    "                grid_di[f\"{varname}_step\"] = None\n",
    "            \n",
    "    # create a new column that is a concatenation of all of these values\n",
    "    grid_di[\"grid\"] = \"_\".join([str(grid_di[key]) for key in grid_di.keys()])\n",
    "    # pull out file attributes (model scenario etc)\n",
    "    grid_di.update(fp_to_attrs(fp))\n",
    "    # also keep the filename for reference\n",
    "    grid_di[\"fp\"] = fp\n",
    "        \n",
    "    return grid_di\n",
    "\n",
    "\n",
    "def read_grids(fps):\n",
    "    \"\"\"Read the grid info from all files in fps, using multiprocessing and with a progress bar\"\"\"\n",
    "    grids = []\n",
    "    with Pool(32) as pool:\n",
    "        for grid_di in tqdm.tqdm(\n",
    "            pool.imap_unordered(get_grid, fps), total=len(fps)\n",
    "        ):\n",
    "            grids.append(grid_di)\n",
    "            \n",
    "    return grids"
   ]
  },
  {
   "cell_type": "markdown",
   "id": "9fa4689b-9981-435a-97fa-548733e87c8e",
   "metadata": {},
   "source": [
    "Iterate through each model, collect all filepaths for it, and run the comparison between all files and the first file in the pack:"
   ]
  },
  {
   "cell_type": "code",
   "execution_count": 131,
   "id": "cf122ea2-3197-4ae7-b7cf-f9ebd7f57adc",
   "metadata": {},
   "outputs": [
    {
     "name": "stderr",
     "output_type": "stream",
     "text": [
      "100%|██████████████████████████████████████████████████████████████████████████████████████████████████████████████████████████████████████████████████████████████████████████████████| 291/291 [00:16<00:00, 17.86it/s]\n",
      "100%|██████████████████████████████████████████████████████████████████████████████████████████████████████████████████████████████████████████████████████████████████████████████████| 143/143 [00:09<00:00, 14.34it/s]\n",
      "100%|██████████████████████████████████████████████████████████████████████████████████████████████████████████████████████████████████████████████████████████████████████████████████| 546/546 [00:09<00:00, 58.40it/s]\n",
      "100%|██████████████████████████████████████████████████████████████████████████████████████████████████████████████████████████████████████████████████████████████████████████████████| 864/864 [00:13<00:00, 63.25it/s]\n",
      "100%|██████████████████████████████████████████████████████████████████████████████████████████████████████████████████████████████████████████████████████████████████████████████████| 444/444 [00:12<00:00, 36.96it/s]\n",
      "100%|██████████████████████████████████████████████████████████████████████████████████████████████████████████████████████████████████████████████████████████████████████████████████| 608/608 [00:06<00:00, 88.78it/s]\n",
      "100%|██████████████████████████████████████████████████████████████████████████████████████████████████████████████████████████████████████████████████████████████████████████████████| 180/180 [00:13<00:00, 12.88it/s]\n",
      "100%|███████████████████████████████████████████████████████████████████████████████████████████████████████████████████████████████████████████████████████████████████████████████| 1983/1983 [00:13<00:00, 142.10it/s]\n",
      "100%|███████████████████████████████████████████████████████████████████████████████████████████████████████████████████████████████████████████████████████████████████████████████| 8095/8095 [00:11<00:00, 726.10it/s]\n",
      "100%|█████████████████████████████████████████████████████████████████████████████████████████████████████████████████████████████████████████████████████████████████████████████████| 460/460 [00:00<00:00, 484.03it/s]\n",
      "100%|█████████████████████████████████████████████████████████████████████████████████████████████████████████████████████████████████████████████████████████████████████████████████| 935/935 [00:01<00:00, 555.12it/s]\n",
      "100%|█████████████████████████████████████████████████████████████████████████████████████████████████████████████████████████████████████████████████████████████████████████████████| 600/600 [00:02<00:00, 237.34it/s]\n"
     ]
    }
   ],
   "source": [
    "results = []\n",
    "\n",
    "for inst_model in res_df.inst_model:\n",
    "    inst, model = inst_model.split(\"_\")\n",
    "    fps = list(cmip6_dir.joinpath(\"ScenarioMIP\").glob(f\"{inst}/{model}/*/*/*/*/*/*/*.nc\"))\n",
    "    results.append(read_grids(fps))"
   ]
  },
  {
   "cell_type": "markdown",
   "id": "51148ec6-85e9-4cdf-9846-21253e8ab75d",
   "metadata": {},
   "source": [
    "Combine results into a DataFrame, with the grid info for each file contained in a single row:"
   ]
  },
  {
   "cell_type": "code",
   "execution_count": 133,
   "id": "c4536ec8-f558-4870-9e80-bf4318c7972e",
   "metadata": {},
   "outputs": [],
   "source": [
    "results_df = pd.concat([pd.DataFrame(rows) for rows in results])"
   ]
  },
  {
   "cell_type": "markdown",
   "id": "db75360c-1389-49f4-b82b-e2abe78039b5",
   "metadata": {},
   "source": [
    "Group by model and count the unique grids for each:"
   ]
  },
  {
   "cell_type": "code",
   "execution_count": 134,
   "id": "88854ebd-26ab-4ee1-8bd4-30a66f9d6343",
   "metadata": {},
   "outputs": [
    {
     "data": {
      "text/plain": [
       "model            grid                                                                                                                                                                                                          \n",
       "CESM2            -90.0_90.0_192_0.9424083769633569_0.0_358.75_288_1.25_-90.0_90.0_192_[0.47120419]_-0.625_359.375_288_[1.25]                                                                                                        420\n",
       "                 -90.0_90.0_192_0.9424057006835938_0.0_358.75_288_1.25_-90.0_90.0_192_[0.47120667]_-0.625_359.375_288_[1.25]                                                                                                         40\n",
       "CESM2-WACCM      -90.0_90.0_192_0.9424083769633569_0.0_358.75_288_1.25_-90.0_90.0_192_[0.47120419]_-0.625_359.375_288_[1.25]                                                                                                        731\n",
       "                 -90.0_90.0_192_0.9424083769633569_0.0_358.75_288_1.25_-90.0_90.0_192_[0.47120667]_-0.625_359.375_288_[1.25]                                                                                                        192\n",
       "                 -90.0_90.0_192_0.9424057006835938_0.0_358.75_288_1.25_-90.0_90.0_192_[0.47120667]_-0.625_359.375_288_[1.25]                                                                                                         12\n",
       "CNRM-CM6-1-HR    -89.61779109354386_89.61779109354386_360_0.4951200170690129_0.0_359.5_720_0.5_None_None_None_None_None_None_None_None                                                                                              546\n",
       "EC-Earth3-Veg    -89.4628215685774_89.4628215685774_256_0.6958702157351979_0.0_359.296875_512_0.703125_-90.0_90.0_256_[0.88511354]_-0.3515625_359.6484375_512_[0.703125]                                                           8095\n",
       "GFDL-ESM4        -89.5_89.5_180_1.0_0.625_359.375_288_1.2499999999999998_-90.0_90.0_180_[1.]_0.0_360.0_288_[1.25]                                                                                                                   291\n",
       "HadGEM3-GC31-LL  -89.375_89.375_144_1.25_0.9375_359.0625_192_1.875_-90.0_90.0_144_[1.25]_0.0_360.0_192_[1.875]                                                                                                                      126\n",
       "                 -90.0_90.0_145_1.25_0.0_358.125_192_1.875_-90.0_90.0_145_[0.625]_-0.9375_359.0625_192_[1.875]                                                                                                                       30\n",
       "                 -89.375_89.375_144_1.25_0.0_358.125_192_1.875_-90.0_90.0_144_[1.25]_-0.9375_359.0625_192_[1.875]                                                                                                                    12\n",
       "                 -90.0_90.0_145_1.25_0.9375_359.0625_192_1.875_-90.0_90.0_145_[0.625]_0.0_360.0_192_[1.875]                                                                                                                          12\n",
       "HadGEM3-GC31-MM  -89.72222137451172_89.72223663330078_324_0.5555572509765625_0.4166666567325592_359.58331298828125_432_0.8333333432674408_-90.0_90.0_324_[0.55555725]_-1.017749309539795e-05_359.9999898225069_432_[0.83334351]     424\n",
       "                 -90.0_90.0_325_0.5555572509765625_0.0_359.1666564941406_432_0.8333333134651184_-90.0_90.0_325_[0.27777863]_-0.4166717529296875_359.5833282470703_432_[0.83333841]                                                   92\n",
       "                 -89.72222137451172_89.72223663330078_324_0.5555572509765625_0.0_359.1666564941406_432_0.8333333134651184_-90.0_90.0_324_[0.55555725]_-0.4166717529296875_359.5833282470703_432_[0.83333841]                         46\n",
       "                 -90.0_90.0_325_0.5555572509765625_0.4166666567325592_359.58331298828125_432_0.8333333432674408_-90.0_90.0_325_[0.27777863]_-1.017749309539795e-05_359.9999898225069_432_[0.83334351]                                46\n",
       "KACE-1-0-G       -89.375_89.375_144_1.25_0.9375_359.0625_192_1.875_-90.0_90.0_144_[1.25]_0.0_360.0_192_[1.875]                                                                                                                       95\n",
       "                 -90.0_90.0_145_1.25_0.0_358.125_192_1.875_-90.0_90.0_145_[0.625]_-0.9375_359.0625_192_[1.875]                                                                                                                       32\n",
       "                 -89.375_89.375_144_1.25_0.0_358.125_192_1.875_-90.0_90.0_144_[1.25]_-0.9375_359.0625_192_[1.875]                                                                                                                     8\n",
       "                 -90.0_90.0_145_1.25_0.9375_359.0625_192_1.875_-90.0_90.0_145_[0.625]_0.0_360.0_192_[1.875]                                                                                                                           8\n",
       "MIROC6           -88.92773535229591_88.92773535229591_128_1.3890301392687405_0.0_358.59375_256_1.40625_-90.0_90.0_128_[1.71775503]_-0.703125_359.296875_256_[1.40625]                                                              1983\n",
       "MPI-ESM1-2-LR    -88.57216851400727_88.57216851400727_96_1.8496375593391292_0.0_358.125_192_1.875_-89.49698729367684_89.49698729367684_96_[1.84963756]_-0.9375_359.0625_192_[1.875]                                                 600\n",
       "NorESM2-MM       -90.0_90.0_192_0.9424083769633569_0.0_358.75_288_1.25_-90.0_90.0_192_[0.47120419]_-0.625_359.375_288_[1.25]                                                                                                        792\n",
       "                 -90.0_90.0_192_0.942408376963229_0.0_358.75_288_1.25_-90.0_90.0_192_[0.47120419]_-0.625_359.375_288_[1.25]                                                                                                          72\n",
       "TaiESM1          -90.0_90.0_192_0.9424083769633569_0.0_358.75_288_1.25_-90.0_90.0_192_[0.47120419]_-0.625_359.375_288_[1.25]                                                                                                        408\n",
       "                 -90.0_90.0_192_0.9424057006835938_0.0_358.75_288_1.25_-90.0_90.0_192_[0.47120419]_-0.625_359.375_288_[1.25]                                                                                                         36\n",
       "Name: grid, dtype: int64"
      ]
     },
     "execution_count": 134,
     "metadata": {},
     "output_type": "execute_result"
    }
   ],
   "source": [
    "results_df.groupby(\"model\").grid.value_counts()"
   ]
  },
  {
   "cell_type": "markdown",
   "id": "913ebf0f-f271-498b-b972-986fa05e0837",
   "metadata": {},
   "source": [
    "This information is probably not required for regridding, it is mostly just for reference, and for deciding which of the CESM2 grids to use for our regridding. \n",
    "\n",
    "Notice that some of the models share the same grids with the more common of the CESM2 grid, the one being used in 420 of the 460 files for that model:"
   ]
  },
  {
   "cell_type": "code",
   "execution_count": 135,
   "id": "ff92ef80-4261-45ed-84e3-b58192a06e05",
   "metadata": {},
   "outputs": [
    {
     "name": "stdout",
     "output_type": "stream",
     "text": [
      "-90.0_90.0_192_0.9424083769633569_0.0_358.75_288_1.25_-90.0_90.0_192_[0.47120419]_-0.625_359.375_288_[1.25]    420\n",
      "-90.0_90.0_192_0.9424057006835938_0.0_358.75_288_1.25_-90.0_90.0_192_[0.47120667]_-0.625_359.375_288_[1.25]     40\n",
      "Name: grid, dtype: int64\n"
     ]
    }
   ],
   "source": [
    "cesm2_grids = results_df.query(\"model == 'CESM2'\").grid.value_counts()\n",
    "print(cesm2_grids)"
   ]
  },
  {
   "cell_type": "markdown",
   "id": "96bab993-4004-4fbe-854e-3c02255122ab",
   "metadata": {},
   "source": [
    "Note that these are very subtle differences, differing only after the 5th significant digit for both the latitude and `lat_bnds` step sizes.\n",
    "\n",
    "Check that this more common grid is also used in the other three two models based on CESM2:"
   ]
  },
  {
   "cell_type": "code",
   "execution_count": 136,
   "id": "c509a1c3-2424-44d3-a467-01302463c3fc",
   "metadata": {},
   "outputs": [
    {
     "name": "stdout",
     "output_type": "stream",
     "text": [
      "Models with CESM2's first (common) grid: ['CESM2' 'CESM2-WACCM' 'NorESM2-MM' 'TaiESM1']\n",
      "Models with CESM2's second grid: ['CESM2' 'CESM2-WACCM']\n"
     ]
    }
   ],
   "source": [
    "cesm2_gr1, cesm2_gr2 = cesm2_grids.index\n",
    "print(\"Models with CESM2's first (common) grid:\", np.unique(results_df.query(\"grid == @cesm2_gr1\").model))\n",
    "print(\"Models with CESM2's second grid:\", np.unique(results_df.query(\"grid == @cesm2_gr2\").model))"
   ]
  },
  {
   "cell_type": "markdown",
   "id": "47acc321-04e8-455c-a378-835af35bc087",
   "metadata": {},
   "source": [
    "This tells us that this more common version of the CESM2 grid is used in the other derivative models, so we can regrid to the more common of the CESM2 grids. Choose a monthly file for reference for all regridding:"
   ]
  },
  {
   "cell_type": "code",
   "execution_count": 137,
   "id": "5fa8d6fd-4284-4f76-90b5-78c6bed91040",
   "metadata": {},
   "outputs": [
    {
     "name": "stdout",
     "output_type": "stream",
     "text": [
      "Use this file for regridding: /beegfs/CMIP6/arctic-cmip6/CMIP6/ScenarioMIP/NCAR/CESM2/ssp370/r11i1p1f1/Amon/tas/gn/v20200528/tas_Amon_CESM2_ssp370_r11i1p1f1_gn_206501-210012.nc\n"
     ]
    }
   ],
   "source": [
    "use_row = results_df.query(\"grid == @cesm2_gr1 & model == 'CESM2' & frequency == 'Amon' & varname == 'tas'\").iloc[0]\n",
    "print(\"Use this file for regridding:\", use_row[\"fp\"])"
   ]
  },
  {
   "cell_type": "markdown",
   "id": "6b7fd7f6-bd03-4726-b90c-0f6a2027f9aa",
   "metadata": {},
   "source": [
    "There we have it, we can use `/beegfs/CMIP6/arctic-cmip6/CMIP6/ScenarioMIP/NCAR/CESM2/ssp370/r11i1p1f1/Amon/tas/gn/v20200528/tas_Amon_CESM2_ssp370_r11i1p1f1_gn_206501-210012.nc` for regridding all other files. "
   ]
  }
 ],
 "metadata": {
  "kernelspec": {
   "display_name": "Python 3 (ipykernel)",
   "language": "python",
   "name": "python3"
  },
  "language_info": {
   "codemirror_mode": {
    "name": "ipython",
    "version": 3
   },
   "file_extension": ".py",
   "mimetype": "text/x-python",
   "name": "python",
   "nbconvert_exporter": "python",
   "pygments_lexer": "ipython3",
   "version": "3.9.13"
  }
 },
 "nbformat": 4,
 "nbformat_minor": 5
}
