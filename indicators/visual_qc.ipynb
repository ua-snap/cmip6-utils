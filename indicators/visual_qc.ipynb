{
 "cells": [
  {
   "cell_type": "markdown",
   "metadata": {},
   "source": [
    "# Visual QC notebook\n",
    "\n",
    "This notebook is designed to create outputs used in a visual QC check of computed indicators. Output files are counted, and 20% of the files are randomly selected for QC.\n",
    "\n",
    "#### How to use with `prefect` via `papermill`: \n",
    "\n",
    "This notebook should be run as the final step of the `prefect` indicator flow. The output will be saved as a new notebook in the QC directory created during the flow. To accomplish this, create a task in the `prefect` flow that will execute this notebook from the command line using `papermill`, e.g.:\n",
    "\n",
    "```papermill path/to/repo/indicators/visual_qc.ipynb path/to/qc/output/output.ipynb -r indicators \"rx1day\" -r models \"GFDL-ESM4 CESM2 TaiESM1\" -r \"historical ssp126 ssp245 ssp370 ssp585\"```\n",
    "\n",
    "\n",
    " The first argument is this notebook's location, which can be constructed using the `{working_directory}` parameter of the flow run (ie, the notebook's location within the downloaded repo directory). The second argument is the desired notebook output location, which can also be constructed using the `{working_directory}` parameter of the flow run. The remaining arguments for indicators, models, and scenarios should be taken directly from the flow run's `{indicators}`, `{models}`, and `{scenarios}` parameters. Note that each parameter is preceded by the `-r` tag to designate a raw string, and the multiple items are enclosed in quotes and separated by a single white space.\n",
    "\n",
    "\n",
    "\n",
    "\n"
   ]
  },
  {
   "cell_type": "code",
   "execution_count": 1,
   "metadata": {
    "tags": [
     "parameters"
    ]
   },
   "outputs": [],
   "source": [
    "# this cell is tagged \"parameters\" and contains default parameter values for this notebook\n",
    "# parameters injected by papermill from the command line will be written into a new cell directly beneath this one, and will override the values in this cell\n",
    "# like on the command line, use a raw string surrounded by quotes with values separated by a single blank space\n",
    "\n",
    "#dirs\n",
    "working_directory = \"/import/beegfs/CMIP6/snapdata/\"\n",
    "input_dir = \"/import/beegfs/CMIP6/arctic-cmip6/regrid/\"\n",
    "\n",
    "#lists\n",
    "indicators = \"rx1day\"\n",
    "models = \"GFDL-ESM4 CESM2 TaiESM1\"\n",
    "scenarios = \"historical ssp126 ssp245 ssp370 ssp585\"\n"
   ]
  },
  {
   "cell_type": "markdown",
   "metadata": {},
   "source": [
    "Import packages."
   ]
  },
  {
   "cell_type": "code",
   "execution_count": 69,
   "metadata": {},
   "outputs": [],
   "source": [
    "from pathlib import Path\n",
    "import random\n",
    "import xarray as xr\n",
    "\n",
    "from indicators import *\n",
    "from luts import idx_varid_lu, varid_freqs"
   ]
  },
  {
   "cell_type": "markdown",
   "metadata": {},
   "source": [
    "#### Setup\n",
    "Define data sources and parameters for QC."
   ]
  },
  {
   "cell_type": "code",
   "execution_count": 4,
   "metadata": {},
   "outputs": [],
   "source": [
    "#convert dirs to Path objects\n",
    "input_dir = Path(input_dir)\n",
    "output_dir = Path(working_directory).joinpath(\"output/\")\n",
    "\n",
    "#split raw strings and convert to lists\n",
    "#TODO delete if not used!\n",
    "indicators, models, scenarios = indicators.split(\" \"), models.split(\" \"), scenarios.split(\" \")\n",
    "\n",
    "#list all netCDF files in the output directory\n",
    "output_files = [f for f in output_dir.glob(\"**/*.nc\")]\n",
    "\n",
    "#randomly pick 20% of the output files for visual QC\n",
    "qc_files = random.sample(output_files, round(len(output_files) * .2))\n",
    "\n",
    "#lat/lon slices... will generally capture mid-Russia, Alaska, Greenland\n",
    "latlon_slices = [(slice(55, 70), slice(50, 100)),\n",
    "                 (slice(55, 70), slice(200, 250)),\n",
    "                 (slice(55, 70), slice(300, 350)),\n",
    "                 ]"
   ]
  },
  {
   "cell_type": "markdown",
   "metadata": {},
   "source": [
    "Create a function that will deconstruct the file path of a computed indicator, and use its parts to locate the source files used to compute that indicator. The indicator is recomputed, all years are merged, and output is an `xarray.Dataset` that should be an exact match of the original indicator file. **Note that this will grab all regridded source files for each variable!**"
   ]
  },
  {
   "cell_type": "code",
   "execution_count": 83,
   "metadata": {},
   "outputs": [],
   "source": [
    "def find_inputs_and_recompute_indicator(fp, input_dir):\n",
    "    source_files={}\n",
    "    indicator, model, scenario = fp.parts[-1].split(\"_\")[0], fp.parts[-1].split(\"_\")[1], fp.parts[-1].split(\"_\")[2]\n",
    "    vars = idx_varid_lu[indicator]\n",
    "    for var in vars:\n",
    "        frequency = varid_freqs[var][0]\n",
    "        source_files[var]=[f for f in input_dir.joinpath(model, scenario, frequency, var).glob(\"**/*.nc\")]\n",
    "        \n",
    "    coord_labels = dict(scenario=scenario,model=model)\n",
    "    ds = xr.merge(run_compute_indicators(source_files, [indicator], coord_labels))\n",
    "\n",
    "    return ds"
   ]
  },
  {
   "cell_type": "markdown",
   "metadata": {},
   "source": [
    "Create a function to test if two `xarray.Dataset`s are equal, and return a message."
   ]
  },
  {
   "cell_type": "code",
   "execution_count": 88,
   "metadata": {},
   "outputs": [],
   "source": [
    "def are_they_equal(fp, ds1, ds2):\n",
    "    if ds1.equals(ds2):\n",
    "        print(f\"PASS: Recomputed indicator data from {fp} is identical to original.\")\n",
    "        return True\n",
    "    else:\n",
    "        print(f\"FAIL: Recomputed indicator data from {fp} does not match to original.\")\n",
    "        return False"
   ]
  },
  {
   "cell_type": "markdown",
   "metadata": {},
   "source": [
    "Create a function that will slice the recomputed indicator dataset by lat/lon, and plot a random year. "
   ]
  },
  {
   "cell_type": "code",
   "execution_count": null,
   "metadata": {},
   "outputs": [],
   "source": [
    "def slice_and_plot(ds1, ds2):\n",
    "    for slice in latlon_slices:\n",
    "        \n",
    "\n",
    "    return None"
   ]
  },
  {
   "cell_type": "code",
   "execution_count": 76,
   "metadata": {},
   "outputs": [],
   "source": [
    "recomputed = {}\n",
    "for f in qc_files:\n",
    "    recomputed_ds = find_inputs_and_recompute_indicator(f, input_dir)\n",
    "    original_ds = xr.open_dataset(f)\n",
    "    if are_they_equal(f, original_ds, recomputed_ds):\n",
    "        slice_and_plot(original_ds, recomputed_ds)\n",
    "    "
   ]
  },
  {
   "cell_type": "code",
   "execution_count": null,
   "metadata": {},
   "outputs": [],
   "source": []
  },
  {
   "cell_type": "code",
   "execution_count": 89,
   "metadata": {},
   "outputs": [
    {
     "name": "stdout",
     "output_type": "stream",
     "text": [
      "PASS: Recomputed indicator data from /import/beegfs/CMIP6/snapdata/output/CNRM-CM6-1-HR/ssp585/ftc/ftc_CNRM-CM6-1-HR_ssp585_indicator.nc is identical to original.\n",
      "yay\n"
     ]
    }
   ],
   "source": [
    "recomputed_ds = find_inputs_and_recompute_indicator(qc_files[0], input_dir)\n",
    "if are_they_equal(qc_files[0], xr.open_dataset(qc_files[0]), recomputed_ds):\n",
    "    print(\"yay\")\n"
   ]
  },
  {
   "cell_type": "code",
   "execution_count": null,
   "metadata": {},
   "outputs": [],
   "source": []
  },
  {
   "cell_type": "code",
   "execution_count": 32,
   "metadata": {},
   "outputs": [
    {
     "data": {
      "image/png": "[encoded data removed]",
      "text/plain": [
       "<Figure size 432x288 with 2 Axes>"
      ]
     },
     "metadata": {
      "needs_background": "light"
     },
     "output_type": "display_data"
    }
   ],
   "source": [
    "ds = xr.open_dataset(qc_files[0])\n",
    "da = ds.ftc.sel(year=2015, model='CNRM-CM6-1-HR', scenario='ssp585').plot(vmin=0)\n"
   ]
  },
  {
   "cell_type": "code",
   "execution_count": 44,
   "metadata": {},
   "outputs": [
    {
     "data": {
      "text/plain": [
       "Coordinates:\n",
       "    height    float64 2.0\n",
       "  * lat       (lat) float64 50.42 51.36 52.3 53.25 ... 87.17 88.12 89.06 90.0\n",
       "  * lon       (lon) float64 0.0 1.25 2.5 3.75 5.0 ... 355.0 356.2 357.5 358.8\n",
       "  * year      (year) int64 2015 2016 2017 2018 2019 ... 2096 2097 2098 2099 2100\n",
       "  * scenario  (scenario) object 'ssp585'\n",
       "  * model     (model) object 'CNRM-CM6-1-HR'"
      ]
     },
     "execution_count": 44,
     "metadata": {},
     "output_type": "execute_result"
    }
   ],
   "source": [
    "ds.coords"
   ]
  },
  {
   "cell_type": "code",
   "execution_count": 43,
   "metadata": {},
   "outputs": [
    {
     "data": {
      "text/plain": [
       "'ftc'"
      ]
     },
     "execution_count": 43,
     "metadata": {},
     "output_type": "execute_result"
    }
   ],
   "source": [
    "[i for i in ds.data_vars][0]"
   ]
  },
  {
   "cell_type": "code",
   "execution_count": 48,
   "metadata": {},
   "outputs": [
    {
     "data": {
      "text/plain": [
       "<function indicators.rx1day(pr)>"
      ]
     },
     "execution_count": 48,
     "metadata": {},
     "output_type": "execute_result"
    }
   ],
   "source": [
    "idx = \"rx1day\"\n",
    "globals()[indicator](var_da)"
   ]
  },
  {
   "cell_type": "code",
   "execution_count": null,
   "metadata": {},
   "outputs": [],
   "source": []
  }
 ],
 "metadata": {
  "kernelspec": {
   "display_name": "cmip6-utils2",
   "language": "python",
   "name": "python3"
  },
  "language_info": {
   "codemirror_mode": {
    "name": "ipython",
    "version": 3
   },
   "file_extension": ".py",
   "mimetype": "text/x-python",
   "name": "python",
   "nbconvert_exporter": "python",
   "pygments_lexer": "ipython3",
   "version": "3.9.13"
  }
 },
 "nbformat": 4,
 "nbformat_minor": 2
}
