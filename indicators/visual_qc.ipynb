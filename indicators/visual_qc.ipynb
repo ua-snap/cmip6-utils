{
 "cells": [
  {
   "cell_type": "markdown",
   "metadata": {},
   "source": [
    "## Visual QC notebook\n",
    "\n",
    "Execute this notebook from the command line using `papermill`. The first argument is the input notebook location, the second argument is the notebook output location, and the remaining arguments for indicators, models, and scenarios should be passed directly from the Prefect flow parameters. Note that each parameter is preceded by the `-r` tag to designate a raw string, and the multiple items are enclosed in quotes and separated by a single white space.\n",
    "\n",
    "\n",
    "```papermill path/to/repo/indicators/visual_qc.ipynb path/to/qc/output/output.ipynb -r indicators \"rx1day\" -r models \"GFDL-ESM4 CESM2 TaiESM1\" -r \"historical ssp126 ssp245 ssp370 ssp585\"```\n",
    "\n"
   ]
  },
  {
   "cell_type": "code",
   "execution_count": 8,
   "metadata": {
    "tags": [
     "parameters"
    ]
   },
   "outputs": [],
   "source": [
    "# this cell is tagged \"parameters\" and contains default values for this notebook\n",
    "# these values are read when executing the notebook using papermill\n",
    "# parameters injected from the command line that differ from these defaults will override the values in this cell\n",
    "# use a raw string with values separated by blank space; this matches the raw string parameter input from the command line\n",
    "\n",
    "indicators = \"rx1day\"\n",
    "models = \"GFDL-ESM4 CESM2 TaiESM1\"\n",
    "scenarios = \"historical ssp126 ssp245 ssp370 ssp585\"\n"
   ]
  },
  {
   "cell_type": "code",
   "execution_count": 9,
   "metadata": {},
   "outputs": [
    {
     "name": "stdout",
     "output_type": "stream",
     "text": [
      "['rx1day']\n",
      "['GFDL-ESM4', 'CESM2', 'TaiESM1']\n",
      "['historical', 'ssp126', 'ssp245', 'ssp370', 'ssp585']\n"
     ]
    }
   ],
   "source": [
    "indicators_, models_, scenarios_ = indicators.split(\" \"), models.split(\" \"), scenarios.split(\" \")\n",
    "\n",
    "print(indicators_)\n",
    "print(models_)\n",
    "print(scenarios_)"
   ]
  },
  {
   "cell_type": "code",
   "execution_count": null,
   "metadata": {},
   "outputs": [],
   "source": []
  }
 ],
 "metadata": {
  "kernelspec": {
   "display_name": "cmip6-utils2",
   "language": "python",
   "name": "python3"
  },
  "language_info": {
   "codemirror_mode": {
    "name": "ipython",
    "version": 3
   },
   "file_extension": ".py",
   "mimetype": "text/x-python",
   "name": "python",
   "nbconvert_exporter": "python",
   "pygments_lexer": "ipython3",
   "version": "3.9.13"
  }
 },
 "nbformat": 4,
 "nbformat_minor": 2
}
