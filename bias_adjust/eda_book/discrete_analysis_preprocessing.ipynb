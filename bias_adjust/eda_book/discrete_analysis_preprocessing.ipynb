{
 "cells": [
  {
   "cell_type": "markdown",
   "id": "75e79d8f",
   "metadata": {},
   "source": [
    "# Discrete analysis: preprocessing\n",
    "\n",
    "This notebook is for the longer running compute tasks for the discrete analysis, the results of which are evaluated in the related notebooks."
   ]
  },
  {
   "cell_type": "code",
   "execution_count": null,
   "id": "aa7e2728",
   "metadata": {},
   "outputs": [],
   "source": [
    "# config cell\n",
    "from pathlib import Path\n",
    "from dask.distributed import Client\n",
    "\n",
    "# for reloading the baeda module which is actively developing\n",
    "import baeda\n",
    "import importlib\n",
    "\n",
    "importlib.reload(baeda)\n",
    "from baeda import projected_coords, tmp_era5_discrete_idx_fp\n",
    "\n",
    "var_ids = [\"tasmax\", \"pr\"]\n",
    "coords = projected_coords\n",
    "\n",
    "tmp_dir = Path(\"/center1/CMIP6/kmredilla/downscaling/eda\")\n",
    "era5_dir = Path(\"/center1/CMIP6/kmredilla/cmip6_4km_downscaling/era5_zarr\")"
   ]
  },
  {
   "cell_type": "markdown",
   "id": "33d95d7c",
   "metadata": {},
   "source": [
    "Compute the indicators for the ERA5 data"
   ]
  },
  {
   "cell_type": "code",
   "execution_count": null,
   "id": "ccd76927",
   "metadata": {},
   "outputs": [],
   "source": [
    "# First, compute the indicators for ERA5 data for packaging with GCM results:\n",
    "\n",
    "# load ERA5\n",
    "\n",
    "client = Client()\n",
    "\n",
    "# we are loading both precip and temp to choose some locations based on extremes in these variables\n",
    "era5_stores = {\n",
    "    \"t2max\": era5_dir.joinpath(\"t2max_era5.zarr\"),\n",
    "    \"pr\": era5_dir.joinpath(\"pr_era5.zarr\"),\n",
    "}\n",
    "\n",
    "era5_ds = baeda.open_era5_dataset(era5_stores)\n",
    "\n",
    "era5_extr = baeda.extract_era5_time_series(era5_ds, coords).load()"
   ]
  },
  {
   "cell_type": "code",
   "execution_count": null,
   "id": "e332a7b1",
   "metadata": {},
   "outputs": [],
   "source": [
    "# compute the indicators for the ERA5 data\n",
    "for var_id in var_ids:\n",
    "    era5_indicators = baeda.run_indicators(\n",
    "        era5_extr[var_id].assign_coords(Method=\"ERA5\").expand_dims([\"Method\"]),\n",
    "        era5_extr[var_id],\n",
    "    )\n",
    "    era5_indicators.to_zarr(\n",
    "        tmp_dir.joinpath(tmp_era5_discrete_idx_fp.format(var_id=var_id))\n",
    "    )"
   ]
  }
 ],
 "metadata": {
  "kernelspec": {
   "display_name": "Python 3 (ipykernel)",
   "language": "python",
   "name": "python3"
  },
  "language_info": {
   "codemirror_mode": {
    "name": "ipython",
    "version": 3
   },
   "file_extension": ".py",
   "mimetype": "text/x-python",
   "name": "python",
   "nbconvert_exporter": "python",
   "pygments_lexer": "ipython3",
   "version": "3.12.9"
  }
 },
 "nbformat": 4,
 "nbformat_minor": 5
}
