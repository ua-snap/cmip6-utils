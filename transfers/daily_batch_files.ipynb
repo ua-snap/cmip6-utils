{
 "cells": [
  {
   "cell_type": "markdown",
   "id": "8e072f06-8aa6-4654-9e46-19347f5d8911",
   "metadata": {},
   "source": [
    "# Create CMIP6 daily batch files\n",
    "\n",
    "This notebook is used to derive the `batch_files/daily_*.txt` files that contain the endpoints and files to transfer to the Arctic Climate Data Node."
   ]
  },
  {
   "cell_type": "code",
   "execution_count": 1,
   "id": "a1794241-a662-4222-8441-a0d7e41b066d",
   "metadata": {},
   "outputs": [],
   "source": [
    "import pandas as pd\n",
    "import luts\n",
    "from config import *"
   ]
  },
  {
   "cell_type": "code",
   "execution_count": 2,
   "id": "3e2db0ed-d4ab-4064-9bc5-b7a7258c4674",
   "metadata": {},
   "outputs": [],
   "source": [
    "df = pd.read_csv(\"llnl_esgf_day_filenames.csv\", converters={\"filenames\": lambda x: x.strip(\"[]\").split(\", \")})\n",
    "# ignore rows where data not on LLNL node for now\n",
    "df = df.query(\"~n_files.isnull()\")"
   ]
  },
  {
   "cell_type": "code",
   "execution_count": 3,
   "id": "0c11e413-e487-41a1-98a3-60768c303622",
   "metadata": {},
   "outputs": [],
   "source": [
    "def generate_transfer_paths(row):\n",
    "    \"\"\"Generate the paths for transferring between LLNL ESGF node and ACDN\n",
    "    \n",
    "    Args:\n",
    "        row (pandas.core.series.Series): a single row series from pandas.DataFrame.iterrows() on dataframe of desired data filenames\n",
    "    \n",
    "    Returns:\n",
    "        transfer_list (list): has format [(<remote path>, <target path>), ...] for all files in row[\"filenames\"]\n",
    "    \"\"\"\n",
    "    activity = \"CMIP\" if row[\"scenario\"] == \"historical\" else \"ScenarioMIP\"\n",
    "    model = row[\"model\"]\n",
    "    institution = luts.model_inst_lu[model][\"institution\"]\n",
    "    group_path = Path().joinpath(\n",
    "        activity,\n",
    "        institution,\n",
    "        model,\n",
    "        row[\"scenario\"],\n",
    "        row[\"variant\"],\n",
    "        \"day\",\n",
    "        row[\"variable\"],\n",
    "        row[\"grid_type\"],\n",
    "        row[\"version\"],\n",
    "    )\n",
    "    \n",
    "    transfer_list = []\n",
    "    for fn in row[\"filenames\"]:\n",
    "        fp = group_path.joinpath(fn.replace(\"'\", \"\"))\n",
    "        transfer_list.append((llnl_prefix.joinpath(fp), acdn_prefix.joinpath(fp)))\n",
    "        \n",
    "    return transfer_list"
   ]
  },
  {
   "cell_type": "code",
   "execution_count": 4,
   "id": "b1d44ecf-53cb-4e91-baba-b57206993ee4",
   "metadata": {},
   "outputs": [],
   "source": [
    "# ESGF directory structure convention is /<activity>/<institution>/<model>/<scenario>/<variant>/<frequency>/<variable>/<grid type>/<version>/\n",
    "# iterate over rows and write to batch file with remote path and local path. Should actually be nearly identical.\n",
    "transfer_paths = []\n",
    "# set up a query string to get a subset of the data, because I'm not sure it's a great idea to make a single batch file for all daily data \n",
    "query_str = \"variable == 'tas' & scenario == 'historical' & model == 'ACCESS-CM2'\"\n",
    "for row in df.query(query_str).iterrows():\n",
    "    transfer_paths.extend(generate_transfer_paths(row[1]))"
   ]
  },
  {
   "cell_type": "code",
   "execution_count": 7,
   "id": "3f91af1a-5931-4c34-86a3-caddc6903abf",
   "metadata": {},
   "outputs": [],
   "source": [
    "# build a text file for use with the globus transfer --batch option. This will have lines of the format \"<remote> <local>\"\n",
    "batch_file = \"batch_llnl_day_tas_historical_test.txt\"\n",
    "with open(batch_file, \"w\") as f:\n",
    "    for paths in transfer_paths:\n",
    "        f.write(f\"{paths[0]} {paths[1]}\\n\")"
   ]
  },
  {
   "cell_type": "code",
   "execution_count": 6,
   "id": "31a088f5-a6eb-4fab-812e-c5d789a808fc",
   "metadata": {},
   "outputs": [
    {
     "data": {
      "text/plain": [
       "\u001b[0;34m/\u001b[0m\u001b[0mcss03_data\u001b[0m\u001b[0;34m/\u001b[0m\u001b[0mCMIP6\u001b[0m\u001b[0;34m/\u001b[0m\u001b[0mCMIP\u001b[0m\u001b[0;34m/\u001b[0m\u001b[0mCSIRO\u001b[0m\u001b[0;34m-\u001b[0m\u001b[0mARCCSS\u001b[0m\u001b[0;34m/\u001b[0m\u001b[0mACCESS\u001b[0m\u001b[0;34m-\u001b[0m\u001b[0mCM2\u001b[0m\u001b[0;34m/\u001b[0m\u001b[0mhistorical\u001b[0m\u001b[0;34m/\u001b[0m\u001b[0mr1i1p1f1\u001b[0m\u001b[0;34m/\u001b[0m\u001b[0mday\u001b[0m\u001b[0;34m/\u001b[0m\u001b[0mtas\u001b[0m\u001b[0;34m/\u001b[0m\u001b[0mgn\u001b[0m\u001b[0;34m/\u001b[0m\u001b[0mv20191108\u001b[0m\u001b[0;34m/\u001b[0m\u001b[0mtas_day_ACCESS\u001b[0m\u001b[0;34m-\u001b[0m\u001b[0mCM2_historical_r1i1p1f1_gn_18500101\u001b[0m\u001b[0;34m-\u001b[0m\u001b[0;36m18991231.\u001b[0m\u001b[0mnc\u001b[0m \u001b[0;34m/\u001b[0m\u001b[0mCMIP6\u001b[0m\u001b[0;34m/\u001b[0m\u001b[0mCMIP\u001b[0m\u001b[0;34m/\u001b[0m\u001b[0mCSIRO\u001b[0m\u001b[0;34m-\u001b[0m\u001b[0mARCCSS\u001b[0m\u001b[0;34m/\u001b[0m\u001b[0mACCESS\u001b[0m\u001b[0;34m-\u001b[0m\u001b[0mCM2\u001b[0m\u001b[0;34m/\u001b[0m\u001b[0mhistorical\u001b[0m\u001b[0;34m/\u001b[0m\u001b[0mr1i1p1f1\u001b[0m\u001b[0;34m/\u001b[0m\u001b[0mday\u001b[0m\u001b[0;34m/\u001b[0m\u001b[0mtas\u001b[0m\u001b[0;34m/\u001b[0m\u001b[0mgn\u001b[0m\u001b[0;34m/\u001b[0m\u001b[0mv20191108\u001b[0m\u001b[0;34m/\u001b[0m\u001b[0mtas_day_ACCESS\u001b[0m\u001b[0;34m-\u001b[0m\u001b[0mCM2_historical_r1i1p1f1_gn_18500101\u001b[0m\u001b[0;34m-\u001b[0m\u001b[0;36m18991231.\u001b[0m\u001b[0mnc\u001b[0m\u001b[0;34m\u001b[0m\n",
       "\u001b[0;34m\u001b[0m\u001b[0;34m/\u001b[0m\u001b[0mcss03_data\u001b[0m\u001b[0;34m/\u001b[0m\u001b[0mCMIP6\u001b[0m\u001b[0;34m/\u001b[0m\u001b[0mCMIP\u001b[0m\u001b[0;34m/\u001b[0m\u001b[0mCSIRO\u001b[0m\u001b[0;34m-\u001b[0m\u001b[0mARCCSS\u001b[0m\u001b[0;34m/\u001b[0m\u001b[0mACCESS\u001b[0m\u001b[0;34m-\u001b[0m\u001b[0mCM2\u001b[0m\u001b[0;34m/\u001b[0m\u001b[0mhistorical\u001b[0m\u001b[0;34m/\u001b[0m\u001b[0mr1i1p1f1\u001b[0m\u001b[0;34m/\u001b[0m\u001b[0mday\u001b[0m\u001b[0;34m/\u001b[0m\u001b[0mtas\u001b[0m\u001b[0;34m/\u001b[0m\u001b[0mgn\u001b[0m\u001b[0;34m/\u001b[0m\u001b[0mv20191108\u001b[0m\u001b[0;34m/\u001b[0m\u001b[0mtas_day_ACCESS\u001b[0m\u001b[0;34m-\u001b[0m\u001b[0mCM2_historical_r1i1p1f1_gn_19000101\u001b[0m\u001b[0;34m-\u001b[0m\u001b[0;36m19491231.\u001b[0m\u001b[0mnc\u001b[0m \u001b[0;34m/\u001b[0m\u001b[0mCMIP6\u001b[0m\u001b[0;34m/\u001b[0m\u001b[0mCMIP\u001b[0m\u001b[0;34m/\u001b[0m\u001b[0mCSIRO\u001b[0m\u001b[0;34m-\u001b[0m\u001b[0mARCCSS\u001b[0m\u001b[0;34m/\u001b[0m\u001b[0mACCESS\u001b[0m\u001b[0;34m-\u001b[0m\u001b[0mCM2\u001b[0m\u001b[0;34m/\u001b[0m\u001b[0mhistorical\u001b[0m\u001b[0;34m/\u001b[0m\u001b[0mr1i1p1f1\u001b[0m\u001b[0;34m/\u001b[0m\u001b[0mday\u001b[0m\u001b[0;34m/\u001b[0m\u001b[0mtas\u001b[0m\u001b[0;34m/\u001b[0m\u001b[0mgn\u001b[0m\u001b[0;34m/\u001b[0m\u001b[0mv20191108\u001b[0m\u001b[0;34m/\u001b[0m\u001b[0mtas_day_ACCESS\u001b[0m\u001b[0;34m-\u001b[0m\u001b[0mCM2_historical_r1i1p1f1_gn_19000101\u001b[0m\u001b[0;34m-\u001b[0m\u001b[0;36m19491231.\u001b[0m\u001b[0mnc\u001b[0m\u001b[0;34m\u001b[0m\n",
       "\u001b[0;34m\u001b[0m\u001b[0;34m/\u001b[0m\u001b[0mcss03_data\u001b[0m\u001b[0;34m/\u001b[0m\u001b[0mCMIP6\u001b[0m\u001b[0;34m/\u001b[0m\u001b[0mCMIP\u001b[0m\u001b[0;34m/\u001b[0m\u001b[0mCSIRO\u001b[0m\u001b[0;34m-\u001b[0m\u001b[0mARCCSS\u001b[0m\u001b[0;34m/\u001b[0m\u001b[0mACCESS\u001b[0m\u001b[0;34m-\u001b[0m\u001b[0mCM2\u001b[0m\u001b[0;34m/\u001b[0m\u001b[0mhistorical\u001b[0m\u001b[0;34m/\u001b[0m\u001b[0mr1i1p1f1\u001b[0m\u001b[0;34m/\u001b[0m\u001b[0mday\u001b[0m\u001b[0;34m/\u001b[0m\u001b[0mtas\u001b[0m\u001b[0;34m/\u001b[0m\u001b[0mgn\u001b[0m\u001b[0;34m/\u001b[0m\u001b[0mv20191108\u001b[0m\u001b[0;34m/\u001b[0m\u001b[0mtas_day_ACCESS\u001b[0m\u001b[0;34m-\u001b[0m\u001b[0mCM2_historical_r1i1p1f1_gn_19500101\u001b[0m\u001b[0;34m-\u001b[0m\u001b[0;36m19991231.\u001b[0m\u001b[0mnc\u001b[0m \u001b[0;34m/\u001b[0m\u001b[0mCMIP6\u001b[0m\u001b[0;34m/\u001b[0m\u001b[0mCMIP\u001b[0m\u001b[0;34m/\u001b[0m\u001b[0mCSIRO\u001b[0m\u001b[0;34m-\u001b[0m\u001b[0mARCCSS\u001b[0m\u001b[0;34m/\u001b[0m\u001b[0mACCESS\u001b[0m\u001b[0;34m-\u001b[0m\u001b[0mCM2\u001b[0m\u001b[0;34m/\u001b[0m\u001b[0mhistorical\u001b[0m\u001b[0;34m/\u001b[0m\u001b[0mr1i1p1f1\u001b[0m\u001b[0;34m/\u001b[0m\u001b[0mday\u001b[0m\u001b[0;34m/\u001b[0m\u001b[0mtas\u001b[0m\u001b[0;34m/\u001b[0m\u001b[0mgn\u001b[0m\u001b[0;34m/\u001b[0m\u001b[0mv20191108\u001b[0m\u001b[0;34m/\u001b[0m\u001b[0mtas_day_ACCESS\u001b[0m\u001b[0;34m-\u001b[0m\u001b[0mCM2_historical_r1i1p1f1_gn_19500101\u001b[0m\u001b[0;34m-\u001b[0m\u001b[0;36m19991231.\u001b[0m\u001b[0mnc\u001b[0m\u001b[0;34m\u001b[0m\n",
       "\u001b[0;34m\u001b[0m\u001b[0;34m/\u001b[0m\u001b[0mcss03_data\u001b[0m\u001b[0;34m/\u001b[0m\u001b[0mCMIP6\u001b[0m\u001b[0;34m/\u001b[0m\u001b[0mCMIP\u001b[0m\u001b[0;34m/\u001b[0m\u001b[0mCSIRO\u001b[0m\u001b[0;34m-\u001b[0m\u001b[0mARCCSS\u001b[0m\u001b[0;34m/\u001b[0m\u001b[0mACCESS\u001b[0m\u001b[0;34m-\u001b[0m\u001b[0mCM2\u001b[0m\u001b[0;34m/\u001b[0m\u001b[0mhistorical\u001b[0m\u001b[0;34m/\u001b[0m\u001b[0mr1i1p1f1\u001b[0m\u001b[0;34m/\u001b[0m\u001b[0mday\u001b[0m\u001b[0;34m/\u001b[0m\u001b[0mtas\u001b[0m\u001b[0;34m/\u001b[0m\u001b[0mgn\u001b[0m\u001b[0;34m/\u001b[0m\u001b[0mv20191108\u001b[0m\u001b[0;34m/\u001b[0m\u001b[0mtas_day_ACCESS\u001b[0m\u001b[0;34m-\u001b[0m\u001b[0mCM2_historical_r1i1p1f1_gn_20000101\u001b[0m\u001b[0;34m-\u001b[0m\u001b[0;36m20141231.\u001b[0m\u001b[0mnc\u001b[0m \u001b[0;34m/\u001b[0m\u001b[0mCMIP6\u001b[0m\u001b[0;34m/\u001b[0m\u001b[0mCMIP\u001b[0m\u001b[0;34m/\u001b[0m\u001b[0mCSIRO\u001b[0m\u001b[0;34m-\u001b[0m\u001b[0mARCCSS\u001b[0m\u001b[0;34m/\u001b[0m\u001b[0mACCESS\u001b[0m\u001b[0;34m-\u001b[0m\u001b[0mCM2\u001b[0m\u001b[0;34m/\u001b[0m\u001b[0mhistorical\u001b[0m\u001b[0;34m/\u001b[0m\u001b[0mr1i1p1f1\u001b[0m\u001b[0;34m/\u001b[0m\u001b[0mday\u001b[0m\u001b[0;34m/\u001b[0m\u001b[0mtas\u001b[0m\u001b[0;34m/\u001b[0m\u001b[0mgn\u001b[0m\u001b[0;34m/\u001b[0m\u001b[0mv20191108\u001b[0m\u001b[0;34m/\u001b[0m\u001b[0mtas_day_ACCESS\u001b[0m\u001b[0;34m-\u001b[0m\u001b[0mCM2_historical_r1i1p1f1_gn_20000101\u001b[0m\u001b[0;34m-\u001b[0m\u001b[0;36m20141231.\u001b[0m\u001b[0mnc\u001b[0m\u001b[0;34m\u001b[0m\u001b[0;34m\u001b[0m\u001b[0m\n"
      ]
     },
     "metadata": {},
     "output_type": "display_data"
    }
   ],
   "source": [
    "pycat batch_llnl_day_tas_historical.txt"
   ]
  },
  {
   "cell_type": "code",
   "execution_count": null,
   "id": "490f72f9-0b8f-4df0-bd66-b9886d7faca7",
   "metadata": {},
   "outputs": [],
   "source": [
    "!globus transfer 415a6320-e49c-11e5-9798-22000b9da45e 7235217a-be50-46ba-be31-70bffe2b5bf4 --label \"BAtch day test historical tas\" --batch batch_llnl_day_tas_historical_test.txt"
   ]
  },
  {
   "cell_type": "code",
   "execution_count": null,
   "id": "22833093-038b-4d15-a33a-2f213147b7ab",
   "metadata": {},
   "outputs": [],
   "source": []
  },
  {
   "cell_type": "code",
   "execution_count": null,
   "id": "46a13dee-c250-4dc1-b648-eb9dc2d542c1",
   "metadata": {},
   "outputs": [],
   "source": []
  }
 ],
 "metadata": {
  "kernelspec": {
   "display_name": "Python 3 (ipykernel)",
   "language": "python",
   "name": "python3"
  },
  "language_info": {
   "codemirror_mode": {
    "name": "ipython",
    "version": 3
   },
   "file_extension": ".py",
   "mimetype": "text/x-python",
   "name": "python",
   "nbconvert_exporter": "python",
   "pygments_lexer": "ipython3",
   "version": "3.9.13"
  }
 },
 "nbformat": 4,
 "nbformat_minor": 5
}
