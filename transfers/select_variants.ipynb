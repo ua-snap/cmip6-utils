{
 "cells": [
  {
   "cell_type": "markdown",
   "id": "261dbecb-7b6a-4923-9503-648f6e3d2ba4",
   "metadata": {},
   "source": [
    "# Explore LLNL ESGF holdings\n",
    "\n",
    "Use this notebook to explore the LLNL ESGF holdings and determine if we should use a variant besides r1i1p1f1 for any of the models. The bottom of the notebook includes the justification for each model."
   ]
  },
  {
   "cell_type": "code",
   "execution_count": 1,
   "id": "c55b7541-6976-4ac4-a8b0-dc78aac623af",
   "metadata": {},
   "outputs": [],
   "source": [
    "import numpy as np\n",
    "import pandas as pd"
   ]
  },
  {
   "cell_type": "markdown",
   "id": "0e3f8509-513b-4935-bbfd-3e0ca9aa09cf",
   "metadata": {},
   "source": [
    "Read a CSV containing info on holdings for an ESGF node (LLNL only for now):"
   ]
  },
  {
   "cell_type": "code",
   "execution_count": 2,
   "id": "4ca79f24-8fae-4cbf-a260-c99e25b2e20c",
   "metadata": {},
   "outputs": [],
   "source": [
    "df = pd.read_csv(\"llnl_esgf_holdings.csv\")"
   ]
  },
  {
   "cell_type": "markdown",
   "id": "c081824c-b323-442d-baae-20481ff0205e",
   "metadata": {},
   "source": [
    "## Variants\n",
    "\n",
    "Here we will do some exploring to see what variants we will want to mirror on the ACDN. Since some variants could have greater representation of variables/ frequencies etc, we want to select one that has the most.\n",
    "\n",
    "So, do any variants have more data than the others for a given model and scenario?\n",
    "\n",
    "Determine the data availability for each model, scenario, and variant, in terms of number of variables x temporal frequencies. We will combine those two fields to get an idea of representation across both daily and monthly frequencies."
   ]
  },
  {
   "cell_type": "code",
   "execution_count": 3,
   "id": "42e281d2-1a89-4345-b844-ffeb755d8057",
   "metadata": {},
   "outputs": [],
   "source": [
    "# create a column that is just a concatenation of temporal frequency and variable name to simplify\n",
    "df[\"freq_var\"] = df[\"table_id\"] + \"_\" + df[\"variable\"]"
   ]
  },
  {
   "cell_type": "markdown",
   "id": "489c4ca8-e477-4759-a233-f6c311ecd45c",
   "metadata": {},
   "source": [
    "Next, group by model, scenario, and variant and tally the number of unique variable-table ID combinations:"
   ]
  },
  {
   "cell_type": "code",
   "execution_count": 4,
   "id": "7905c1b8-db06-4d42-9d08-6cbf9fd814f2",
   "metadata": {},
   "outputs": [],
   "source": [
    "rep_df = pd.DataFrame(\n",
    "    df[df[\"grid_type\"].notna()]\n",
    "    .groupby([\"model\", \"scenario\", \"variant\"])[\"freq_var\"]\n",
    "    .nunique()\n",
    ")"
   ]
  },
  {
   "cell_type": "markdown",
   "id": "5ea4fb12-05c4-49a5-bde5-c1320395450d",
   "metadata": {},
   "source": [
    "Then, for each model, look to see if there are any variants that have the maximum representation for all desired scenarios. In other words, check for a variant that has the most variable-table ID combinations for all target scenarios:"
   ]
  },
  {
   "cell_type": "code",
   "execution_count": 5,
   "id": "87dbfab0-5f5f-4552-b505-7bf6362dc93e",
   "metadata": {},
   "outputs": [
    {
     "name": "stdout",
     "output_type": "stream",
     "text": [
      "ACCESS-CM2 ['r4i1p1f1' 'r5i1p1f1'] max representation: 60 \n",
      "\n",
      "CESM2 [] max representation: 56 \n",
      "\n",
      "CNRM-CM6-1-HR [] max representation: 49 \n",
      "\n",
      "EC-Earth3-Veg [] max representation: 57 \n",
      "\n",
      "GFDL-ESM4 [] max representation: 49 \n",
      "\n",
      "HadGEM3-GC31-LL [] max representation: 56 \n",
      "\n",
      "HadGEM3-GC31-MM [] max representation: 53 \n",
      "\n",
      "KACE-1-0-G [] max representation: 48 \n",
      "\n",
      "MIROC6 [] max representation: 60 \n",
      "\n",
      "MRI-ESM2-0 ['r1i1p1f1' 'r2i1p1f1' 'r3i1p1f1' 'r4i1p1f1' 'r5i1p1f1'] max representation: 58 \n",
      "\n",
      "NorESM2-MM ['r1i1p1f1'] max representation: 55 \n",
      "\n",
      "TaiESM1 [] max representation: 48 \n",
      "\n",
      "CESM2-WACCM [] max representation: 52 \n",
      "\n",
      "MPI-ESM1-2-HR ['r1i1p1f1'] max representation: 58 \n",
      "\n",
      "MPI-ESM1-2-LR [] max representation: 63 \n",
      "\n",
      "E3SM-1-0 [] max representation: 18 \n",
      "\n",
      "E3SM-1-1 [] max representation: 17 \n",
      "\n",
      "E3SM-1-1-ECA [] max representation: 17 \n",
      "\n"
     ]
    }
   ],
   "source": [
    "models = df.model.unique()\n",
    "\n",
    "# unique sorted list of scenarios represented for each variant should be this if all desired scenarios are present\n",
    "target_scenarios = [\"historical\", \"ssp126\", \"ssp245\", \"ssp370\", \"ssp585\"]\n",
    "\n",
    "for model in models:\n",
    "    model_df = rep_df.loc[model]\n",
    "    max_rep = model_df.max()\n",
    "\n",
    "    # I guess first check if there is the ideal situation, which is max representation for all 5 scenarios\n",
    "    # iterate over variants to achieve this\n",
    "    # max rep variants DataFrame\n",
    "    mrv_df = model_df[model_df >= max_rep].dropna().reset_index()\n",
    "    # sort the unique scenarios represented by each variant and assign as a \"best\" variant if all target_scenarios are found\n",
    "    mrv_scenarios = mrv_df.groupby(\"variant\")[\"scenario\"].unique().apply(sorted)\n",
    "    best_variants = mrv_scenarios[mrv_scenarios.isin([target_scenarios])].index.values\n",
    "\n",
    "    print(model, best_variants, f\"max representation: {max_rep.values[0]}\", \"\\n\")"
   ]
  },
  {
   "cell_type": "markdown",
   "id": "54b650c2-aa23-4765-9f6b-f7009bfae21e",
   "metadata": {},
   "source": [
    "So it looks like there are only four models which have variants where the max representation (number of variable x table ID pairings) exists for all target scenarios. \n",
    "\n",
    "Instead, we should probably just make a table for each model that shows the number of variable-table ID combinations for each variant."
   ]
  },
  {
   "cell_type": "code",
   "execution_count": 6,
   "id": "081312bd-4eb8-4772-b81c-6076ba818925",
   "metadata": {},
   "outputs": [
    {
     "name": "stdout",
     "output_type": "stream",
     "text": [
      "ACCESS-CM2\n",
      "scenario   historical  ssp126  ssp245  ssp370  ssp585\n",
      "variant                                              \n",
      "r4i1p1f1           60      60      60      60      60\n",
      "r5i1p1f1           60      60      60      60      60\n",
      "r1i1p1f1           59      59      59      59      59\n",
      "r10i1p1f1          47      17      17      17      22\n",
      "r2i1p1f1           47      47      47      47      47\n",
      "r3i1p1f1           47      47      47      47      47\n",
      "r6i1p1f1           47      18      17      15      22\n",
      "r7i1p1f1           47      18      17      17      22\n",
      "r8i1p1f1           47      18      17      16      22\n",
      "r9i1p1f1           47      18      17       9      22 \n",
      "\n",
      "CESM2\n",
      "scenario   historical  ssp126  ssp245  ssp370  ssp585\n",
      "variant                                              \n",
      "r11i1p1f1        53.0    56.0    54.0    54.0    56.0\n",
      "r1i1p1f1         47.0    51.0    48.0    49.0    51.0\n",
      "r2i1p1f1         47.0    47.0    32.0    53.0    56.0\n",
      "r3i1p1f1         47.0     NaN    25.0    32.0     NaN\n",
      "r4i1p1f1         47.0    51.0    49.0    48.0    51.0\n",
      "r5i1p1f1         47.0     NaN     NaN    33.0     NaN\n",
      "r6i1p1f1         47.0     NaN     NaN    33.0     NaN\n",
      "r7i1p1f1         47.0     NaN     NaN     NaN     NaN\n",
      "r8i1p1f1         47.0     NaN     NaN     NaN     NaN\n",
      "r9i1p1f1         47.0     NaN     NaN     NaN     NaN\n",
      "r10i1p1f1        46.0    51.0    49.0    49.0    51.0 \n",
      "\n",
      "CNRM-CM6-1-HR\n",
      "scenario  historical  ssp126  ssp245  ssp370  ssp585\n",
      "variant                                             \n",
      "r1i1p1f2          28      49      45      45      49 \n",
      "\n",
      "EC-Earth3-Veg\n",
      "scenario   historical  ssp126  ssp245  ssp370  ssp585\n",
      "variant                                              \n",
      "r13i1p1f1        57.0     NaN     NaN     NaN    53.0\n",
      "r1i1p1f1         57.0    53.0    53.0    53.0    53.0\n",
      "r2i1p1f1         57.0    48.0    38.0    38.0    42.0\n",
      "r3i1p1f1         57.0    39.0    39.0    41.0    41.0\n",
      "r10i1p1f1        56.0     NaN     NaN     NaN    46.0\n",
      "r5i1p1f1         56.0     NaN    56.0     NaN     NaN\n",
      "r12i1p1f1        55.0    52.0    52.0    52.0    52.0\n",
      "r14i1p1f1        55.0    52.0    52.0    46.0    46.0\n",
      "r4i1p1f1         55.0    51.0    51.0    51.0    51.0\n",
      "r6i1p1f1         55.0    51.0    51.0     NaN    51.0\n",
      "r11i1p1f1        45.0     NaN     NaN     NaN     NaN \n",
      "\n",
      "GFDL-ESM4\n",
      "scenario  historical  ssp126  ssp245  ssp370  ssp585\n",
      "variant                                             \n",
      "r1i1p1f1        49.0    49.0    46.0    48.0    46.0\n",
      "r3i1p1f1        27.0     NaN    19.0     NaN     NaN\n",
      "r2i1p1f1        26.0     NaN    18.0     NaN     NaN \n",
      "\n",
      "HadGEM3-GC31-LL\n",
      "scenario   historical  ssp126  ssp245  ssp585\n",
      "variant                                      \n",
      "r2i1p1f3         56.0     NaN    55.0    40.0\n",
      "r5i1p1f3         56.0     NaN    54.0     NaN\n",
      "r3i1p1f3         56.0     NaN    55.0    40.0\n",
      "r4i1p1f3         56.0     NaN    55.0    35.0\n",
      "r1i1p1f3         56.0    52.0    54.0    51.0\n",
      "r21i1p1f3         7.0     NaN     7.0     NaN\n",
      "r27i1p1f3         7.0     NaN     7.0     NaN\n",
      "r25i1p1f3         7.0     NaN     7.0     NaN\n",
      "r24i1p1f3         7.0     NaN     5.0     NaN\n",
      "r23i1p1f3         7.0     NaN     7.0     NaN\n",
      "r22i1p1f3         7.0     NaN     6.0     NaN\n",
      "r28i1p1f3         7.0     NaN     7.0     NaN\n",
      "r12i1p1f3         7.0     NaN     7.0     NaN\n",
      "r19i1p1f3         7.0     NaN     7.0     NaN\n",
      "r18i1p1f3         7.0     NaN     7.0     NaN\n",
      "r17i1p1f3         7.0     NaN     7.0     NaN\n",
      "r16i1p1f3         7.0     NaN     7.0     NaN\n",
      "r15i1p1f3         7.0     NaN     7.0     NaN\n",
      "r14i1p1f3         7.0     NaN     6.0     NaN\n",
      "r13i1p1f3         7.0     NaN     7.0     NaN\n",
      "r20i1p1f3         7.0     NaN     7.0     NaN\n",
      "r11i1p1f3         6.0     NaN     7.0     NaN\n",
      "r26i1p1f3         6.0     NaN     6.0     NaN\n",
      "r58i1p1f3         5.0     NaN     7.0     NaN\n",
      "r57i1p1f3         5.0     NaN     7.0     NaN\n",
      "r56i1p1f3         5.0     NaN     7.0     NaN\n",
      "r55i1p1f3         5.0     NaN     7.0     NaN\n",
      "r54i1p1f3         5.0     NaN     7.0     NaN\n",
      "r59i1p1f3         5.0     NaN     7.0     NaN\n",
      "r53i1p1f3         5.0     NaN     6.0     NaN\n",
      "r52i1p1f3         5.0     NaN     7.0     NaN\n",
      "r51i1p1f3         5.0     NaN     7.0     NaN\n",
      "r45i1p1f3         5.0     NaN     7.0     NaN\n",
      "r50i1p1f3         5.0     NaN     7.0     NaN\n",
      "r47i1p1f3         5.0     NaN     7.0     NaN\n",
      "r46i1p1f3         5.0     NaN     7.0     NaN\n",
      "r36i1p1f3         5.0     NaN     6.0     NaN\n",
      "r44i1p1f3         5.0     NaN     7.0     NaN\n",
      "r38i1p1f3         5.0     NaN     7.0     NaN\n",
      "r29i1p1f3         5.0     NaN     6.0     NaN\n",
      "r31i1p1f3         5.0     NaN     6.0     NaN\n",
      "r33i1p1f3         5.0     NaN     7.0     NaN\n",
      "r34i1p1f3         5.0     NaN     7.0     NaN\n",
      "r35i1p1f3         5.0     NaN     7.0     NaN\n",
      "r43i1p1f3         5.0     NaN     6.0     NaN\n",
      "r37i1p1f3         5.0     NaN     7.0     NaN\n",
      "r39i1p1f3         5.0     NaN     7.0     NaN\n",
      "r40i1p1f3         5.0     NaN     7.0     NaN\n",
      "r41i1p1f3         5.0     NaN     7.0     NaN\n",
      "r42i1p1f3         5.0     NaN     7.0     NaN\n",
      "r60i1p1f3         5.0     NaN     7.0     NaN\n",
      "r49i1p1f3         4.0     NaN     7.0     NaN\n",
      "r32i1p1f3         4.0     NaN     7.0     NaN\n",
      "r48i1p1f3         4.0     NaN     7.0     NaN\n",
      "r30i1p1f3         4.0     NaN     7.0     NaN \n",
      "\n",
      "HadGEM3-GC31-MM\n",
      "scenario  historical  ssp126  ssp585\n",
      "variant                             \n",
      "r1i1p1f3        53.0    49.0    49.0\n",
      "r2i1p1f3        52.0     NaN    36.0\n",
      "r3i1p1f3        50.0     NaN    34.0\n",
      "r4i1p1f3        47.0     NaN    53.0 \n",
      "\n",
      "KACE-1-0-G\n",
      "scenario  historical  ssp126  ssp245  ssp370  ssp585\n",
      "variant                                             \n",
      "r1i1p1f1          44      45      48      46      47\n",
      "r3i1p1f1          44      43      37      34      46\n",
      "r2i1p1f1          41      34      37      37      41 \n",
      "\n",
      "MIROC6\n",
      "scenario   historical  ssp126  ssp245  ssp370  ssp585\n",
      "variant                                              \n",
      "r1i1p1f1           60      60      59      60      60\n",
      "r10i1p1f1          59      30      47      44      47\n",
      "r8i1p1f1           59      47      47      44      47\n",
      "r7i1p1f1           59      47      47      44      47\n",
      "r6i1p1f1           59      47      47      44      47\n",
      "r5i1p1f1           59      42      47      44      47\n",
      "r4i1p1f1           59      44      47      44      47\n",
      "r3i1p1f1           59      59      58      59      59\n",
      "r2i1p1f1           59      59      58      59      59\n",
      "r9i1p1f1           59      47      47      44      47\n",
      "r19i1p1f1          46      25      47      44      46\n",
      "r20i1p1f1          46      25      47      44      46\n",
      "r17i1p1f1          46      25      47      44      46\n",
      "r40i1p1f1          46      36      47      44      46\n",
      "r41i1p1f1          46      36      47      44      46\n",
      "r42i1p1f1          46      36      47      44      46\n",
      "r43i1p1f1          46      37      47      44      46\n",
      "r44i1p1f1          46      42      47      44      46\n",
      "r45i1p1f1          46      41      47      44      46\n",
      "r46i1p1f1          46      44      47      44      46\n",
      "r47i1p1f1          46      40      47      44      46\n",
      "r48i1p1f1          46      42      47      44      46\n",
      "r49i1p1f1          46      42      47      44      46\n",
      "r16i1p1f1          46      25      47      44      46\n",
      "r50i1p1f1          46      43      47      44      46\n",
      "r15i1p1f1          46      25      47      44      46\n",
      "r14i1p1f1          46      25      47      44      46\n",
      "r13i1p1f1          46      25      47      44      46\n",
      "r12i1p1f1          46      25      47      44      46\n",
      "r39i1p1f1          46      36      47      44      46\n",
      "r38i1p1f1          46      39      47      44      46\n",
      "r37i1p1f1          46      38      47      44      46\n",
      "r28i1p1f1          46      25      47      44      46\n",
      "r21i1p1f1          46      26      47      44      46\n",
      "r22i1p1f1          46      26      47      44      46\n",
      "r23i1p1f1          46      27      47      44      46\n",
      "r24i1p1f1          46      27      47      44      46\n",
      "r25i1p1f1          46      28      47      44      46\n",
      "r26i1p1f1          46      27      47      44      46\n",
      "r27i1p1f1          46      28      47      44      46\n",
      "r29i1p1f1          46      27      47      44      46\n",
      "r36i1p1f1          46      37      47      44      46\n",
      "r18i1p1f1          46      25      47      44      46\n",
      "r30i1p1f1          46      35      47      44      46\n",
      "r31i1p1f1          46      40      47      44      46\n",
      "r32i1p1f1          46      35      47      44      46\n",
      "r11i1p1f1          46      25      47      44      46\n",
      "r34i1p1f1          46      33      47      44      46\n",
      "r35i1p1f1          46      35      47      44      46\n",
      "r33i1p1f1          46      31      47      44      46 \n",
      "\n",
      "MRI-ESM2-0\n",
      "scenario     historical  ssp126  ssp245  ssp370  ssp585\n",
      "variant                                                \n",
      "r10i1p1f1          58.0     NaN     NaN     NaN     NaN\n",
      "r1i1p1f1           58.0    58.0    58.0    58.0    58.0\n",
      "r2i1p1f1           58.0    58.0    58.0    58.0    58.0\n",
      "r3i1p1f1           58.0    58.0    58.0    58.0    58.0\n",
      "r4i1p1f1           58.0    58.0    58.0    58.0    58.0\n",
      "r5i1p1f1           58.0    58.0    58.0    58.0    58.0\n",
      "r6i1p1f1           58.0     NaN     NaN     NaN     NaN\n",
      "r7i1p1f1           58.0     NaN     NaN     NaN     NaN\n",
      "r8i1p1f1           58.0     NaN     NaN     NaN     NaN\n",
      "r9i1p1f1           58.0     NaN     NaN     NaN     NaN\n",
      "r1i1000p1f1        53.0     NaN     NaN     NaN     NaN\n",
      "r1i2p1f1           33.0     NaN     NaN     NaN    54.0\n",
      "r1i3p1f1            NaN     NaN    41.0     NaN     NaN\n",
      "r2i3p1f1            NaN     NaN    41.0     NaN     NaN\n",
      "r3i3p1f1            NaN     NaN    41.0     NaN     NaN\n",
      "r4i3p1f1            NaN     NaN    41.0     NaN     NaN\n",
      "r5i3p1f1            NaN     NaN    41.0     NaN     NaN \n",
      "\n",
      "NorESM2-MM\n",
      "scenario  historical  ssp126  ssp245  ssp370  ssp585\n",
      "variant                                             \n",
      "r1i1p1f1        55.0    55.0    55.0    55.0    55.0\n",
      "r2i1p1f1        55.0     NaN    55.0     NaN     NaN\n",
      "r3i1p1f1        55.0     NaN     NaN     NaN     NaN \n",
      "\n",
      "TaiESM1\n",
      "scenario  historical  ssp126  ssp245  ssp370  ssp585\n",
      "variant                                             \n",
      "r1i1p1f1        45.0    48.0    48.0    45.0    48.0\n",
      "r2i1p1f1        23.0     NaN     NaN     NaN     NaN \n",
      "\n",
      "CESM2-WACCM\n",
      "scenario  historical  ssp126  ssp245  ssp370  ssp585\n",
      "variant                                             \n",
      "r1i1p1f1        46.0    51.0    44.0    44.0    52.0\n",
      "r2i1p1f1        46.0     NaN    49.0    44.0    44.0\n",
      "r3i1p1f1        46.0     NaN    47.0    44.0    49.0\n",
      "r4i1p1f1         NaN     NaN    47.0     NaN    49.0\n",
      "r5i1p1f1         NaN     NaN    47.0     NaN    49.0 \n",
      "\n",
      "MPI-ESM1-2-HR\n",
      "scenario   historical  ssp126  ssp245  ssp370  ssp585\n",
      "variant                                              \n",
      "r10i1p1f1        58.0     NaN     NaN    58.0     NaN\n",
      "r1i1p1f1         58.0    58.0    58.0    58.0    58.0\n",
      "r2i1p1f1         58.0     NaN    58.0    58.0     NaN\n",
      "r3i1p1f1         58.0     NaN     NaN    58.0     NaN\n",
      "r4i1p1f1         58.0     NaN     NaN    58.0     NaN\n",
      "r5i1p1f1         58.0     NaN     NaN    58.0     NaN\n",
      "r6i1p1f1         58.0     NaN     NaN    58.0     NaN\n",
      "r7i1p1f1         58.0     NaN     NaN    58.0     NaN\n",
      "r8i1p1f1         58.0     NaN     NaN    58.0     NaN\n",
      "r9i1p1f1         58.0     NaN     NaN    58.0     NaN \n",
      "\n",
      "MPI-ESM1-2-LR\n",
      "scenario     historical  ssp126  ssp245  ssp585\n",
      "variant                                        \n",
      "r10i1p1f1          63.0    63.0    63.0    63.0\n",
      "r1i1p1f1           63.0    63.0    63.0    63.0\n",
      "r8i1p1f1           63.0    63.0    63.0    63.0\n",
      "r7i1p1f1           63.0    62.0    63.0    63.0\n",
      "r6i1p1f1           63.0    63.0    63.0    63.0\n",
      "r5i1p1f1           63.0    62.0    63.0    63.0\n",
      "r4i1p1f1           63.0    63.0    63.0    63.0\n",
      "r3i1p1f1           63.0    62.0    63.0    63.0\n",
      "r2i1p1f1           63.0    63.0    63.0    63.0\n",
      "r9i1p1f1           63.0    63.0    63.0    63.0\n",
      "r19i1p1f1          60.0    60.0    60.0    60.0\n",
      "r48i1p1f1          60.0     4.0    30.0     3.0\n",
      "r36i1p1f1          60.0     3.0    30.0     3.0\n",
      "r1i2000p1f1        60.0     NaN     NaN     NaN\n",
      "r38i1p1f1          60.0     3.0    30.0     1.0\n",
      "r39i1p1f1          60.0     3.0    30.0     3.0\n",
      "r17i1p1f1          60.0    60.0    60.0    60.0\n",
      "r40i1p1f1          60.0     3.0    30.0     2.0\n",
      "r49i1p1f1          60.0     4.0    30.0     3.0\n",
      "r34i1p1f1          60.0     4.0    30.0     2.0\n",
      "r16i1p1f1          60.0    60.0    60.0    60.0\n",
      "r50i1p1f1          60.0     4.0    30.0     2.0\n",
      "r15i1p1f1          60.0    60.0    60.0    60.0\n",
      "r14i1p1f1          60.0    60.0    60.0    60.0\n",
      "r13i1p1f1          60.0    60.0    60.0    60.0\n",
      "r12i1p1f1          60.0    60.0    60.0    60.0\n",
      "r35i1p1f1          60.0     4.0    30.0     4.0\n",
      "r37i1p1f1          60.0     3.0    30.0     2.0\n",
      "r33i1p1f1          60.0     4.0    30.0     4.0\n",
      "r11i1p1f1          60.0    60.0    60.0    60.0\n",
      "r20i1p1f1          60.0    60.0    60.0    60.0\n",
      "r21i1p1f1          60.0    60.0    60.0    60.0\n",
      "r22i1p1f1          60.0    60.0    60.0    60.0\n",
      "r23i1p1f1          60.0    60.0    60.0    60.0\n",
      "r24i1p1f1          60.0    60.0    60.0    60.0\n",
      "r25i1p1f1          60.0    60.0    60.0    60.0\n",
      "r26i1p1f1          60.0    60.0    60.0    60.0\n",
      "r27i1p1f1          60.0    60.0    60.0    60.0\n",
      "r32i1p1f1          60.0     4.0    30.0     4.0\n",
      "r29i1p1f1          60.0    60.0    60.0    60.0\n",
      "r18i1p1f1          60.0    60.0    60.0    60.0\n",
      "r30i1p1f1          60.0    60.0    60.0    60.0\n",
      "r31i1p1f1          60.0     4.0    30.0     4.0\n",
      "r28i1p1f1          59.0    60.0    60.0    60.0\n",
      "r41i1p1f1          56.0     3.0    30.0     3.0\n",
      "r47i1p1f1          33.0     4.0    30.0     3.0\n",
      "r44i1p1f1          30.0     3.0    30.0     1.0\n",
      "r46i1p1f1          30.0     3.0    30.0     3.0\n",
      "r43i1p1f1          30.0     3.0    30.0     1.0\n",
      "r42i1p1f1          30.0     3.0    30.0     1.0\n",
      "r45i1p1f1          30.0     3.0    30.0     1.0 \n",
      "\n",
      "E3SM-1-0\n",
      "scenario  historical\n",
      "variant             \n",
      "r1i1p1f1          18\n",
      "r2i1p1f1          18\n",
      "r3i1p1f1          18\n",
      "r4i1p1f1          18\n",
      "r5i1p1f1          18 \n",
      "\n",
      "E3SM-1-1\n",
      "scenario  historical\n",
      "variant             \n",
      "r1i1p1f1          17 \n",
      "\n",
      "E3SM-1-1-ECA\n",
      "scenario  historical\n",
      "variant             \n",
      "r1i1p1f1          17 \n",
      "\n"
     ]
    }
   ],
   "source": [
    "for model in models:\n",
    "    model_df = rep_df.loc[model]\n",
    "    repr_df = (\n",
    "        model_df.reset_index()\n",
    "        .pivot(index=\"variant\", columns=\"scenario\", values=\"freq_var\")\n",
    "        .sort_values(by=[\"historical\"], ascending=False)\n",
    "    )\n",
    "    print(model)\n",
    "    print(repr_df, \"\\n\")"
   ]
  },
  {
   "cell_type": "markdown",
   "id": "c356d2e6-b66a-4e44-a0b7-308a26b40b71",
   "metadata": {},
   "source": [
    "MPI-ESM1-2-LR gets a medal.\n",
    "\n",
    "Looks like we need to rule out **MPI-ESM1-2-HR**, as there is no ScenarioMIP data for it.\n",
    "\n",
    "Finally, we want to select variants based on this.\n",
    "\n",
    "First filter out all rows from data frame that do not have data files:"
   ]
  },
  {
   "cell_type": "code",
   "execution_count": 7,
   "id": "c26a7aeb-208a-4359-80d1-e4d3ee12c464",
   "metadata": {},
   "outputs": [],
   "source": [
    "valid_df = df[df[\"grid_type\"].notna()]"
   ]
  },
  {
   "cell_type": "markdown",
   "id": "d997af18-dcd6-4638-a792-7b7e138593bf",
   "metadata": {},
   "source": [
    "#### ACCESS-CM2\n",
    "\n",
    "For ACCESS-CM2, there is a two-way tie between r1i1p1f1 and  r4i1p1f1 / r5i1p1f1, although r1i1p1f1 is only 1 behind each! Let's check to see whether the variable-table ID combinations are the same between them:"
   ]
  },
  {
   "cell_type": "code",
   "execution_count": 8,
   "id": "24b92bcf-359c-4e73-be8e-abd4967f79ca",
   "metadata": {},
   "outputs": [
    {
     "data": {
      "text/plain": [
       "(2,)"
      ]
     },
     "execution_count": 8,
     "metadata": {},
     "output_type": "execute_result"
    }
   ],
   "source": [
    "test_variants = [\"r1i1p1f1\", \"r4i1p1f1\", \"r5i1p1f1\"]\n",
    "freq_vars = (\n",
    "    valid_df.query(\"model == 'ACCESS-CM2' & variant in @test_variants\")\n",
    "    .groupby(\"variant\")[\"freq_var\"]\n",
    "    .apply(lambda x: list(np.unique(x)))\n",
    ")\n",
    "np.unique(freq_vars).shape"
   ]
  },
  {
   "cell_type": "markdown",
   "id": "bd1eeeed",
   "metadata": {},
   "source": [
    "Okay, so two of those variants should have the exact same variable-table ID combinations, which of course are r4i1p1f1 and r5i1p1f1. What is r1i1p1f1 missing here?"
   ]
  },
  {
   "cell_type": "code",
   "execution_count": 9,
   "id": "c1201912",
   "metadata": {},
   "outputs": [
    {
     "data": {
      "text/plain": [
       "{'day_sfcWindmax'}"
      ]
     },
     "execution_count": 9,
     "metadata": {},
     "output_type": "execute_result"
    }
   ],
   "source": [
    "set(freq_vars.iloc[1]) - set(freq_vars.iloc[0])"
   ]
  },
  {
   "cell_type": "markdown",
   "id": "53aa3e5c-ff4e-4a2e-8605-085bee44d70b",
   "metadata": {},
   "source": [
    "\n",
    "Looks like r1i1p1f1 does not have the daily maximum near surface wind speec. This would be nice to have, so we will choose one of the other variants - r4i1p1f1.\n",
    "\n",
    "#### CESM2 (NCAR)\n",
    "\n",
    "It looks like the r11i1p1f1 variant has more variable-table ID combinations than the others, so that should be the obvious choice. But let's compare those to another variant just to check:"
   ]
  },
  {
   "cell_type": "code",
   "execution_count": 10,
   "id": "f46cc185-867d-4cd3-aba3-5a7935e901f1",
   "metadata": {},
   "outputs": [],
   "source": [
    "test_variants = [\"r11i1p1f1\", \"r1i1p1f1\"]\n",
    "freq_vars = (\n",
    "    valid_df.query(\"model == 'CESM2' & variant in @test_variants\")\n",
    "    .groupby(\"variant\")[\"freq_var\"]\n",
    "    .apply(lambda x: list(np.unique(x)))\n",
    ")"
   ]
  },
  {
   "cell_type": "markdown",
   "id": "ece45850-f392-4ae0-96db-8e362fc4ca46",
   "metadata": {},
   "source": [
    "Show the variable-frequencies in r11i1p1f1 that are not in r1i1p1f1"
   ]
  },
  {
   "cell_type": "code",
   "execution_count": 11,
   "id": "d2520518-b8e5-4fdc-a458-5c4ddb800a21",
   "metadata": {},
   "outputs": [
    {
     "data": {
      "text/plain": [
       "{'Eday_mrsol', 'Eday_snd', 'day_mrro', 'day_mrsos', 'day_prsn', 'day_snw'}"
      ]
     },
     "execution_count": 11,
     "metadata": {},
     "output_type": "execute_result"
    }
   ],
   "source": [
    "set(freq_vars[\"r11i1p1f1\"]).difference(set(freq_vars[\"r1i1p1f1\"]))"
   ]
  },
  {
   "cell_type": "markdown",
   "id": "04bda60a-bf41-4587-aaab-6f8986b5c653",
   "metadata": {},
   "source": [
    "Now look at the opposite:"
   ]
  },
  {
   "cell_type": "code",
   "execution_count": 12,
   "id": "a20ef133-7fda-436d-9f91-fbaa59c55785",
   "metadata": {},
   "outputs": [
    {
     "data": {
      "text/plain": [
       "set()"
      ]
     },
     "execution_count": 12,
     "metadata": {},
     "output_type": "execute_result"
    }
   ],
   "source": [
    "set(freq_vars[\"r1i1p1f1\"]).difference(set(freq_vars[\"r11i1p1f1\"]))"
   ]
  },
  {
   "cell_type": "markdown",
   "id": "619f3e03-ff9f-4e82-908a-26a35bcc4b70",
   "metadata": {},
   "source": [
    "Yeah, so we will go with r11i1p1f1, as it has a couple more variables of interest."
   ]
  },
  {
   "cell_type": "markdown",
   "id": "f71a6465-84e6-4fa7-8954-5585e6bb2693",
   "metadata": {},
   "source": [
    "#### CNRM-CM6-1-HR\n",
    "\n",
    "There is only one choice here! r1i1p1f2\n",
    "\n",
    "#### EC-Earth3-Veg\n",
    "\n",
    "It looks like r1i1p1f1 variant has more variable-table ID combos for historical and all desired projected scenarios. \n",
    "\n",
    "There are five other variants here that all have high numbers of variable-table ID combos for historical and all desired projected scenarios: r2i1p1f1, r3i1p1f1, r12i1p1f1, r14i1p1f1, r4i1p1f1. Let's compare them for representation:"
   ]
  },
  {
   "cell_type": "code",
   "execution_count": 13,
   "id": "2d257202-c542-4c73-a1d4-83ad9502524d",
   "metadata": {},
   "outputs": [
    {
     "data": {
      "text/plain": [
       "(3,)"
      ]
     },
     "execution_count": 13,
     "metadata": {},
     "output_type": "execute_result"
    }
   ],
   "source": [
    "test_variants = [\"r1i1p1f1\", \"r2i1p1f1\", \"r3i1p1f1\", \"r12i1p1f1\", \"r14i1p1f1\", \"r4i1p1f1\"]\n",
    "freq_vars = (\n",
    "    valid_df.query(\"model == 'EC-Earth3-Veg' & variant in @test_variants\")\n",
    "    .groupby(\"variant\")[\"freq_var\"]\n",
    "    .apply(lambda x: list(np.unique(x)))\n",
    ")\n",
    "np.unique(freq_vars).shape"
   ]
  },
  {
   "cell_type": "markdown",
   "id": "38669d04-171d-4781-8248-e9ac7584f4eb",
   "metadata": {},
   "source": [
    "OK, 3 out of 6 have the same representation, so let's compare our leader r1i1p1f1 with each of the others."
   ]
  },
  {
   "cell_type": "code",
   "execution_count": 14,
   "id": "89cc4960",
   "metadata": {},
   "outputs": [
    {
     "name": "stdout",
     "output_type": "stream",
     "text": [
      "set()\n",
      "set()\n",
      "{'fx_sftlf'}\n",
      "{'fx_sftlf'}\n",
      "{'Ofx_sftof', 'fx_sftlf'}\n"
     ]
    }
   ],
   "source": [
    "for tv in test_variants[1:]:\n",
    "    print(set(freq_vars[\"r1i1p1f1\"]).difference(set(freq_vars[tv])))"
   ]
  },
  {
   "cell_type": "markdown",
   "id": "7e5c4e3d",
   "metadata": {},
   "source": [
    "Since the only difference are fixed variables (which we aren't using right now anyways) we will just go with r1i1p1f1."
   ]
  },
  {
   "cell_type": "markdown",
   "id": "4ae5d0f7",
   "metadata": {},
   "source": [
    "\n",
    "\n",
    "#### GFDL-ESM4\n",
    "\n",
    "This model has a clear winner, with more freq-vars in every scenario than the other variants: r1i1p1f1\n",
    "\n",
    "#### HadGEM3-GC31-LL\n",
    "\n",
    "This model also has a clear winner, as there is only one variant that has data for SSP1-2.6, and it has many more variables for SSP5-8.5: r1i1p1f3\n",
    "\n",
    "#### HadGEM3-GC31-MM\n",
    "\n",
    "This one doesn't have the SSP2-4.5 or SSP3-7.0 scenarios. We may want to consider dropping. \n",
    "\n",
    "#### KACE-1-0-G\n",
    "\n",
    "Again, a fairly clear winner here, r1i1p1f1 has more freq-vars for each scenario. \n",
    "\n",
    "#### MIROC6\n",
    "\n",
    "Another winner here, r1i1p1f1 has the most representation. \n",
    "\n",
    "#### MPI-ESM1-2-HR\n",
    "\n",
    "Only one variant has historical and scenario data, so we have to go with r1i1p1f1.\n",
    "\n",
    "#### MPI-ESM1-2-LR\n",
    "\n",
    "This one is interesting - most variants have the same representation for all scenarios. Let's see if any stand out:"
   ]
  },
  {
   "cell_type": "code",
   "execution_count": 15,
   "id": "2cf42aa7-a0ba-4596-aec6-16e19bc5ed4a",
   "metadata": {},
   "outputs": [
    {
     "data": {
      "text/plain": [
       "(5,)"
      ]
     },
     "execution_count": 15,
     "metadata": {},
     "output_type": "execute_result"
    }
   ],
   "source": [
    "freq_vars = (\n",
    "    valid_df.query(\"model == 'MPI-ESM1-2-LR'\")\n",
    "    .groupby(\"variant\")[\"freq_var\"]\n",
    "    .apply(lambda x: list(np.unique(x)))\n",
    ")\n",
    "np.unique(freq_vars).shape"
   ]
  },
  {
   "cell_type": "markdown",
   "id": "1baf2f33-6ece-4e6c-9e5d-e2d5fa3c9d84",
   "metadata": {},
   "source": [
    "Nope! They all have the same representation. We will go with the classic r1i1p1f1.\n",
    "\n",
    "#### NorESM2-MM\n",
    "\n",
    "r1i1p1f1 is another winner here, as it has the most representation across scenarios. \n"
   ]
  },
  {
   "cell_type": "markdown",
   "id": "6799f516",
   "metadata": {},
   "source": [
    "\n",
    "#### TaiESM1\n",
    "\n",
    "Again, it's gotta be r1i1p1f1.\n",
    "\n",
    "#### CESM2-WACCM\n",
    "\n",
    "r1i1p1f1 again. \n",
    "\n",
    "However, we should compare CESM2-WACCM vs plain CESM2, using the best variant of each:"
   ]
  },
  {
   "cell_type": "code",
   "execution_count": 16,
   "id": "db0e9de3-d52e-42c4-b840-e4a7fcf7bbf8",
   "metadata": {},
   "outputs": [
    {
     "name": "stdout",
     "output_type": "stream",
     "text": [
      "Scenario: historical\n",
      "CESM2 freq_vars not in CESM2-WACCM: {'day_prsn', 'Amon_prsn', 'Eday_mrsol', 'day_mrro', 'day_snw', 'Eday_snd', 'day_mrsos'}\n",
      "CESM2-WACCM freq_vars not in CESM2: set() \n",
      "\n",
      "Scenario: ssp245\n",
      "CESM2 freq_vars not in CESM2-WACCM: {'day_prsn', 'Amon_prsn', 'Eday_mrsol', 'day_tasmin', 'day_mrro', 'Amon_tasmax', 'day_snw', 'day_tasmax', 'Amon_tasmin', 'day_mrsos'}\n",
      "CESM2-WACCM freq_vars not in CESM2: set() \n",
      "\n",
      "Scenario: ssp585\n",
      "CESM2 freq_vars not in CESM2-WACCM: {'day_prsn', 'day_snw', 'Eday_mrsol', 'day_mrsos'}\n",
      "CESM2-WACCM freq_vars not in CESM2: set() \n",
      "\n"
     ]
    }
   ],
   "source": [
    "for scenario in [\"historical\", \"ssp245\", \"ssp585\"]:\n",
    "    cesm2_waccm_vars = set(\n",
    "        valid_df.query(\n",
    "            \"model == 'CESM2-WACCM' & variant == 'r1i1p1f1' & scenario == @scenario\"\n",
    "        )\n",
    "        .groupby(\"variant\")[\"freq_var\"]\n",
    "        .apply(lambda x: list(np.unique(x)))\n",
    "        .values[0]\n",
    "    )\n",
    "    cesm2_vars = set(\n",
    "        valid_df.query(\n",
    "            \"model == 'CESM2' & variant == 'r11i1p1f1' & scenario == @scenario\"\n",
    "        )\n",
    "        .groupby(\"variant\")[\"freq_var\"]\n",
    "        .apply(lambda x: list(np.unique(x)))\n",
    "        .values[0]\n",
    "    )\n",
    "    print(f\"Scenario: {scenario}\")\n",
    "    print(\n",
    "        \"CESM2 freq_vars not in CESM2-WACCM:\", cesm2_vars.difference(cesm2_waccm_vars)\n",
    "    )\n",
    "    print(\n",
    "        \"CESM2-WACCM freq_vars not in CESM2:\",\n",
    "        cesm2_waccm_vars.difference(cesm2_vars),\n",
    "        \"\\n\",\n",
    "    )"
   ]
  },
  {
   "cell_type": "markdown",
   "id": "00a29cd6-64f2-402b-96ef-1ce9bac7c301",
   "metadata": {},
   "source": [
    "So, if we want monthly snowfall flux, daily runoff, snowfall, and snow mass, then we need to go with CESM2 instead.\n",
    "\n",
    "### E3SM Models\n",
    "\n",
    "There is no ScenarioMIP data for these models - they should be excluded from the transfer."
   ]
  },
  {
   "cell_type": "markdown",
   "id": "131dadce-80dc-4222-a267-6b19fd387f45",
   "metadata": {},
   "source": []
  }
 ],
 "metadata": {
  "kernelspec": {
   "display_name": "Python 3 (ipykernel)",
   "language": "python",
   "name": "python3"
  },
  "language_info": {
   "codemirror_mode": {
    "name": "ipython",
    "version": 3
   },
   "file_extension": ".py",
   "mimetype": "text/x-python",
   "name": "python",
   "nbconvert_exporter": "python",
   "pygments_lexer": "ipython3",
   "version": "3.9.13"
  }
 },
 "nbformat": 4,
 "nbformat_minor": 5
}
