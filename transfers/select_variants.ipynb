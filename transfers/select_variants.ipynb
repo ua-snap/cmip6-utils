{
 "cells": [
  {
   "cell_type": "markdown",
   "id": "261dbecb-7b6a-4923-9503-648f6e3d2ba4",
   "metadata": {},
   "source": [
    "# Explore LLNL ESGF holdings\n",
    "\n",
    "Use this notebook to explore the LLNL ESGF holdings and determine if we should use a variant besides r1i1p1f1 for any of the models. The bottom of the notebook includes the justification for each model."
   ]
  },
  {
   "cell_type": "code",
   "execution_count": 1,
   "id": "c55b7541-6976-4ac4-a8b0-dc78aac623af",
   "metadata": {},
   "outputs": [],
   "source": [
    "import numpy as np\n",
    "import pandas as pd"
   ]
  },
  {
   "cell_type": "markdown",
   "id": "0e3f8509-513b-4935-bbfd-3e0ca9aa09cf",
   "metadata": {},
   "source": [
    "Read a CSV containing info on holdings for an ESGF node (LLNL only for now):"
   ]
  },
  {
   "cell_type": "code",
   "execution_count": 2,
   "id": "4ca79f24-8fae-4cbf-a260-c99e25b2e20c",
   "metadata": {},
   "outputs": [],
   "source": [
    "df = pd.read_csv(\"llnl_esgf_holdings.csv\")"
   ]
  },
  {
   "cell_type": "markdown",
   "id": "c081824c-b323-442d-baae-20481ff0205e",
   "metadata": {},
   "source": [
    "## Variants\n",
    "\n",
    "Here we will do some exploring to see what variants we will want to mirror on the ACDN. Since some variants could have greater representation of variables/ frequencies etc, we want to select one that has the most.\n",
    "\n",
    "So, do any variants have more data than the others for a given model and scenario?\n",
    "\n",
    "Determine the data availability for each model, scenario, and variant, in terms of number of variables x temporal frequencies. We will combine those two fields to get an idea of representation across both daily and monthly frequencies."
   ]
  },
  {
   "cell_type": "code",
   "execution_count": 3,
   "id": "42e281d2-1a89-4345-b844-ffeb755d8057",
   "metadata": {},
   "outputs": [],
   "source": [
    "# create a column that is just a concatenation of temnporal frequency and vairbale name to simplify\n",
    "df[\"freq_var\"] = df[\"frequency\"] + \"_\" + df[\"variable\"]"
   ]
  },
  {
   "cell_type": "markdown",
   "id": "489c4ca8-e477-4759-a233-f6c311ecd45c",
   "metadata": {},
   "source": [
    "Next, group by model, scenario, and variant and tally the number of unique variable-frequency combinations:"
   ]
  },
  {
   "cell_type": "code",
   "execution_count": 4,
   "id": "7905c1b8-db06-4d42-9d08-6cbf9fd814f2",
   "metadata": {},
   "outputs": [],
   "source": [
    "rep_df = pd.DataFrame(\n",
    "    df[df[\"grid_type\"].notna()]\n",
    "    .groupby([\"model\", \"scenario\", \"variant\"])[\"freq_var\"]\n",
    "    .nunique()\n",
    ")\n"
   ]
  },
  {
   "cell_type": "markdown",
   "id": "5ea4fb12-05c4-49a5-bde5-c1320395450d",
   "metadata": {},
   "source": [
    "Then, for each model, look to see if there are any variants that have the maximum representation for all desired scenarios. In other words, check for a variant that has the most variable-frequency combinations for all target scenarios:"
   ]
  },
  {
   "cell_type": "code",
   "execution_count": 5,
   "id": "87dbfab0-5f5f-4552-b505-7bf6362dc93e",
   "metadata": {},
   "outputs": [
    {
     "name": "stdout",
     "output_type": "stream",
     "text": [
      "ACCESS-CM2 ['r4i1p1f1' 'r5i1p1f1'] max representation: 43 \n",
      "\n",
      "CESM2 [] max representation: 38 \n",
      "\n",
      "CNRM-CM6-1-HR [] max representation: 39 \n",
      "\n",
      "EC-Earth3-Veg [] max representation: 43 \n",
      "\n",
      "GFDL-ESM4 [] max representation: 36 \n",
      "\n",
      "HadGEM3-GC31-LL [] max representation: 43 \n",
      "\n",
      "HadGEM3-GC31-MM [] max representation: 43 \n",
      "\n",
      "KACE-1-0-G [] max representation: 42 \n",
      "\n",
      "MIROC6 [] max representation: 43 \n",
      "\n",
      "MPI-ESM1-2-LR ['r10i1p1f1' 'r11i1p1f1' 'r12i1p1f1' 'r13i1p1f1' 'r14i1p1f1' 'r15i1p1f1'\n",
      " 'r16i1p1f1' 'r17i1p1f1' 'r18i1p1f1' 'r19i1p1f1' 'r1i1p1f1' 'r20i1p1f1'\n",
      " 'r21i1p1f1' 'r22i1p1f1' 'r23i1p1f1' 'r24i1p1f1' 'r25i1p1f1' 'r26i1p1f1'\n",
      " 'r27i1p1f1' 'r28i1p1f1' 'r29i1p1f1' 'r2i1p1f1' 'r30i1p1f1' 'r3i1p1f1'\n",
      " 'r4i1p1f1' 'r5i1p1f1' 'r6i1p1f1' 'r7i1p1f1' 'r8i1p1f1' 'r9i1p1f1'] max representation: 43 \n",
      "\n",
      "NorESM2-MM ['r1i1p1f1'] max representation: 34 \n",
      "\n",
      "MPI-ESM1-2-HR [] max representation: 43 \n",
      "\n",
      "TaiESM1 ['r1i1p1f1'] max representation: 33 \n",
      "\n",
      "CESM2-WACCM [] max representation: 35 \n",
      "\n"
     ]
    }
   ],
   "source": [
    "models = df.model.unique()\n",
    "\n",
    "# unique sorted list of scenarios represented for each variant should be this if all desired scenarios are present\n",
    "target_scenarios = [\"historical\", \"ssp126\", \"ssp245\", \"ssp370\", \"ssp585\"]\n",
    "\n",
    "for model in models:\n",
    "    model_df = rep_df.loc[model]\n",
    "    max_rep = model_df.max()\n",
    "\n",
    "    # I guess first check if there is the ideal situation, which is max representation for all 5 scenarios\n",
    "    # iterate over variants to achieve this\n",
    "    # max rep variants DataFrame\n",
    "    mrv_df = model_df[model_df >= max_rep].dropna().reset_index()\n",
    "    # sort the unique scenarios represented by each variant and assign as a \"best\" variant if all target_scenarios are found\n",
    "    mrv_scenarios = mrv_df.groupby(\"variant\")[\"scenario\"].unique().apply(sorted)\n",
    "    best_variants = mrv_scenarios[mrv_scenarios.isin([target_scenarios])].index.values\n",
    "\n",
    "    print(model, best_variants, f\"max representation: {max_rep.values[0]}\", \"\\n\")"
   ]
  },
  {
   "cell_type": "markdown",
   "id": "54b650c2-aa23-4765-9f6b-f7009bfae21e",
   "metadata": {},
   "source": [
    "So it looks like there are only four models which have variants where the max representation (number of variable x frequency pairings) exists for all target scenarios. \n",
    "\n",
    "Instead, we should probably just make a table for each model that shows the number of variable-frequency combinations for each variant."
   ]
  },
  {
   "cell_type": "code",
   "execution_count": 12,
   "id": "081312bd-4eb8-4772-b81c-6076ba818925",
   "metadata": {},
   "outputs": [
    {
     "name": "stdout",
     "output_type": "stream",
     "text": [
      "ACCESS-CM2\n",
      "scenario   historical  ssp126  ssp245  ssp370  ssp585\n",
      "variant                                              \n",
      "r4i1p1f1         43.0    43.0    43.0    43.0    43.0\n",
      "r5i1p1f1         43.0    43.0    43.0    43.0    43.0\n",
      "r1i1p1f1         42.0    42.0    42.0    42.0    42.0\n",
      "r10i1p1f1        30.0     NaN     NaN     NaN     3.0\n",
      "r2i1p1f1         30.0    30.0    30.0    30.0    30.0\n",
      "r3i1p1f1         30.0    30.0    30.0    30.0    30.0\n",
      "r6i1p1f1         30.0     NaN     NaN     NaN     2.0\n",
      "r7i1p1f1         30.0     NaN     NaN     NaN     3.0\n",
      "r8i1p1f1         30.0     NaN     NaN     NaN     2.0\n",
      "r9i1p1f1         30.0     NaN     NaN     NaN     2.0 \n",
      "\n",
      "CESM2\n",
      "scenario   historical  ssp126  ssp245  ssp370  ssp585\n",
      "variant                                              \n",
      "r11i1p1f1        34.0    38.0    38.0    38.0    38.0\n",
      "r1i1p1f1         30.0    34.0    33.0    34.0    34.0\n",
      "r2i1p1f1         30.0    32.0    22.0    37.0    38.0\n",
      "r3i1p1f1         30.0     NaN    16.0    18.0     NaN\n",
      "r4i1p1f1         30.0    34.0    34.0    34.0    34.0\n",
      "r5i1p1f1         30.0     NaN     NaN    18.0     NaN\n",
      "r6i1p1f1         30.0     NaN     NaN    18.0     NaN\n",
      "r7i1p1f1         30.0     NaN     NaN     NaN     NaN\n",
      "r8i1p1f1         30.0     NaN     NaN     NaN     NaN\n",
      "r9i1p1f1         30.0     NaN     NaN     NaN     NaN\n",
      "r10i1p1f1        29.0    34.0    34.0    34.0    34.0 \n",
      "\n",
      "CNRM-CM6-1-HR\n",
      "scenario  historical  ssp126  ssp245  ssp370  ssp585\n",
      "variant                                             \n",
      "r1i1p1f2          23      39      36      36      39 \n",
      "\n",
      "EC-Earth3-Veg\n",
      "scenario   historical  ssp126  ssp245  ssp370  ssp585\n",
      "variant                                              \n",
      "r10i1p1f1        43.0     NaN     NaN     NaN    39.0\n",
      "r12i1p1f1        43.0    39.0    39.0    39.0    39.0\n",
      "r13i1p1f1        43.0     NaN     NaN     NaN    39.0\n",
      "r14i1p1f1        43.0    39.0    39.0    39.0    39.0\n",
      "r1i1p1f1         43.0    39.0    39.0    39.0    39.0\n",
      "r2i1p1f1         43.0    34.0    24.0    24.0    28.0\n",
      "r3i1p1f1         43.0    25.0    25.0    27.0    27.0\n",
      "r4i1p1f1         43.0    39.0    39.0    39.0    39.0\n",
      "r5i1p1f1         43.0     NaN    43.0     NaN     NaN\n",
      "r6i1p1f1         43.0    39.0    39.0     NaN    39.0\n",
      "r11i1p1f1        35.0     NaN     NaN     NaN     NaN \n",
      "\n",
      "GFDL-ESM4\n",
      "scenario  historical  ssp126  ssp245  ssp370  ssp585\n",
      "variant                                             \n",
      "r1i1p1f1        36.0    36.0    35.0    36.0    35.0\n",
      "r3i1p1f1        23.0     NaN    14.0     NaN     NaN\n",
      "r2i1p1f1        22.0     NaN    13.0     NaN     NaN \n",
      "\n",
      "HadGEM3-GC31-LL\n",
      "scenario  historical  ssp126  ssp245  ssp585\n",
      "variant                                     \n",
      "r1i1p1f3        43.0    39.0    43.0    39.0\n",
      "r2i1p1f3        43.0     NaN    43.0    27.0\n",
      "r3i1p1f3        43.0     NaN    43.0    27.0\n",
      "r4i1p1f3        43.0     NaN    43.0    22.0\n",
      "r5i1p1f3        43.0     NaN    43.0     NaN \n",
      "\n",
      "HadGEM3-GC31-MM\n",
      "scenario  historical  ssp126  ssp585\n",
      "variant                             \n",
      "r1i1p1f3        43.0    39.0    39.0\n",
      "r2i1p1f3        42.0     NaN    26.0\n",
      "r3i1p1f3        42.0     NaN    25.0\n",
      "r4i1p1f3        39.0     NaN    43.0 \n",
      "\n",
      "KACE-1-0-G\n",
      "scenario  historical  ssp126  ssp245  ssp370  ssp585\n",
      "variant                                             \n",
      "r1i1p1f1          40      39      42      40      41\n",
      "r3i1p1f1          40      37      31      28      40\n",
      "r2i1p1f1          37      28      31      31      35 \n",
      "\n",
      "MIROC6\n",
      "scenario   historical  ssp126  ssp245  ssp370  ssp585\n",
      "variant                                              \n",
      "r10i1p1f1          43      19      35      33      35\n",
      "r1i1p1f1           43      43      42      43      43\n",
      "r8i1p1f1           43      35      35      33      35\n",
      "r7i1p1f1           43      35      35      33      35\n",
      "r6i1p1f1           43      35      35      33      35\n",
      "r5i1p1f1           43      30      35      33      35\n",
      "r4i1p1f1           43      32      35      33      35\n",
      "r3i1p1f1           43      43      42      43      43\n",
      "r2i1p1f1           43      43      42      43      43\n",
      "r9i1p1f1           43      35      35      33      35\n",
      "r19i1p1f1          34      14      35      33      34\n",
      "r20i1p1f1          34      14      35      33      34\n",
      "r17i1p1f1          34      14      35      33      34\n",
      "r40i1p1f1          34      24      35      33      34\n",
      "r41i1p1f1          34      24      35      33      34\n",
      "r42i1p1f1          34      24      35      33      34\n",
      "r43i1p1f1          34      25      35      33      34\n",
      "r44i1p1f1          34      30      35      33      34\n",
      "r45i1p1f1          34      29      35      33      34\n",
      "r46i1p1f1          34      32      35      33      34\n",
      "r47i1p1f1          34      28      35      33      34\n",
      "r48i1p1f1          34      30      35      33      34\n",
      "r49i1p1f1          34      30      35      33      34\n",
      "r16i1p1f1          34      14      35      33      34\n",
      "r50i1p1f1          34      31      35      33      34\n",
      "r15i1p1f1          34      14      35      33      34\n",
      "r14i1p1f1          34      14      35      33      34\n",
      "r13i1p1f1          34      14      35      33      34\n",
      "r12i1p1f1          34      14      35      33      34\n",
      "r39i1p1f1          34      24      35      33      34\n",
      "r38i1p1f1          34      28      35      33      34\n",
      "r37i1p1f1          34      26      35      33      34\n",
      "r28i1p1f1          34      14      35      33      34\n",
      "r21i1p1f1          34      15      35      33      34\n",
      "r22i1p1f1          34      15      35      33      34\n",
      "r23i1p1f1          34      16      35      33      34\n",
      "r24i1p1f1          34      16      35      33      34\n",
      "r25i1p1f1          34      16      35      33      34\n",
      "r26i1p1f1          34      16      35      33      34\n",
      "r27i1p1f1          34      17      35      33      34\n",
      "r29i1p1f1          34      16      35      33      34\n",
      "r36i1p1f1          34      25      35      33      34\n",
      "r18i1p1f1          34      14      35      33      34\n",
      "r30i1p1f1          34      23      35      33      34\n",
      "r31i1p1f1          34      28      35      33      34\n",
      "r32i1p1f1          34      24      35      33      34\n",
      "r11i1p1f1          34      14      35      33      34\n",
      "r34i1p1f1          34      21      35      33      34\n",
      "r35i1p1f1          34      23      35      33      34\n",
      "r33i1p1f1          34      19      35      33      34 \n",
      "\n",
      "MPI-ESM1-2-LR\n",
      "scenario     historical  ssp126  ssp245  ssp370  ssp585\n",
      "variant                                                \n",
      "r10i1p1f1          43.0    43.0    43.0    43.0    43.0\n",
      "r24i1p1f1          43.0    43.0    43.0    43.0    43.0\n",
      "r8i1p1f1           43.0    43.0    43.0    43.0    43.0\n",
      "r7i1p1f1           43.0    43.0    43.0    43.0    43.0\n",
      "r6i1p1f1           43.0    43.0    43.0    43.0    43.0\n",
      "r5i1p1f1           43.0    43.0    43.0    43.0    43.0\n",
      "r4i1p1f1           43.0    43.0    43.0    43.0    43.0\n",
      "r3i1p1f1           43.0    43.0    43.0    43.0    43.0\n",
      "r30i1p1f1          43.0    43.0    43.0    43.0    43.0\n",
      "r2i1p1f1           43.0    43.0    43.0    43.0    43.0\n",
      "r29i1p1f1          43.0    43.0    43.0    43.0    43.0\n",
      "r28i1p1f1          43.0    43.0    43.0    43.0    43.0\n",
      "r27i1p1f1          43.0    43.0    43.0    43.0    43.0\n",
      "r26i1p1f1          43.0    43.0    43.0    43.0    43.0\n",
      "r25i1p1f1          43.0    43.0    43.0    43.0    43.0\n",
      "r23i1p1f1          43.0    43.0    43.0    43.0    43.0\n",
      "r11i1p1f1          43.0    43.0    43.0    43.0    43.0\n",
      "r22i1p1f1          43.0    43.0    43.0    43.0    43.0\n",
      "r21i1p1f1          43.0    43.0    43.0    43.0    43.0\n",
      "r20i1p1f1          43.0    43.0    43.0    43.0    43.0\n",
      "r1i2000p1f1        43.0     NaN     NaN     NaN     NaN\n",
      "r1i1p1f1           43.0    43.0    43.0    43.0    43.0\n",
      "r19i1p1f1          43.0    43.0    43.0    43.0    43.0\n",
      "r18i1p1f1          43.0    43.0    43.0    43.0    43.0\n",
      "r17i1p1f1          43.0    43.0    43.0    43.0    43.0\n",
      "r16i1p1f1          43.0    43.0    43.0    43.0    43.0\n",
      "r15i1p1f1          43.0    43.0    43.0    43.0    43.0\n",
      "r14i1p1f1          43.0    43.0    43.0    43.0    43.0\n",
      "r13i1p1f1          43.0    43.0    43.0    43.0    43.0\n",
      "r12i1p1f1          43.0    43.0    43.0    43.0    43.0\n",
      "r9i1p1f1           43.0    43.0    43.0    43.0    43.0 \n",
      "\n",
      "NorESM2-MM\n",
      "scenario  historical  ssp126  ssp245  ssp370  ssp585\n",
      "variant                                             \n",
      "r1i1p1f1        34.0    34.0    34.0    34.0    34.0\n",
      "r2i1p1f1        34.0     NaN    34.0     NaN     NaN\n",
      "r3i1p1f1        34.0     NaN     NaN     NaN     NaN \n",
      "\n",
      "MPI-ESM1-2-HR\n",
      "scenario   historical\n",
      "variant              \n",
      "r10i1p1f1          43\n",
      "r1i1p1f1           43\n",
      "r2i1p1f1           43\n",
      "r3i1p1f1           43\n",
      "r4i1p1f1           43\n",
      "r5i1p1f1           43\n",
      "r6i1p1f1           43\n",
      "r7i1p1f1           43\n",
      "r8i1p1f1           43\n",
      "r9i1p1f1           43 \n",
      "\n",
      "TaiESM1\n",
      "scenario  historical  ssp126  ssp245  ssp370  ssp585\n",
      "variant                                             \n",
      "r1i1p1f1        33.0    33.0    33.0    33.0    33.0\n",
      "r2i1p1f1        16.0     NaN     NaN     NaN     NaN \n",
      "\n",
      "CESM2-WACCM\n",
      "scenario  historical  ssp126  ssp245  ssp370  ssp585\n",
      "variant                                             \n",
      "r1i1p1f1        29.0    34.0    29.0    29.0    35.0\n",
      "r2i1p1f1        29.0     NaN    34.0    29.0    29.0\n",
      "r3i1p1f1        29.0     NaN    34.0    29.0    34.0\n",
      "r4i1p1f1         NaN     NaN    34.0     NaN    34.0\n",
      "r5i1p1f1         NaN     NaN    34.0     NaN    34.0 \n",
      "\n"
     ]
    }
   ],
   "source": [
    "for model in models:\n",
    "    model_df = rep_df.loc[model]\n",
    "    repr_df = (\n",
    "        model_df.reset_index()\n",
    "        .pivot(index=\"variant\", columns=\"scenario\", values=\"freq_var\")\n",
    "        .sort_values(by=[\"historical\"], ascending=False)\n",
    "    )\n",
    "    print(model)\n",
    "    print(repr_df, \"\\n\")\n"
   ]
  },
  {
   "cell_type": "markdown",
   "id": "c356d2e6-b66a-4e44-a0b7-308a26b40b71",
   "metadata": {},
   "source": [
    "MPI-ESM1-2-LR gets a medal.\n",
    "\n",
    "Looks like we need to rule out **MPI-ESM1-2-HR**, as there is no ScenarioMIP data for it.\n",
    "\n",
    "Finally, we want to select variants based on this.\n",
    "\n",
    "First filter out all rows from data frame that do not have data files:"
   ]
  },
  {
   "cell_type": "code",
   "execution_count": 14,
   "id": "c26a7aeb-208a-4359-80d1-e4d3ee12c464",
   "metadata": {},
   "outputs": [],
   "source": [
    "valid_df = df[df[\"grid_type\"].notna()]"
   ]
  },
  {
   "cell_type": "markdown",
   "id": "d997af18-dcd6-4638-a792-7b7e138593bf",
   "metadata": {},
   "source": [
    "#### ACCESS-CM2\n",
    "\n",
    "For ACCESS-CM2, there is a two-way tie between r1i1p1f1 and  r4i1p1f1 / r5i1p1f1, although r1i1p1f1 is only 1 behind each! Let's check to see whether the variable-frequency combinations are the same between them:"
   ]
  },
  {
   "cell_type": "code",
   "execution_count": 15,
   "id": "24b92bcf-359c-4e73-be8e-abd4967f79ca",
   "metadata": {},
   "outputs": [
    {
     "data": {
      "text/plain": [
       "(2,)"
      ]
     },
     "execution_count": 15,
     "metadata": {},
     "output_type": "execute_result"
    }
   ],
   "source": [
    "test_variants = [\"r1i1p1f1\", \"r4i1p1f1\", \"r5i1p1f1\"]\n",
    "freq_vars = (\n",
    "    valid_df.query(\"model == 'ACCESS-CM2' & variant in @test_variants\")\n",
    "    .groupby(\"variant\")[\"freq_var\"]\n",
    "    .apply(lambda x: list(np.unique(x)))\n",
    ")\n",
    "np.unique(freq_vars).shape\n"
   ]
  },
  {
   "cell_type": "markdown",
   "id": "bd1eeeed",
   "metadata": {},
   "source": [
    "Okay, so two of those variants should have the exact same variable-frequency combinations, which of course are r4i1p1f1 and r5i1p1f1. What is r1i1p1f1 missing here?"
   ]
  },
  {
   "cell_type": "code",
   "execution_count": 19,
   "id": "c1201912",
   "metadata": {},
   "outputs": [
    {
     "data": {
      "text/plain": [
       "{'day_sfcWindmax'}"
      ]
     },
     "execution_count": 19,
     "metadata": {},
     "output_type": "execute_result"
    }
   ],
   "source": [
    "set(freq_vars.iloc[1]) - set(freq_vars.iloc[0])\n"
   ]
  },
  {
   "cell_type": "markdown",
   "id": "53aa3e5c-ff4e-4a2e-8605-085bee44d70b",
   "metadata": {},
   "source": [
    "\n",
    "Looks like r1i1p1f1 does not have the daily maximum near surface wind speec. This would be nice to have, so we will choose one of the other variants - r4i1p1f1.\n",
    "\n",
    "#### CESM2 (NCAR)\n",
    "\n",
    "It looks like the r11i1p1f1 variant has more variable-frequency combinations than the others, so that should be the obvious choice. But let's compare those to another variant just to check:"
   ]
  },
  {
   "cell_type": "code",
   "execution_count": 21,
   "id": "f46cc185-867d-4cd3-aba3-5a7935e901f1",
   "metadata": {},
   "outputs": [],
   "source": [
    "test_variants = [\"r11i1p1f1\", \"r1i1p1f1\"]\n",
    "freq_vars = (\n",
    "    valid_df.query(\"model == 'CESM2' & variant in @test_variants\")\n",
    "    .groupby(\"variant\")[\"freq_var\"]\n",
    "    .apply(lambda x: list(np.unique(x)))\n",
    ")\n"
   ]
  },
  {
   "cell_type": "markdown",
   "id": "ece45850-f392-4ae0-96db-8e362fc4ca46",
   "metadata": {},
   "source": [
    "Show the variable-frequencies in r11i1p1f1 that are not in r1i1p1f1"
   ]
  },
  {
   "cell_type": "code",
   "execution_count": 22,
   "id": "d2520518-b8e5-4fdc-a458-5c4ddb800a21",
   "metadata": {},
   "outputs": [
    {
     "data": {
      "text/plain": [
       "{'day_mrro', 'day_mrsos', 'day_prsn', 'day_snw'}"
      ]
     },
     "execution_count": 22,
     "metadata": {},
     "output_type": "execute_result"
    }
   ],
   "source": [
    "set(freq_vars[\"r11i1p1f1\"]).difference(set(freq_vars[\"r1i1p1f1\"]))"
   ]
  },
  {
   "cell_type": "markdown",
   "id": "04bda60a-bf41-4587-aaab-6f8986b5c653",
   "metadata": {},
   "source": [
    "Now look at the opposite:"
   ]
  },
  {
   "cell_type": "code",
   "execution_count": 23,
   "id": "a20ef133-7fda-436d-9f91-fbaa59c55785",
   "metadata": {},
   "outputs": [
    {
     "data": {
      "text/plain": [
       "set()"
      ]
     },
     "execution_count": 23,
     "metadata": {},
     "output_type": "execute_result"
    }
   ],
   "source": [
    "set(freq_vars[\"r1i1p1f1\"]).difference(set(freq_vars[\"r11i1p1f1\"]))"
   ]
  },
  {
   "cell_type": "markdown",
   "id": "619f3e03-ff9f-4e82-908a-26a35bcc4b70",
   "metadata": {},
   "source": [
    "Yeah, so we will go with r11i1p1f1, as it has a couple more variables of interest."
   ]
  },
  {
   "cell_type": "markdown",
   "id": "f71a6465-84e6-4fa7-8954-5585e6bb2693",
   "metadata": {},
   "source": [
    "#### CNRM-CM6-1-HR\n",
    "\n",
    "There is only one choice here! r1i1p1f2\n",
    "\n",
    "#### EC-Earth3-Veg\n",
    "\n",
    "There are five variants here that all have 27 variable-frequency combos to check: r1i1p1f1, r12i1p1f1, r14i1p1f1, r6i1p1f1, r4i1p1f1"
   ]
  },
  {
   "cell_type": "code",
   "execution_count": 24,
   "id": "2d257202-c542-4c73-a1d4-83ad9502524d",
   "metadata": {},
   "outputs": [
    {
     "data": {
      "text/plain": [
       "(1,)"
      ]
     },
     "execution_count": 24,
     "metadata": {},
     "output_type": "execute_result"
    }
   ],
   "source": [
    "test_variants = [\"r1i1p1f1\", \"r12i1p1f1\", \"r14i1p1f1\", \"r6i1p1f1\", \"r4i1p1f1\"]\n",
    "freq_vars = (\n",
    "    valid_df.query(\"model == 'EC-Earth3-Veg' & variant in @test_variants\")\n",
    "    .groupby(\"variant\")[\"freq_var\"]\n",
    "    .apply(lambda x: list(np.unique(x)))\n",
    ")\n",
    "np.unique(freq_vars).shape\n"
   ]
  },
  {
   "cell_type": "markdown",
   "id": "38669d04-171d-4781-8248-e9ac7584f4eb",
   "metadata": {},
   "source": [
    "Again, all of these variants have the same representation, so we can just go with r1i1p1f1.\n",
    "\n",
    "#### GFDL-ESM4\n",
    "\n",
    "This model has a clear winner, with more freq-vars in every scenario than the other variants: r1i1p1f1\n",
    "\n",
    "#### HadGEM3-GC31-LL\n",
    "\n",
    "This model also has a clear winner, as there is only one variant that has data for SSP1-2.6, and it has many more variables for SSP5-8.5: r1i1p1f3\n",
    "\n",
    "#### HadGEM3-GC31-MM\n",
    "\n",
    "This one doesn't have the SSP2-4.5 scenario. We may want to consider dropping. \n",
    "\n",
    "#### KACE-1-0-G\n",
    "\n",
    "Again, a fairly clear winner here, r1i1p1f1 has more freq-vars for each scenario. \n",
    "\n",
    "#### MIROC6\n",
    "\n",
    "Another winner here, r1i1p1f1 has the most representation. \n",
    "\n",
    "#### MPI-ESM1-2-LR\n",
    "\n",
    "This one is interesting - most variants have the same representation for all scenarios. Let's see if any stand out:"
   ]
  },
  {
   "cell_type": "code",
   "execution_count": 25,
   "id": "2cf42aa7-a0ba-4596-aec6-16e19bc5ed4a",
   "metadata": {},
   "outputs": [
    {
     "data": {
      "text/plain": [
       "(1,)"
      ]
     },
     "execution_count": 25,
     "metadata": {},
     "output_type": "execute_result"
    }
   ],
   "source": [
    "freq_vars = (\n",
    "    valid_df.query(\"model == 'MPI-ESM1-2-LR'\")\n",
    "    .groupby(\"variant\")[\"freq_var\"]\n",
    "    .apply(lambda x: list(np.unique(x)))\n",
    ")\n",
    "np.unique(freq_vars).shape\n"
   ]
  },
  {
   "cell_type": "markdown",
   "id": "1baf2f33-6ece-4e6c-9e5d-e2d5fa3c9d84",
   "metadata": {},
   "source": [
    "Nope! They all have the same representation. We will go with teh classic r1i1p1f1.\n",
    "\n",
    "#### NorESM2-MM\n",
    "\n",
    "r1i1p1f1 is another winner here, as it has the most representation across scenarios. \n",
    "\n",
    "#### MPI-ESM1-2-HR\n",
    "\n",
    "This one only has historical, no ScenarioMIP data. Omit for now. \n",
    "\n",
    "#### TaiESM1\n",
    "\n",
    "Again, it's gotta be r1i1p1f1.\n",
    "\n",
    "#### CESM2-WACCM\n",
    "\n",
    "r1i1p1f1 again. \n",
    "\n",
    "However, we should compare CESM2-WACCM vs plain CESM2, using the best variant of each:"
   ]
  },
  {
   "cell_type": "code",
   "execution_count": 26,
   "id": "db0e9de3-d52e-42c4-b840-e4a7fcf7bbf8",
   "metadata": {},
   "outputs": [
    {
     "name": "stdout",
     "output_type": "stream",
     "text": [
      "Scenario: historical\n",
      "CESM2 freq_vars not in CESM2-WACCM: {'day_mrsos', 'Amon_prsn', 'day_prsn', 'day_snw', 'day_mrro'}\n",
      "CESM2-WACCM freq_vars not in CESM2: set() \n",
      "\n",
      "Scenario: ssp245\n",
      "CESM2 freq_vars not in CESM2-WACCM: {'day_mrsos', 'day_tasmax', 'Amon_prsn', 'Amon_tasmax', 'day_tasmin', 'day_prsn', 'Amon_tasmin', 'day_snw', 'day_mrro'}\n",
      "CESM2-WACCM freq_vars not in CESM2: set() \n",
      "\n",
      "Scenario: ssp585\n",
      "CESM2 freq_vars not in CESM2-WACCM: {'day_mrsos', 'day_snw', 'day_prsn'}\n",
      "CESM2-WACCM freq_vars not in CESM2: set() \n",
      "\n"
     ]
    }
   ],
   "source": [
    "for scenario in [\"historical\", \"ssp245\", \"ssp585\"]:\n",
    "    cesm2_waccm_vars = set(\n",
    "        valid_df.query(\n",
    "            \"model == 'CESM2-WACCM' & variant == 'r1i1p1f1' & scenario == @scenario\"\n",
    "        )\n",
    "        .groupby(\"variant\")[\"freq_var\"]\n",
    "        .apply(lambda x: list(np.unique(x)))\n",
    "        .values[0]\n",
    "    )\n",
    "    cesm2_vars = set(\n",
    "        valid_df.query(\n",
    "            \"model == 'CESM2' & variant == 'r11i1p1f1' & scenario == @scenario\"\n",
    "        )\n",
    "        .groupby(\"variant\")[\"freq_var\"]\n",
    "        .apply(lambda x: list(np.unique(x)))\n",
    "        .values[0]\n",
    "    )\n",
    "    print(f\"Scenario: {scenario}\")\n",
    "    print(\n",
    "        \"CESM2 freq_vars not in CESM2-WACCM:\", cesm2_vars.difference(cesm2_waccm_vars)\n",
    "    )\n",
    "    print(\n",
    "        \"CESM2-WACCM freq_vars not in CESM2:\",\n",
    "        cesm2_waccm_vars.difference(cesm2_vars),\n",
    "        \"\\n\",\n",
    "    )\n"
   ]
  },
  {
   "cell_type": "markdown",
   "id": "00a29cd6-64f2-402b-96ef-1ce9bac7c301",
   "metadata": {},
   "source": [
    "So, if we want monthly snowfall flux, daily runoff, snowfall, and snow mass, then we need to go with CESM2 instead."
   ]
  },
  {
   "cell_type": "markdown",
   "id": "131dadce-80dc-4222-a267-6b19fd387f45",
   "metadata": {},
   "source": []
  }
 ],
 "metadata": {
  "kernelspec": {
   "display_name": "Python 3 (ipykernel)",
   "language": "python",
   "name": "python3"
  },
  "language_info": {
   "codemirror_mode": {
    "name": "ipython",
    "version": 3
   },
   "file_extension": ".py",
   "mimetype": "text/x-python",
   "name": "python",
   "nbconvert_exporter": "python",
   "pygments_lexer": "ipython3",
   "version": "3.9.13"
  }
 },
 "nbformat": 4,
 "nbformat_minor": 5
}
