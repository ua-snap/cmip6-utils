{
 "cells": [
  {
   "cell_type": "markdown",
   "id": "261dbecb-7b6a-4923-9503-648f6e3d2ba4",
   "metadata": {},
   "source": [
    "# Explore ESGF holdings\n",
    "\n",
    "Use this notebook to explore the ESGF holdings. This will determine what specific simulation variants we will want to mirror on the ACDN."
   ]
  },
  {
   "cell_type": "code",
   "execution_count": 159,
   "id": "c55b7541-6976-4ac4-a8b0-dc78aac623af",
   "metadata": {},
   "outputs": [],
   "source": [
    "import pandas as pd"
   ]
  },
  {
   "cell_type": "markdown",
   "id": "0e3f8509-513b-4935-bbfd-3e0ca9aa09cf",
   "metadata": {},
   "source": [
    "Read a CSV containing info on holdings for an ESGF node (LLNL only for now):"
   ]
  },
  {
   "cell_type": "code",
   "execution_count": 160,
   "id": "4ca79f24-8fae-4cbf-a260-c99e25b2e20c",
   "metadata": {},
   "outputs": [],
   "source": [
    "df = pd.read_csv(\"llnl_esgf_holdings.csv\")"
   ]
  },
  {
   "cell_type": "markdown",
   "id": "c081824c-b323-442d-baae-20481ff0205e",
   "metadata": {},
   "source": [
    "Do any variants have more data than the others for a given model and scenario?\n",
    "\n",
    "Determine the data availability for each model, scenario, and variant, in terms of number of variables x temporal frequencies. We will combine those two fields to get an idea of representation across both daily and monthly frequencies."
   ]
  },
  {
   "cell_type": "code",
   "execution_count": 187,
   "id": "42e281d2-1a89-4345-b844-ffeb755d8057",
   "metadata": {},
   "outputs": [],
   "source": [
    "# create a column that is just a concatenation of temnporal frequency and vairbale name to simplify\n",
    "df[\"freq_var\"] = df[\"frequency\"] + \"_\" + df[\"variable\"]"
   ]
  },
  {
   "cell_type": "markdown",
   "id": "489c4ca8-e477-4759-a233-f6c311ecd45c",
   "metadata": {},
   "source": [
    "Next, group by mode, scenario, and variant and tally the number of unique variable-frequency combinations:"
   ]
  },
  {
   "cell_type": "code",
   "execution_count": 242,
   "id": "7905c1b8-db06-4d42-9d08-6cbf9fd814f2",
   "metadata": {},
   "outputs": [],
   "source": [
    "rep_df = pd.DataFrame(\n",
    "    df[df[\"grid_type\"].notna()].groupby([\"model\", \"scenario\", \"variant\"])[\"freq_var\"].nunique()\n",
    ")"
   ]
  },
  {
   "cell_type": "markdown",
   "id": "5ea4fb12-05c4-49a5-bde5-c1320395450d",
   "metadata": {},
   "source": [
    "Then, for each model, see if there are any variants that have the max representation for all desired scenarios:"
   ]
  },
  {
   "cell_type": "code",
   "execution_count": 246,
   "id": "87dbfab0-5f5f-4552-b505-7bf6362dc93e",
   "metadata": {},
   "outputs": [
    {
     "name": "stdout",
     "output_type": "stream",
     "text": [
      "ACCESS-CM2 ['r1i1p1f1' 'r4i1p1f1' 'r5i1p1f1'] \n",
      "\n",
      "CESM2 ['r11i1p1f1' 'r2i1p1f1'] \n",
      "\n",
      "CNRM-CM6-1-HR ['r1i1p1f2'] \n",
      "\n",
      "EC-Earth3-Veg ['r10i1p1f1' 'r12i1p1f1' 'r14i1p1f1' 'r1i1p1f1' 'r2i1p1f1' 'r3i1p1f1'\n",
      " 'r4i1p1f1' 'r5i1p1f1' 'r6i1p1f1'] \n",
      "\n",
      "GFDL-ESM4 ['r1i1p1f1'] \n",
      "\n",
      "HadGEM3-GC31-LL ['r1i1p1f3' 'r2i1p1f3' 'r3i1p1f3' 'r4i1p1f3' 'r5i1p1f3'] \n",
      "\n",
      "HadGEM3-GC31-MM ['r1i1p1f3' 'r4i1p1f3'] \n",
      "\n",
      "KACE-1-0-G ['r1i1p1f1'] \n",
      "\n",
      "MIROC6 ['r10i1p1f1' 'r1i1p1f1' 'r2i1p1f1' 'r3i1p1f1' 'r4i1p1f1' 'r5i1p1f1'\n",
      " 'r6i1p1f1' 'r7i1p1f1' 'r8i1p1f1' 'r9i1p1f1'] \n",
      "\n",
      "MPI-ESM1-2-LR ['r10i1p1f1' 'r11i1p1f1' 'r12i1p1f1' 'r13i1p1f1' 'r14i1p1f1' 'r15i1p1f1'\n",
      " 'r16i1p1f1' 'r17i1p1f1' 'r18i1p1f1' 'r19i1p1f1' 'r1i1p1f1' 'r1i2000p1f1'\n",
      " 'r20i1p1f1' 'r21i1p1f1' 'r22i1p1f1' 'r23i1p1f1' 'r24i1p1f1' 'r25i1p1f1'\n",
      " 'r26i1p1f1' 'r27i1p1f1' 'r28i1p1f1' 'r29i1p1f1' 'r2i1p1f1' 'r30i1p1f1'\n",
      " 'r3i1p1f1' 'r4i1p1f1' 'r5i1p1f1' 'r6i1p1f1' 'r7i1p1f1' 'r8i1p1f1'\n",
      " 'r9i1p1f1'] \n",
      "\n",
      "NorESM2-MM ['r1i1p1f1' 'r2i1p1f1' 'r3i1p1f1'] \n",
      "\n"
     ]
    }
   ],
   "source": [
    "models = df.model.unique()\n",
    "\n",
    "# unique sorted list of scenarios represented for each variant should be this if all desired scenarios are present\n",
    "target_scenarios = [\"historical\", \"ssp126\", \"ssp245\", \"ssp370\", \"ssp585\"]\n",
    "\n",
    "for model in models:\n",
    "    model_df = rep_df.loc[model]\n",
    "    max_rep = model_df.max()\n",
    "\n",
    "    # I guess first check if there is the ideal situation, which is max representation for all 5 scenarios\n",
    "    # iterate over variants to achieve this\n",
    "    # max rep variants DataFrame\n",
    "    mrv_df = model_df[model_df >= max_rep].dropna().reset_index()\n",
    "    \n",
    "    best_variants = mrv_df.groupby(\"variant\")[\"scenario\"].unique().apply(sorted).isin([target_scenarios]).index.values\n",
    "    print(model, best_variants, \"\\n\")"
   ]
  },
  {
   "cell_type": "markdown",
   "id": "54b650c2-aa23-4765-9f6b-f7009bfae21e",
   "metadata": {},
   "source": [
    "Wow, it looks like all of the models have at least one scenario that has the most variable-frequency combinations within a modfel available for all scenarios. This is **nice**."
   ]
  },
  {
   "cell_type": "code",
   "execution_count": null,
   "id": "3f435723-66b2-40a6-b68a-c2f9af62d256",
   "metadata": {},
   "outputs": [],
   "source": []
  }
 ],
 "metadata": {
  "kernelspec": {
   "display_name": "Python 3 (ipykernel)",
   "language": "python",
   "name": "python3"
  },
  "language_info": {
   "codemirror_mode": {
    "name": "ipython",
    "version": 3
   },
   "file_extension": ".py",
   "mimetype": "text/x-python",
   "name": "python",
   "nbconvert_exporter": "python",
   "pygments_lexer": "ipython3",
   "version": "3.9.13"
  }
 },
 "nbformat": 4,
 "nbformat_minor": 5
}
