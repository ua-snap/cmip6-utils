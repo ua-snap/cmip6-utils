{
 "cells": [
  {
   "cell_type": "code",
   "execution_count": 78,
   "id": "452f638a",
   "metadata": {},
   "outputs": [],
   "source": [
    "import xarray as xr\n",
    "from pathlib import Path\n",
    "\n",
    "# local imports\n",
    "# go up one directory to get the config file\n",
    "import sys\n",
    "sys.path.append(\"..\")\n",
    "from transfers.config import prod_variant_lu"
   ]
  },
  {
   "cell_type": "code",
   "execution_count": 74,
   "id": "da458e46",
   "metadata": {},
   "outputs": [],
   "source": [
    "adjusted_dir = Path(\"/beegfs/CMIP6/jdpaul3/cmip6_4km_downscaling/adjusted\")\n",
    "output_dir = Path(\"/beegfs/CMIP6/jdpaul3/cmip6_4km_downscaling/adjusted_reformatted\")"
   ]
  },
  {
   "cell_type": "code",
   "execution_count": 75,
   "id": "6f9328b5",
   "metadata": {},
   "outputs": [],
   "source": [
    "# list zarr files\n",
    "files = list(adjusted_dir.glob(\"**/*.zarr\"))\n",
    "files.sort()"
   ]
  },
  {
   "cell_type": "code",
   "execution_count": 76,
   "id": "a4166888",
   "metadata": {},
   "outputs": [],
   "source": [
    "# variables need to be in order (time, y, x, ensemble) to match CF conventions\n",
    "# create function to do this to each dataset\n",
    "def reorder_vars(ds):\n",
    "    return ds.transpose(\"time\", \"y\", \"x\", \"ensemble\")\n",
    "\n",
    "# each file needs a new \"ensemble\" dimensions that includes variant and scenario label like <model_variant_scenario>\n",
    "# we can get this from the filename\n",
    "# filename is like <variable>_<model>_<scenario>_adjusted.zarr\n",
    "# and the variant is in the prod_variant_lu dict which uses the model as key\n",
    "\n",
    "def get_ensemble_str_from_filename(file, prod_variant_lu):\n",
    "    model = file.name.split(\"_\")[1]\n",
    "    scenario = file.name.split(\"_\")[2]\n",
    "    try:\n",
    "        variant = prod_variant_lu[model]\n",
    "    except KeyError:\n",
    "        print(f\"Warning: model {model} not found in variant lookup table, setting variant to 'unknown'!\")\n",
    "        variant = \"unknown\"  # default if not found ... we can look for this later on during QC\n",
    "    ensemble_str = f\"{model}_{variant}_{scenario}\"\n",
    "    return ensemble_str\n",
    "\n",
    "# create function to add ensemble dimension\n",
    "def add_ensemble_dim(ds, ensemble_str):\n",
    "    ds = ds.expand_dims({\"ensemble\": [ensemble_str]})\n",
    "    return ds\n",
    "\n",
    "\n",
    "# drop attributes that are not 'contact', 'creation_date', or 'history'\n",
    "def clean_attrs(ds):\n",
    "    attrs_to_keep = [\"contact\", \"creation_date\", \"history\"]\n",
    "    attrs_to_drop = [attr for attr in ds.attrs if attr not in attrs_to_keep]\n",
    "    ds.attrs = {attr: ds.attrs[attr] for attr in attrs_to_keep if attr in ds.attrs}\n",
    "    return ds\n",
    "\n",
    "# wrapper for all functions\n",
    "def process_file(file, prod_variant_lu):\n",
    "    ds = xr.open_zarr(file, chunks=\"auto\")\n",
    "    ds = clean_attrs(ds)\n",
    "    ensemble_str = get_ensemble_str_from_filename(file, prod_variant_lu)\n",
    "    ds = add_ensemble_dim(ds, ensemble_str)\n",
    "    ds = reorder_vars(ds)\n",
    "    return ds\n",
    "\n"
   ]
  },
  {
   "cell_type": "code",
   "execution_count": null,
   "id": "a8573670",
   "metadata": {},
   "outputs": [
    {
     "name": "stdout",
     "output_type": "stream",
     "text": [
      "Processing /beegfs/CMIP6/jdpaul3/cmip6_4km_downscaling/adjusted/dtr_EC-Earth3-Veg_historical_adjusted.zarr...\n",
      "File processed successfully!\n",
      "Saved to /beegfs/CMIP6/jdpaul3/cmip6_4km_downscaling/adjusted_reformatted/dtr_EC-Earth3-Veg_historical_adjusted.zarr\n",
      "Processing /beegfs/CMIP6/jdpaul3/cmip6_4km_downscaling/adjusted/dtr_EC-Earth3-Veg_ssp370_adjusted.zarr...\n",
      "File processed successfully!\n",
      "Saved to /beegfs/CMIP6/jdpaul3/cmip6_4km_downscaling/adjusted_reformatted/dtr_EC-Earth3-Veg_ssp370_adjusted.zarr\n",
      "Processing /beegfs/CMIP6/jdpaul3/cmip6_4km_downscaling/adjusted/dtr_EC-Earth3-Veg_ssp585_adjusted.zarr...\n",
      "File processed successfully!\n",
      "Saved to /beegfs/CMIP6/jdpaul3/cmip6_4km_downscaling/adjusted_reformatted/dtr_EC-Earth3-Veg_ssp585_adjusted.zarr\n",
      "Processing /beegfs/CMIP6/jdpaul3/cmip6_4km_downscaling/adjusted/pr_EC-Earth3-Veg_historical_adjusted.zarr...\n",
      "File processed successfully!\n",
      "Saved to /beegfs/CMIP6/jdpaul3/cmip6_4km_downscaling/adjusted_reformatted/pr_EC-Earth3-Veg_historical_adjusted.zarr\n",
      "Processing /beegfs/CMIP6/jdpaul3/cmip6_4km_downscaling/adjusted/pr_EC-Earth3-Veg_ssp126_adjusted.zarr...\n",
      "File processed successfully!\n",
      "Saved to /beegfs/CMIP6/jdpaul3/cmip6_4km_downscaling/adjusted_reformatted/pr_EC-Earth3-Veg_ssp126_adjusted.zarr\n",
      "Processing /beegfs/CMIP6/jdpaul3/cmip6_4km_downscaling/adjusted/pr_EC-Earth3-Veg_ssp370_adjusted.zarr...\n",
      "File processed successfully!\n",
      "Saved to /beegfs/CMIP6/jdpaul3/cmip6_4km_downscaling/adjusted_reformatted/pr_EC-Earth3-Veg_ssp370_adjusted.zarr\n",
      "Processing /beegfs/CMIP6/jdpaul3/cmip6_4km_downscaling/adjusted/pr_EC-Earth3-Veg_ssp585_adjusted.zarr...\n",
      "File processed successfully!\n",
      "Saved to /beegfs/CMIP6/jdpaul3/cmip6_4km_downscaling/adjusted_reformatted/pr_EC-Earth3-Veg_ssp585_adjusted.zarr\n",
      "Processing /beegfs/CMIP6/jdpaul3/cmip6_4km_downscaling/adjusted/tasmax_EC-Earth3-Veg_historical_adjusted.zarr...\n",
      "File processed successfully!\n",
      "Saved to /beegfs/CMIP6/jdpaul3/cmip6_4km_downscaling/adjusted_reformatted/tasmax_EC-Earth3-Veg_historical_adjusted.zarr\n",
      "Processing /beegfs/CMIP6/jdpaul3/cmip6_4km_downscaling/adjusted/tasmax_EC-Earth3-Veg_ssp370_adjusted.zarr...\n",
      "File processed successfully!\n",
      "Saved to /beegfs/CMIP6/jdpaul3/cmip6_4km_downscaling/adjusted_reformatted/tasmax_EC-Earth3-Veg_ssp370_adjusted.zarr\n",
      "Processing /beegfs/CMIP6/jdpaul3/cmip6_4km_downscaling/adjusted/tasmax_EC-Earth3-Veg_ssp585_adjusted.zarr...\n",
      "File processed successfully!\n",
      "Saved to /beegfs/CMIP6/jdpaul3/cmip6_4km_downscaling/adjusted_reformatted/tasmax_EC-Earth3-Veg_ssp585_adjusted.zarr\n",
      "Processing /beegfs/CMIP6/jdpaul3/cmip6_4km_downscaling/adjusted/tasmin_EC-Earth3-Veg_historical_adjusted.zarr...\n",
      "File processed successfully!\n",
      "Saved to /beegfs/CMIP6/jdpaul3/cmip6_4km_downscaling/adjusted_reformatted/tasmin_EC-Earth3-Veg_historical_adjusted.zarr\n",
      "Processing /beegfs/CMIP6/jdpaul3/cmip6_4km_downscaling/adjusted/tasmin_EC-Earth3-Veg_ssp126_adjusted.zarr...\n",
      "File processed successfully!\n",
      "Saved to /beegfs/CMIP6/jdpaul3/cmip6_4km_downscaling/adjusted_reformatted/tasmin_EC-Earth3-Veg_ssp126_adjusted.zarr\n",
      "Processing /beegfs/CMIP6/jdpaul3/cmip6_4km_downscaling/adjusted/tasmin_EC-Earth3-Veg_ssp370_adjusted.zarr...\n",
      "File processed successfully!\n",
      "Saved to /beegfs/CMIP6/jdpaul3/cmip6_4km_downscaling/adjusted_reformatted/tasmin_EC-Earth3-Veg_ssp370_adjusted.zarr\n",
      "Processing /beegfs/CMIP6/jdpaul3/cmip6_4km_downscaling/adjusted/tasmin_EC-Earth3-Veg_ssp585_adjusted.zarr...\n",
      "File processed successfully!\n",
      "Saved to /beegfs/CMIP6/jdpaul3/cmip6_4km_downscaling/adjusted_reformatted/tasmin_EC-Earth3-Veg_ssp585_adjusted.zarr\n",
      "Processing complete. Success: 14, Failure: 0\n"
     ]
    }
   ],
   "source": [
    "# process datasets and save to new zarr files\n",
    "# creating output directory if it doesn't exist\n",
    "\n",
    "success_count = 0\n",
    "failure_count = 0\n",
    "\n",
    "output_dir.mkdir(parents=True, exist_ok=True)\n",
    "for file in files:\n",
    "    print(f\"Processing {file}...\")\n",
    "    try:\n",
    "        ds = process_file(file, prod_variant_lu)\n",
    "        print(f\"File processed successfully!\")\n",
    "        success_count += 1\n",
    "    except:\n",
    "        print(f\"File could not be processed!\")\n",
    "        failure_count += 1\n",
    "    output_file = output_dir / file.name\n",
    "    ds.to_zarr(output_file, mode=\"w\")\n",
    "    ds.close()\n",
    "    print(f\"Saved to {output_file}\")\n",
    "\n",
    "print(f\"\\n\\nProcessing complete. Success: {success_count}, Failure: {failure_count}\")"
   ]
  }
 ],
 "metadata": {
  "kernelspec": {
   "display_name": "snap-geo",
   "language": "python",
   "name": "python3"
  },
  "language_info": {
   "codemirror_mode": {
    "name": "ipython",
    "version": 3
   },
   "file_extension": ".py",
   "mimetype": "text/x-python",
   "name": "python",
   "nbconvert_exporter": "python",
   "pygments_lexer": "ipython3",
   "version": "3.11.6"
  }
 },
 "nbformat": 4,
 "nbformat_minor": 5
}
